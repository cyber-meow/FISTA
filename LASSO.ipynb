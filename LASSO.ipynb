{
 "cells": [
  {
   "cell_type": "code",
   "execution_count": 1,
   "metadata": {},
   "outputs": [],
   "source": [
    "import numpy as np\n",
    "import matplotlib.pyplot as plt\n",
    "import pandas as pd"
   ]
  },
  {
   "cell_type": "markdown",
   "metadata": {},
   "source": [
    "# Investigate Dataset"
   ]
  },
  {
   "cell_type": "code",
   "execution_count": 2,
   "metadata": {},
   "outputs": [],
   "source": [
    "from sklearn.datasets import fetch_covtype\n",
    "from sklearn.model_selection import train_test_split\n",
    "from sklearn.preprocessing import StandardScaler"
   ]
  },
  {
   "cell_type": "code",
   "execution_count": 3,
   "metadata": {},
   "outputs": [],
   "source": [
    "covtype = fetch_covtype()"
   ]
  },
  {
   "cell_type": "code",
   "execution_count": 4,
   "metadata": {},
   "outputs": [
    {
     "data": {
      "text/plain": [
       "(581012, 54)"
      ]
     },
     "execution_count": 4,
     "metadata": {},
     "output_type": "execute_result"
    }
   ],
   "source": [
    "covtype.data.shape"
   ]
  },
  {
   "cell_type": "code",
   "execution_count": 5,
   "metadata": {},
   "outputs": [
    {
     "data": {
      "text/plain": [
       "(581012,)"
      ]
     },
     "execution_count": 5,
     "metadata": {},
     "output_type": "execute_result"
    }
   ],
   "source": [
    "covtype.target.shape"
   ]
  },
  {
   "cell_type": "code",
   "execution_count": 14,
   "metadata": {
    "scrolled": true
   },
   "outputs": [
    {
     "data": {
      "text/html": [
       "<div>\n",
       "<style scoped>\n",
       "    .dataframe tbody tr th:only-of-type {\n",
       "        vertical-align: middle;\n",
       "    }\n",
       "\n",
       "    .dataframe tbody tr th {\n",
       "        vertical-align: top;\n",
       "    }\n",
       "\n",
       "    .dataframe thead th {\n",
       "        text-align: right;\n",
       "    }\n",
       "</style>\n",
       "<table border=\"1\" class=\"dataframe\">\n",
       "  <thead>\n",
       "    <tr style=\"text-align: right;\">\n",
       "      <th></th>\n",
       "      <th>0</th>\n",
       "      <th>1</th>\n",
       "      <th>2</th>\n",
       "      <th>3</th>\n",
       "      <th>4</th>\n",
       "      <th>5</th>\n",
       "      <th>6</th>\n",
       "      <th>7</th>\n",
       "      <th>8</th>\n",
       "      <th>9</th>\n",
       "      <th>...</th>\n",
       "      <th>44</th>\n",
       "      <th>45</th>\n",
       "      <th>46</th>\n",
       "      <th>47</th>\n",
       "      <th>48</th>\n",
       "      <th>49</th>\n",
       "      <th>50</th>\n",
       "      <th>51</th>\n",
       "      <th>52</th>\n",
       "      <th>53</th>\n",
       "    </tr>\n",
       "  </thead>\n",
       "  <tbody>\n",
       "    <tr>\n",
       "      <th>0</th>\n",
       "      <td>2596.0</td>\n",
       "      <td>51.0</td>\n",
       "      <td>3.0</td>\n",
       "      <td>258.0</td>\n",
       "      <td>0.0</td>\n",
       "      <td>510.0</td>\n",
       "      <td>221.0</td>\n",
       "      <td>232.0</td>\n",
       "      <td>148.0</td>\n",
       "      <td>6279.0</td>\n",
       "      <td>...</td>\n",
       "      <td>0.0</td>\n",
       "      <td>0.0</td>\n",
       "      <td>0.0</td>\n",
       "      <td>0.0</td>\n",
       "      <td>0.0</td>\n",
       "      <td>0.0</td>\n",
       "      <td>0.0</td>\n",
       "      <td>0.0</td>\n",
       "      <td>0.0</td>\n",
       "      <td>0.0</td>\n",
       "    </tr>\n",
       "    <tr>\n",
       "      <th>1</th>\n",
       "      <td>2590.0</td>\n",
       "      <td>56.0</td>\n",
       "      <td>2.0</td>\n",
       "      <td>212.0</td>\n",
       "      <td>-6.0</td>\n",
       "      <td>390.0</td>\n",
       "      <td>220.0</td>\n",
       "      <td>235.0</td>\n",
       "      <td>151.0</td>\n",
       "      <td>6225.0</td>\n",
       "      <td>...</td>\n",
       "      <td>0.0</td>\n",
       "      <td>0.0</td>\n",
       "      <td>0.0</td>\n",
       "      <td>0.0</td>\n",
       "      <td>0.0</td>\n",
       "      <td>0.0</td>\n",
       "      <td>0.0</td>\n",
       "      <td>0.0</td>\n",
       "      <td>0.0</td>\n",
       "      <td>0.0</td>\n",
       "    </tr>\n",
       "    <tr>\n",
       "      <th>2</th>\n",
       "      <td>2804.0</td>\n",
       "      <td>139.0</td>\n",
       "      <td>9.0</td>\n",
       "      <td>268.0</td>\n",
       "      <td>65.0</td>\n",
       "      <td>3180.0</td>\n",
       "      <td>234.0</td>\n",
       "      <td>238.0</td>\n",
       "      <td>135.0</td>\n",
       "      <td>6121.0</td>\n",
       "      <td>...</td>\n",
       "      <td>0.0</td>\n",
       "      <td>0.0</td>\n",
       "      <td>0.0</td>\n",
       "      <td>0.0</td>\n",
       "      <td>0.0</td>\n",
       "      <td>0.0</td>\n",
       "      <td>0.0</td>\n",
       "      <td>0.0</td>\n",
       "      <td>0.0</td>\n",
       "      <td>0.0</td>\n",
       "    </tr>\n",
       "    <tr>\n",
       "      <th>3</th>\n",
       "      <td>2785.0</td>\n",
       "      <td>155.0</td>\n",
       "      <td>18.0</td>\n",
       "      <td>242.0</td>\n",
       "      <td>118.0</td>\n",
       "      <td>3090.0</td>\n",
       "      <td>238.0</td>\n",
       "      <td>238.0</td>\n",
       "      <td>122.0</td>\n",
       "      <td>6211.0</td>\n",
       "      <td>...</td>\n",
       "      <td>0.0</td>\n",
       "      <td>0.0</td>\n",
       "      <td>0.0</td>\n",
       "      <td>0.0</td>\n",
       "      <td>0.0</td>\n",
       "      <td>0.0</td>\n",
       "      <td>0.0</td>\n",
       "      <td>0.0</td>\n",
       "      <td>0.0</td>\n",
       "      <td>0.0</td>\n",
       "    </tr>\n",
       "    <tr>\n",
       "      <th>4</th>\n",
       "      <td>2595.0</td>\n",
       "      <td>45.0</td>\n",
       "      <td>2.0</td>\n",
       "      <td>153.0</td>\n",
       "      <td>-1.0</td>\n",
       "      <td>391.0</td>\n",
       "      <td>220.0</td>\n",
       "      <td>234.0</td>\n",
       "      <td>150.0</td>\n",
       "      <td>6172.0</td>\n",
       "      <td>...</td>\n",
       "      <td>0.0</td>\n",
       "      <td>0.0</td>\n",
       "      <td>0.0</td>\n",
       "      <td>0.0</td>\n",
       "      <td>0.0</td>\n",
       "      <td>0.0</td>\n",
       "      <td>0.0</td>\n",
       "      <td>0.0</td>\n",
       "      <td>0.0</td>\n",
       "      <td>0.0</td>\n",
       "    </tr>\n",
       "    <tr>\n",
       "      <th>5</th>\n",
       "      <td>2579.0</td>\n",
       "      <td>132.0</td>\n",
       "      <td>6.0</td>\n",
       "      <td>300.0</td>\n",
       "      <td>-15.0</td>\n",
       "      <td>67.0</td>\n",
       "      <td>230.0</td>\n",
       "      <td>237.0</td>\n",
       "      <td>140.0</td>\n",
       "      <td>6031.0</td>\n",
       "      <td>...</td>\n",
       "      <td>0.0</td>\n",
       "      <td>0.0</td>\n",
       "      <td>0.0</td>\n",
       "      <td>0.0</td>\n",
       "      <td>0.0</td>\n",
       "      <td>0.0</td>\n",
       "      <td>0.0</td>\n",
       "      <td>0.0</td>\n",
       "      <td>0.0</td>\n",
       "      <td>0.0</td>\n",
       "    </tr>\n",
       "    <tr>\n",
       "      <th>6</th>\n",
       "      <td>2606.0</td>\n",
       "      <td>45.0</td>\n",
       "      <td>7.0</td>\n",
       "      <td>270.0</td>\n",
       "      <td>5.0</td>\n",
       "      <td>633.0</td>\n",
       "      <td>222.0</td>\n",
       "      <td>225.0</td>\n",
       "      <td>138.0</td>\n",
       "      <td>6256.0</td>\n",
       "      <td>...</td>\n",
       "      <td>0.0</td>\n",
       "      <td>0.0</td>\n",
       "      <td>0.0</td>\n",
       "      <td>0.0</td>\n",
       "      <td>0.0</td>\n",
       "      <td>0.0</td>\n",
       "      <td>0.0</td>\n",
       "      <td>0.0</td>\n",
       "      <td>0.0</td>\n",
       "      <td>0.0</td>\n",
       "    </tr>\n",
       "    <tr>\n",
       "      <th>7</th>\n",
       "      <td>2605.0</td>\n",
       "      <td>49.0</td>\n",
       "      <td>4.0</td>\n",
       "      <td>234.0</td>\n",
       "      <td>7.0</td>\n",
       "      <td>573.0</td>\n",
       "      <td>222.0</td>\n",
       "      <td>230.0</td>\n",
       "      <td>144.0</td>\n",
       "      <td>6228.0</td>\n",
       "      <td>...</td>\n",
       "      <td>0.0</td>\n",
       "      <td>0.0</td>\n",
       "      <td>0.0</td>\n",
       "      <td>0.0</td>\n",
       "      <td>0.0</td>\n",
       "      <td>0.0</td>\n",
       "      <td>0.0</td>\n",
       "      <td>0.0</td>\n",
       "      <td>0.0</td>\n",
       "      <td>0.0</td>\n",
       "    </tr>\n",
       "    <tr>\n",
       "      <th>8</th>\n",
       "      <td>2617.0</td>\n",
       "      <td>45.0</td>\n",
       "      <td>9.0</td>\n",
       "      <td>240.0</td>\n",
       "      <td>56.0</td>\n",
       "      <td>666.0</td>\n",
       "      <td>223.0</td>\n",
       "      <td>221.0</td>\n",
       "      <td>133.0</td>\n",
       "      <td>6244.0</td>\n",
       "      <td>...</td>\n",
       "      <td>0.0</td>\n",
       "      <td>0.0</td>\n",
       "      <td>0.0</td>\n",
       "      <td>0.0</td>\n",
       "      <td>0.0</td>\n",
       "      <td>0.0</td>\n",
       "      <td>0.0</td>\n",
       "      <td>0.0</td>\n",
       "      <td>0.0</td>\n",
       "      <td>0.0</td>\n",
       "    </tr>\n",
       "    <tr>\n",
       "      <th>9</th>\n",
       "      <td>2612.0</td>\n",
       "      <td>59.0</td>\n",
       "      <td>10.0</td>\n",
       "      <td>247.0</td>\n",
       "      <td>11.0</td>\n",
       "      <td>636.0</td>\n",
       "      <td>228.0</td>\n",
       "      <td>219.0</td>\n",
       "      <td>124.0</td>\n",
       "      <td>6230.0</td>\n",
       "      <td>...</td>\n",
       "      <td>0.0</td>\n",
       "      <td>0.0</td>\n",
       "      <td>0.0</td>\n",
       "      <td>0.0</td>\n",
       "      <td>0.0</td>\n",
       "      <td>0.0</td>\n",
       "      <td>0.0</td>\n",
       "      <td>0.0</td>\n",
       "      <td>0.0</td>\n",
       "      <td>0.0</td>\n",
       "    </tr>\n",
       "    <tr>\n",
       "      <th>10</th>\n",
       "      <td>2612.0</td>\n",
       "      <td>201.0</td>\n",
       "      <td>4.0</td>\n",
       "      <td>180.0</td>\n",
       "      <td>51.0</td>\n",
       "      <td>735.0</td>\n",
       "      <td>218.0</td>\n",
       "      <td>243.0</td>\n",
       "      <td>161.0</td>\n",
       "      <td>6222.0</td>\n",
       "      <td>...</td>\n",
       "      <td>0.0</td>\n",
       "      <td>0.0</td>\n",
       "      <td>0.0</td>\n",
       "      <td>0.0</td>\n",
       "      <td>0.0</td>\n",
       "      <td>0.0</td>\n",
       "      <td>0.0</td>\n",
       "      <td>0.0</td>\n",
       "      <td>0.0</td>\n",
       "      <td>0.0</td>\n",
       "    </tr>\n",
       "    <tr>\n",
       "      <th>11</th>\n",
       "      <td>2886.0</td>\n",
       "      <td>151.0</td>\n",
       "      <td>11.0</td>\n",
       "      <td>371.0</td>\n",
       "      <td>26.0</td>\n",
       "      <td>5253.0</td>\n",
       "      <td>234.0</td>\n",
       "      <td>240.0</td>\n",
       "      <td>136.0</td>\n",
       "      <td>4051.0</td>\n",
       "      <td>...</td>\n",
       "      <td>0.0</td>\n",
       "      <td>0.0</td>\n",
       "      <td>0.0</td>\n",
       "      <td>0.0</td>\n",
       "      <td>0.0</td>\n",
       "      <td>0.0</td>\n",
       "      <td>0.0</td>\n",
       "      <td>0.0</td>\n",
       "      <td>0.0</td>\n",
       "      <td>0.0</td>\n",
       "    </tr>\n",
       "    <tr>\n",
       "      <th>12</th>\n",
       "      <td>2742.0</td>\n",
       "      <td>134.0</td>\n",
       "      <td>22.0</td>\n",
       "      <td>150.0</td>\n",
       "      <td>69.0</td>\n",
       "      <td>3215.0</td>\n",
       "      <td>248.0</td>\n",
       "      <td>224.0</td>\n",
       "      <td>92.0</td>\n",
       "      <td>6091.0</td>\n",
       "      <td>...</td>\n",
       "      <td>0.0</td>\n",
       "      <td>0.0</td>\n",
       "      <td>0.0</td>\n",
       "      <td>0.0</td>\n",
       "      <td>0.0</td>\n",
       "      <td>0.0</td>\n",
       "      <td>0.0</td>\n",
       "      <td>0.0</td>\n",
       "      <td>0.0</td>\n",
       "      <td>0.0</td>\n",
       "    </tr>\n",
       "    <tr>\n",
       "      <th>13</th>\n",
       "      <td>2609.0</td>\n",
       "      <td>214.0</td>\n",
       "      <td>7.0</td>\n",
       "      <td>150.0</td>\n",
       "      <td>46.0</td>\n",
       "      <td>771.0</td>\n",
       "      <td>213.0</td>\n",
       "      <td>247.0</td>\n",
       "      <td>170.0</td>\n",
       "      <td>6211.0</td>\n",
       "      <td>...</td>\n",
       "      <td>0.0</td>\n",
       "      <td>0.0</td>\n",
       "      <td>0.0</td>\n",
       "      <td>0.0</td>\n",
       "      <td>0.0</td>\n",
       "      <td>0.0</td>\n",
       "      <td>0.0</td>\n",
       "      <td>0.0</td>\n",
       "      <td>0.0</td>\n",
       "      <td>0.0</td>\n",
       "    </tr>\n",
       "    <tr>\n",
       "      <th>14</th>\n",
       "      <td>2503.0</td>\n",
       "      <td>157.0</td>\n",
       "      <td>4.0</td>\n",
       "      <td>67.0</td>\n",
       "      <td>4.0</td>\n",
       "      <td>674.0</td>\n",
       "      <td>224.0</td>\n",
       "      <td>240.0</td>\n",
       "      <td>151.0</td>\n",
       "      <td>5600.0</td>\n",
       "      <td>...</td>\n",
       "      <td>0.0</td>\n",
       "      <td>0.0</td>\n",
       "      <td>0.0</td>\n",
       "      <td>0.0</td>\n",
       "      <td>0.0</td>\n",
       "      <td>0.0</td>\n",
       "      <td>0.0</td>\n",
       "      <td>0.0</td>\n",
       "      <td>0.0</td>\n",
       "      <td>0.0</td>\n",
       "    </tr>\n",
       "    <tr>\n",
       "      <th>15</th>\n",
       "      <td>2495.0</td>\n",
       "      <td>51.0</td>\n",
       "      <td>7.0</td>\n",
       "      <td>42.0</td>\n",
       "      <td>2.0</td>\n",
       "      <td>752.0</td>\n",
       "      <td>224.0</td>\n",
       "      <td>225.0</td>\n",
       "      <td>137.0</td>\n",
       "      <td>5576.0</td>\n",
       "      <td>...</td>\n",
       "      <td>0.0</td>\n",
       "      <td>0.0</td>\n",
       "      <td>0.0</td>\n",
       "      <td>0.0</td>\n",
       "      <td>0.0</td>\n",
       "      <td>0.0</td>\n",
       "      <td>0.0</td>\n",
       "      <td>0.0</td>\n",
       "      <td>0.0</td>\n",
       "      <td>0.0</td>\n",
       "    </tr>\n",
       "    <tr>\n",
       "      <th>16</th>\n",
       "      <td>2610.0</td>\n",
       "      <td>259.0</td>\n",
       "      <td>1.0</td>\n",
       "      <td>120.0</td>\n",
       "      <td>-1.0</td>\n",
       "      <td>607.0</td>\n",
       "      <td>216.0</td>\n",
       "      <td>239.0</td>\n",
       "      <td>161.0</td>\n",
       "      <td>6096.0</td>\n",
       "      <td>...</td>\n",
       "      <td>0.0</td>\n",
       "      <td>0.0</td>\n",
       "      <td>0.0</td>\n",
       "      <td>0.0</td>\n",
       "      <td>0.0</td>\n",
       "      <td>0.0</td>\n",
       "      <td>0.0</td>\n",
       "      <td>0.0</td>\n",
       "      <td>0.0</td>\n",
       "      <td>0.0</td>\n",
       "    </tr>\n",
       "    <tr>\n",
       "      <th>17</th>\n",
       "      <td>2517.0</td>\n",
       "      <td>72.0</td>\n",
       "      <td>7.0</td>\n",
       "      <td>85.0</td>\n",
       "      <td>6.0</td>\n",
       "      <td>595.0</td>\n",
       "      <td>228.0</td>\n",
       "      <td>227.0</td>\n",
       "      <td>133.0</td>\n",
       "      <td>5607.0</td>\n",
       "      <td>...</td>\n",
       "      <td>0.0</td>\n",
       "      <td>0.0</td>\n",
       "      <td>0.0</td>\n",
       "      <td>0.0</td>\n",
       "      <td>0.0</td>\n",
       "      <td>0.0</td>\n",
       "      <td>0.0</td>\n",
       "      <td>0.0</td>\n",
       "      <td>0.0</td>\n",
       "      <td>0.0</td>\n",
       "    </tr>\n",
       "    <tr>\n",
       "      <th>18</th>\n",
       "      <td>2504.0</td>\n",
       "      <td>0.0</td>\n",
       "      <td>4.0</td>\n",
       "      <td>95.0</td>\n",
       "      <td>5.0</td>\n",
       "      <td>691.0</td>\n",
       "      <td>214.0</td>\n",
       "      <td>232.0</td>\n",
       "      <td>156.0</td>\n",
       "      <td>5572.0</td>\n",
       "      <td>...</td>\n",
       "      <td>0.0</td>\n",
       "      <td>0.0</td>\n",
       "      <td>0.0</td>\n",
       "      <td>0.0</td>\n",
       "      <td>0.0</td>\n",
       "      <td>0.0</td>\n",
       "      <td>0.0</td>\n",
       "      <td>0.0</td>\n",
       "      <td>0.0</td>\n",
       "      <td>0.0</td>\n",
       "    </tr>\n",
       "    <tr>\n",
       "      <th>19</th>\n",
       "      <td>2503.0</td>\n",
       "      <td>38.0</td>\n",
       "      <td>5.0</td>\n",
       "      <td>85.0</td>\n",
       "      <td>10.0</td>\n",
       "      <td>741.0</td>\n",
       "      <td>220.0</td>\n",
       "      <td>228.0</td>\n",
       "      <td>144.0</td>\n",
       "      <td>5555.0</td>\n",
       "      <td>...</td>\n",
       "      <td>0.0</td>\n",
       "      <td>0.0</td>\n",
       "      <td>0.0</td>\n",
       "      <td>0.0</td>\n",
       "      <td>0.0</td>\n",
       "      <td>0.0</td>\n",
       "      <td>0.0</td>\n",
       "      <td>0.0</td>\n",
       "      <td>0.0</td>\n",
       "      <td>0.0</td>\n",
       "    </tr>\n",
       "    <tr>\n",
       "      <th>20</th>\n",
       "      <td>2501.0</td>\n",
       "      <td>71.0</td>\n",
       "      <td>9.0</td>\n",
       "      <td>60.0</td>\n",
       "      <td>8.0</td>\n",
       "      <td>767.0</td>\n",
       "      <td>230.0</td>\n",
       "      <td>223.0</td>\n",
       "      <td>126.0</td>\n",
       "      <td>5547.0</td>\n",
       "      <td>...</td>\n",
       "      <td>0.0</td>\n",
       "      <td>0.0</td>\n",
       "      <td>0.0</td>\n",
       "      <td>0.0</td>\n",
       "      <td>0.0</td>\n",
       "      <td>0.0</td>\n",
       "      <td>0.0</td>\n",
       "      <td>0.0</td>\n",
       "      <td>0.0</td>\n",
       "      <td>0.0</td>\n",
       "    </tr>\n",
       "    <tr>\n",
       "      <th>21</th>\n",
       "      <td>2880.0</td>\n",
       "      <td>209.0</td>\n",
       "      <td>17.0</td>\n",
       "      <td>216.0</td>\n",
       "      <td>30.0</td>\n",
       "      <td>4986.0</td>\n",
       "      <td>206.0</td>\n",
       "      <td>253.0</td>\n",
       "      <td>179.0</td>\n",
       "      <td>4323.0</td>\n",
       "      <td>...</td>\n",
       "      <td>0.0</td>\n",
       "      <td>0.0</td>\n",
       "      <td>0.0</td>\n",
       "      <td>0.0</td>\n",
       "      <td>0.0</td>\n",
       "      <td>0.0</td>\n",
       "      <td>0.0</td>\n",
       "      <td>0.0</td>\n",
       "      <td>0.0</td>\n",
       "      <td>0.0</td>\n",
       "    </tr>\n",
       "    <tr>\n",
       "      <th>22</th>\n",
       "      <td>2768.0</td>\n",
       "      <td>114.0</td>\n",
       "      <td>23.0</td>\n",
       "      <td>192.0</td>\n",
       "      <td>82.0</td>\n",
       "      <td>3339.0</td>\n",
       "      <td>252.0</td>\n",
       "      <td>209.0</td>\n",
       "      <td>71.0</td>\n",
       "      <td>5972.0</td>\n",
       "      <td>...</td>\n",
       "      <td>0.0</td>\n",
       "      <td>0.0</td>\n",
       "      <td>0.0</td>\n",
       "      <td>0.0</td>\n",
       "      <td>0.0</td>\n",
       "      <td>0.0</td>\n",
       "      <td>0.0</td>\n",
       "      <td>0.0</td>\n",
       "      <td>0.0</td>\n",
       "      <td>0.0</td>\n",
       "    </tr>\n",
       "    <tr>\n",
       "      <th>23</th>\n",
       "      <td>2511.0</td>\n",
       "      <td>54.0</td>\n",
       "      <td>8.0</td>\n",
       "      <td>124.0</td>\n",
       "      <td>0.0</td>\n",
       "      <td>638.0</td>\n",
       "      <td>225.0</td>\n",
       "      <td>222.0</td>\n",
       "      <td>130.0</td>\n",
       "      <td>5569.0</td>\n",
       "      <td>...</td>\n",
       "      <td>0.0</td>\n",
       "      <td>0.0</td>\n",
       "      <td>0.0</td>\n",
       "      <td>0.0</td>\n",
       "      <td>0.0</td>\n",
       "      <td>0.0</td>\n",
       "      <td>0.0</td>\n",
       "      <td>0.0</td>\n",
       "      <td>0.0</td>\n",
       "      <td>0.0</td>\n",
       "    </tr>\n",
       "    <tr>\n",
       "      <th>24</th>\n",
       "      <td>2507.0</td>\n",
       "      <td>22.0</td>\n",
       "      <td>9.0</td>\n",
       "      <td>120.0</td>\n",
       "      <td>14.0</td>\n",
       "      <td>732.0</td>\n",
       "      <td>215.0</td>\n",
       "      <td>221.0</td>\n",
       "      <td>143.0</td>\n",
       "      <td>5534.0</td>\n",
       "      <td>...</td>\n",
       "      <td>0.0</td>\n",
       "      <td>0.0</td>\n",
       "      <td>0.0</td>\n",
       "      <td>0.0</td>\n",
       "      <td>0.0</td>\n",
       "      <td>0.0</td>\n",
       "      <td>0.0</td>\n",
       "      <td>0.0</td>\n",
       "      <td>0.0</td>\n",
       "      <td>0.0</td>\n",
       "    </tr>\n",
       "    <tr>\n",
       "      <th>25</th>\n",
       "      <td>2492.0</td>\n",
       "      <td>135.0</td>\n",
       "      <td>6.0</td>\n",
       "      <td>0.0</td>\n",
       "      <td>0.0</td>\n",
       "      <td>860.0</td>\n",
       "      <td>229.0</td>\n",
       "      <td>237.0</td>\n",
       "      <td>142.0</td>\n",
       "      <td>5494.0</td>\n",
       "      <td>...</td>\n",
       "      <td>0.0</td>\n",
       "      <td>0.0</td>\n",
       "      <td>0.0</td>\n",
       "      <td>0.0</td>\n",
       "      <td>0.0</td>\n",
       "      <td>0.0</td>\n",
       "      <td>0.0</td>\n",
       "      <td>0.0</td>\n",
       "      <td>0.0</td>\n",
       "      <td>0.0</td>\n",
       "    </tr>\n",
       "    <tr>\n",
       "      <th>26</th>\n",
       "      <td>2489.0</td>\n",
       "      <td>163.0</td>\n",
       "      <td>10.0</td>\n",
       "      <td>30.0</td>\n",
       "      <td>-4.0</td>\n",
       "      <td>849.0</td>\n",
       "      <td>230.0</td>\n",
       "      <td>243.0</td>\n",
       "      <td>145.0</td>\n",
       "      <td>5486.0</td>\n",
       "      <td>...</td>\n",
       "      <td>0.0</td>\n",
       "      <td>0.0</td>\n",
       "      <td>0.0</td>\n",
       "      <td>0.0</td>\n",
       "      <td>0.0</td>\n",
       "      <td>0.0</td>\n",
       "      <td>0.0</td>\n",
       "      <td>0.0</td>\n",
       "      <td>0.0</td>\n",
       "      <td>0.0</td>\n",
       "    </tr>\n",
       "    <tr>\n",
       "      <th>27</th>\n",
       "      <td>2962.0</td>\n",
       "      <td>148.0</td>\n",
       "      <td>16.0</td>\n",
       "      <td>323.0</td>\n",
       "      <td>23.0</td>\n",
       "      <td>5916.0</td>\n",
       "      <td>240.0</td>\n",
       "      <td>236.0</td>\n",
       "      <td>120.0</td>\n",
       "      <td>3395.0</td>\n",
       "      <td>...</td>\n",
       "      <td>0.0</td>\n",
       "      <td>0.0</td>\n",
       "      <td>0.0</td>\n",
       "      <td>0.0</td>\n",
       "      <td>0.0</td>\n",
       "      <td>0.0</td>\n",
       "      <td>0.0</td>\n",
       "      <td>0.0</td>\n",
       "      <td>0.0</td>\n",
       "      <td>0.0</td>\n",
       "    </tr>\n",
       "    <tr>\n",
       "      <th>28</th>\n",
       "      <td>2811.0</td>\n",
       "      <td>135.0</td>\n",
       "      <td>1.0</td>\n",
       "      <td>212.0</td>\n",
       "      <td>30.0</td>\n",
       "      <td>3670.0</td>\n",
       "      <td>220.0</td>\n",
       "      <td>238.0</td>\n",
       "      <td>154.0</td>\n",
       "      <td>5643.0</td>\n",
       "      <td>...</td>\n",
       "      <td>0.0</td>\n",
       "      <td>0.0</td>\n",
       "      <td>0.0</td>\n",
       "      <td>0.0</td>\n",
       "      <td>0.0</td>\n",
       "      <td>0.0</td>\n",
       "      <td>0.0</td>\n",
       "      <td>0.0</td>\n",
       "      <td>0.0</td>\n",
       "      <td>0.0</td>\n",
       "    </tr>\n",
       "    <tr>\n",
       "      <th>29</th>\n",
       "      <td>2739.0</td>\n",
       "      <td>117.0</td>\n",
       "      <td>24.0</td>\n",
       "      <td>127.0</td>\n",
       "      <td>53.0</td>\n",
       "      <td>3281.0</td>\n",
       "      <td>253.0</td>\n",
       "      <td>210.0</td>\n",
       "      <td>71.0</td>\n",
       "      <td>6033.0</td>\n",
       "      <td>...</td>\n",
       "      <td>0.0</td>\n",
       "      <td>0.0</td>\n",
       "      <td>0.0</td>\n",
       "      <td>0.0</td>\n",
       "      <td>0.0</td>\n",
       "      <td>0.0</td>\n",
       "      <td>0.0</td>\n",
       "      <td>0.0</td>\n",
       "      <td>0.0</td>\n",
       "      <td>0.0</td>\n",
       "    </tr>\n",
       "    <tr>\n",
       "      <th>...</th>\n",
       "      <td>...</td>\n",
       "      <td>...</td>\n",
       "      <td>...</td>\n",
       "      <td>...</td>\n",
       "      <td>...</td>\n",
       "      <td>...</td>\n",
       "      <td>...</td>\n",
       "      <td>...</td>\n",
       "      <td>...</td>\n",
       "      <td>...</td>\n",
       "      <td>...</td>\n",
       "      <td>...</td>\n",
       "      <td>...</td>\n",
       "      <td>...</td>\n",
       "      <td>...</td>\n",
       "      <td>...</td>\n",
       "      <td>...</td>\n",
       "      <td>...</td>\n",
       "      <td>...</td>\n",
       "      <td>...</td>\n",
       "      <td>...</td>\n",
       "    </tr>\n",
       "    <tr>\n",
       "      <th>580982</th>\n",
       "      <td>2431.0</td>\n",
       "      <td>182.0</td>\n",
       "      <td>9.0</td>\n",
       "      <td>300.0</td>\n",
       "      <td>23.0</td>\n",
       "      <td>268.0</td>\n",
       "      <td>223.0</td>\n",
       "      <td>246.0</td>\n",
       "      <td>156.0</td>\n",
       "      <td>973.0</td>\n",
       "      <td>...</td>\n",
       "      <td>0.0</td>\n",
       "      <td>0.0</td>\n",
       "      <td>0.0</td>\n",
       "      <td>0.0</td>\n",
       "      <td>0.0</td>\n",
       "      <td>0.0</td>\n",
       "      <td>0.0</td>\n",
       "      <td>0.0</td>\n",
       "      <td>0.0</td>\n",
       "      <td>0.0</td>\n",
       "    </tr>\n",
       "    <tr>\n",
       "      <th>580983</th>\n",
       "      <td>2436.0</td>\n",
       "      <td>219.0</td>\n",
       "      <td>15.0</td>\n",
       "      <td>300.0</td>\n",
       "      <td>28.0</td>\n",
       "      <td>256.0</td>\n",
       "      <td>203.0</td>\n",
       "      <td>253.0</td>\n",
       "      <td>184.0</td>\n",
       "      <td>957.0</td>\n",
       "      <td>...</td>\n",
       "      <td>0.0</td>\n",
       "      <td>0.0</td>\n",
       "      <td>0.0</td>\n",
       "      <td>0.0</td>\n",
       "      <td>0.0</td>\n",
       "      <td>0.0</td>\n",
       "      <td>0.0</td>\n",
       "      <td>0.0</td>\n",
       "      <td>0.0</td>\n",
       "      <td>0.0</td>\n",
       "    </tr>\n",
       "    <tr>\n",
       "      <th>580984</th>\n",
       "      <td>2441.0</td>\n",
       "      <td>201.0</td>\n",
       "      <td>15.0</td>\n",
       "      <td>300.0</td>\n",
       "      <td>33.0</td>\n",
       "      <td>247.0</td>\n",
       "      <td>212.0</td>\n",
       "      <td>252.0</td>\n",
       "      <td>171.0</td>\n",
       "      <td>942.0</td>\n",
       "      <td>...</td>\n",
       "      <td>0.0</td>\n",
       "      <td>0.0</td>\n",
       "      <td>0.0</td>\n",
       "      <td>0.0</td>\n",
       "      <td>0.0</td>\n",
       "      <td>0.0</td>\n",
       "      <td>0.0</td>\n",
       "      <td>0.0</td>\n",
       "      <td>0.0</td>\n",
       "      <td>0.0</td>\n",
       "    </tr>\n",
       "    <tr>\n",
       "      <th>580985</th>\n",
       "      <td>2442.0</td>\n",
       "      <td>191.0</td>\n",
       "      <td>17.0</td>\n",
       "      <td>300.0</td>\n",
       "      <td>34.0</td>\n",
       "      <td>242.0</td>\n",
       "      <td>217.0</td>\n",
       "      <td>251.0</td>\n",
       "      <td>162.0</td>\n",
       "      <td>927.0</td>\n",
       "      <td>...</td>\n",
       "      <td>0.0</td>\n",
       "      <td>0.0</td>\n",
       "      <td>0.0</td>\n",
       "      <td>0.0</td>\n",
       "      <td>0.0</td>\n",
       "      <td>0.0</td>\n",
       "      <td>0.0</td>\n",
       "      <td>0.0</td>\n",
       "      <td>0.0</td>\n",
       "      <td>0.0</td>\n",
       "    </tr>\n",
       "    <tr>\n",
       "      <th>580986</th>\n",
       "      <td>2444.0</td>\n",
       "      <td>202.0</td>\n",
       "      <td>21.0</td>\n",
       "      <td>300.0</td>\n",
       "      <td>37.0</td>\n",
       "      <td>240.0</td>\n",
       "      <td>205.0</td>\n",
       "      <td>253.0</td>\n",
       "      <td>174.0</td>\n",
       "      <td>912.0</td>\n",
       "      <td>...</td>\n",
       "      <td>0.0</td>\n",
       "      <td>0.0</td>\n",
       "      <td>0.0</td>\n",
       "      <td>0.0</td>\n",
       "      <td>0.0</td>\n",
       "      <td>0.0</td>\n",
       "      <td>0.0</td>\n",
       "      <td>0.0</td>\n",
       "      <td>0.0</td>\n",
       "      <td>0.0</td>\n",
       "    </tr>\n",
       "    <tr>\n",
       "      <th>580987</th>\n",
       "      <td>2450.0</td>\n",
       "      <td>203.0</td>\n",
       "      <td>27.0</td>\n",
       "      <td>300.0</td>\n",
       "      <td>53.0</td>\n",
       "      <td>240.0</td>\n",
       "      <td>196.0</td>\n",
       "      <td>252.0</td>\n",
       "      <td>176.0</td>\n",
       "      <td>899.0</td>\n",
       "      <td>...</td>\n",
       "      <td>0.0</td>\n",
       "      <td>0.0</td>\n",
       "      <td>0.0</td>\n",
       "      <td>0.0</td>\n",
       "      <td>0.0</td>\n",
       "      <td>0.0</td>\n",
       "      <td>0.0</td>\n",
       "      <td>0.0</td>\n",
       "      <td>0.0</td>\n",
       "      <td>0.0</td>\n",
       "    </tr>\n",
       "    <tr>\n",
       "      <th>580988</th>\n",
       "      <td>2455.0</td>\n",
       "      <td>189.0</td>\n",
       "      <td>31.0</td>\n",
       "      <td>295.0</td>\n",
       "      <td>58.0</td>\n",
       "      <td>240.0</td>\n",
       "      <td>205.0</td>\n",
       "      <td>245.0</td>\n",
       "      <td>152.0</td>\n",
       "      <td>886.0</td>\n",
       "      <td>...</td>\n",
       "      <td>0.0</td>\n",
       "      <td>0.0</td>\n",
       "      <td>0.0</td>\n",
       "      <td>0.0</td>\n",
       "      <td>0.0</td>\n",
       "      <td>0.0</td>\n",
       "      <td>0.0</td>\n",
       "      <td>0.0</td>\n",
       "      <td>0.0</td>\n",
       "      <td>0.0</td>\n",
       "    </tr>\n",
       "    <tr>\n",
       "      <th>580989</th>\n",
       "      <td>2455.0</td>\n",
       "      <td>181.0</td>\n",
       "      <td>34.0</td>\n",
       "      <td>277.0</td>\n",
       "      <td>58.0</td>\n",
       "      <td>240.0</td>\n",
       "      <td>210.0</td>\n",
       "      <td>238.0</td>\n",
       "      <td>133.0</td>\n",
       "      <td>875.0</td>\n",
       "      <td>...</td>\n",
       "      <td>0.0</td>\n",
       "      <td>0.0</td>\n",
       "      <td>0.0</td>\n",
       "      <td>0.0</td>\n",
       "      <td>0.0</td>\n",
       "      <td>0.0</td>\n",
       "      <td>0.0</td>\n",
       "      <td>0.0</td>\n",
       "      <td>0.0</td>\n",
       "      <td>0.0</td>\n",
       "    </tr>\n",
       "    <tr>\n",
       "      <th>580990</th>\n",
       "      <td>2455.0</td>\n",
       "      <td>166.0</td>\n",
       "      <td>35.0</td>\n",
       "      <td>258.0</td>\n",
       "      <td>58.0</td>\n",
       "      <td>240.0</td>\n",
       "      <td>225.0</td>\n",
       "      <td>227.0</td>\n",
       "      <td>103.0</td>\n",
       "      <td>864.0</td>\n",
       "      <td>...</td>\n",
       "      <td>0.0</td>\n",
       "      <td>0.0</td>\n",
       "      <td>0.0</td>\n",
       "      <td>0.0</td>\n",
       "      <td>0.0</td>\n",
       "      <td>0.0</td>\n",
       "      <td>0.0</td>\n",
       "      <td>0.0</td>\n",
       "      <td>0.0</td>\n",
       "      <td>0.0</td>\n",
       "    </tr>\n",
       "    <tr>\n",
       "      <th>580991</th>\n",
       "      <td>2445.0</td>\n",
       "      <td>157.0</td>\n",
       "      <td>33.0</td>\n",
       "      <td>242.0</td>\n",
       "      <td>49.0</td>\n",
       "      <td>240.0</td>\n",
       "      <td>235.0</td>\n",
       "      <td>224.0</td>\n",
       "      <td>91.0</td>\n",
       "      <td>854.0</td>\n",
       "      <td>...</td>\n",
       "      <td>0.0</td>\n",
       "      <td>0.0</td>\n",
       "      <td>0.0</td>\n",
       "      <td>0.0</td>\n",
       "      <td>0.0</td>\n",
       "      <td>0.0</td>\n",
       "      <td>0.0</td>\n",
       "      <td>0.0</td>\n",
       "      <td>0.0</td>\n",
       "      <td>0.0</td>\n",
       "    </tr>\n",
       "    <tr>\n",
       "      <th>580992</th>\n",
       "      <td>2441.0</td>\n",
       "      <td>173.0</td>\n",
       "      <td>28.0</td>\n",
       "      <td>228.0</td>\n",
       "      <td>45.0</td>\n",
       "      <td>242.0</td>\n",
       "      <td>225.0</td>\n",
       "      <td>240.0</td>\n",
       "      <td>128.0</td>\n",
       "      <td>845.0</td>\n",
       "      <td>...</td>\n",
       "      <td>0.0</td>\n",
       "      <td>0.0</td>\n",
       "      <td>0.0</td>\n",
       "      <td>0.0</td>\n",
       "      <td>0.0</td>\n",
       "      <td>0.0</td>\n",
       "      <td>0.0</td>\n",
       "      <td>0.0</td>\n",
       "      <td>0.0</td>\n",
       "      <td>0.0</td>\n",
       "    </tr>\n",
       "    <tr>\n",
       "      <th>580993</th>\n",
       "      <td>2440.0</td>\n",
       "      <td>173.0</td>\n",
       "      <td>26.0</td>\n",
       "      <td>216.0</td>\n",
       "      <td>44.0</td>\n",
       "      <td>234.0</td>\n",
       "      <td>226.0</td>\n",
       "      <td>242.0</td>\n",
       "      <td>132.0</td>\n",
       "      <td>837.0</td>\n",
       "      <td>...</td>\n",
       "      <td>0.0</td>\n",
       "      <td>0.0</td>\n",
       "      <td>0.0</td>\n",
       "      <td>0.0</td>\n",
       "      <td>0.0</td>\n",
       "      <td>0.0</td>\n",
       "      <td>0.0</td>\n",
       "      <td>0.0</td>\n",
       "      <td>0.0</td>\n",
       "      <td>0.0</td>\n",
       "    </tr>\n",
       "    <tr>\n",
       "      <th>580994</th>\n",
       "      <td>2437.0</td>\n",
       "      <td>170.0</td>\n",
       "      <td>23.0</td>\n",
       "      <td>201.0</td>\n",
       "      <td>45.0</td>\n",
       "      <td>216.0</td>\n",
       "      <td>229.0</td>\n",
       "      <td>242.0</td>\n",
       "      <td>131.0</td>\n",
       "      <td>830.0</td>\n",
       "      <td>...</td>\n",
       "      <td>0.0</td>\n",
       "      <td>0.0</td>\n",
       "      <td>0.0</td>\n",
       "      <td>0.0</td>\n",
       "      <td>0.0</td>\n",
       "      <td>0.0</td>\n",
       "      <td>0.0</td>\n",
       "      <td>0.0</td>\n",
       "      <td>0.0</td>\n",
       "      <td>0.0</td>\n",
       "    </tr>\n",
       "    <tr>\n",
       "      <th>580995</th>\n",
       "      <td>2437.0</td>\n",
       "      <td>174.0</td>\n",
       "      <td>22.0</td>\n",
       "      <td>190.0</td>\n",
       "      <td>45.0</td>\n",
       "      <td>201.0</td>\n",
       "      <td>227.0</td>\n",
       "      <td>245.0</td>\n",
       "      <td>139.0</td>\n",
       "      <td>824.0</td>\n",
       "      <td>...</td>\n",
       "      <td>0.0</td>\n",
       "      <td>0.0</td>\n",
       "      <td>0.0</td>\n",
       "      <td>0.0</td>\n",
       "      <td>0.0</td>\n",
       "      <td>0.0</td>\n",
       "      <td>0.0</td>\n",
       "      <td>0.0</td>\n",
       "      <td>0.0</td>\n",
       "      <td>0.0</td>\n",
       "    </tr>\n",
       "    <tr>\n",
       "      <th>580996</th>\n",
       "      <td>2435.0</td>\n",
       "      <td>171.0</td>\n",
       "      <td>22.0</td>\n",
       "      <td>175.0</td>\n",
       "      <td>43.0</td>\n",
       "      <td>190.0</td>\n",
       "      <td>229.0</td>\n",
       "      <td>244.0</td>\n",
       "      <td>135.0</td>\n",
       "      <td>819.0</td>\n",
       "      <td>...</td>\n",
       "      <td>0.0</td>\n",
       "      <td>0.0</td>\n",
       "      <td>0.0</td>\n",
       "      <td>0.0</td>\n",
       "      <td>0.0</td>\n",
       "      <td>0.0</td>\n",
       "      <td>0.0</td>\n",
       "      <td>0.0</td>\n",
       "      <td>0.0</td>\n",
       "      <td>0.0</td>\n",
       "    </tr>\n",
       "    <tr>\n",
       "      <th>580997</th>\n",
       "      <td>2433.0</td>\n",
       "      <td>168.0</td>\n",
       "      <td>23.0</td>\n",
       "      <td>162.0</td>\n",
       "      <td>41.0</td>\n",
       "      <td>175.0</td>\n",
       "      <td>231.0</td>\n",
       "      <td>241.0</td>\n",
       "      <td>128.0</td>\n",
       "      <td>815.0</td>\n",
       "      <td>...</td>\n",
       "      <td>0.0</td>\n",
       "      <td>0.0</td>\n",
       "      <td>0.0</td>\n",
       "      <td>0.0</td>\n",
       "      <td>0.0</td>\n",
       "      <td>0.0</td>\n",
       "      <td>0.0</td>\n",
       "      <td>0.0</td>\n",
       "      <td>0.0</td>\n",
       "      <td>0.0</td>\n",
       "    </tr>\n",
       "    <tr>\n",
       "      <th>580998</th>\n",
       "      <td>2429.0</td>\n",
       "      <td>166.0</td>\n",
       "      <td>24.0</td>\n",
       "      <td>153.0</td>\n",
       "      <td>45.0</td>\n",
       "      <td>162.0</td>\n",
       "      <td>232.0</td>\n",
       "      <td>240.0</td>\n",
       "      <td>125.0</td>\n",
       "      <td>812.0</td>\n",
       "      <td>...</td>\n",
       "      <td>0.0</td>\n",
       "      <td>0.0</td>\n",
       "      <td>0.0</td>\n",
       "      <td>0.0</td>\n",
       "      <td>0.0</td>\n",
       "      <td>0.0</td>\n",
       "      <td>0.0</td>\n",
       "      <td>0.0</td>\n",
       "      <td>0.0</td>\n",
       "      <td>0.0</td>\n",
       "    </tr>\n",
       "    <tr>\n",
       "      <th>580999</th>\n",
       "      <td>2426.0</td>\n",
       "      <td>168.0</td>\n",
       "      <td>24.0</td>\n",
       "      <td>150.0</td>\n",
       "      <td>42.0</td>\n",
       "      <td>153.0</td>\n",
       "      <td>231.0</td>\n",
       "      <td>241.0</td>\n",
       "      <td>127.0</td>\n",
       "      <td>811.0</td>\n",
       "      <td>...</td>\n",
       "      <td>0.0</td>\n",
       "      <td>0.0</td>\n",
       "      <td>0.0</td>\n",
       "      <td>0.0</td>\n",
       "      <td>0.0</td>\n",
       "      <td>0.0</td>\n",
       "      <td>0.0</td>\n",
       "      <td>0.0</td>\n",
       "      <td>0.0</td>\n",
       "      <td>0.0</td>\n",
       "    </tr>\n",
       "    <tr>\n",
       "      <th>581000</th>\n",
       "      <td>2423.0</td>\n",
       "      <td>169.0</td>\n",
       "      <td>24.0</td>\n",
       "      <td>134.0</td>\n",
       "      <td>39.0</td>\n",
       "      <td>150.0</td>\n",
       "      <td>230.0</td>\n",
       "      <td>241.0</td>\n",
       "      <td>128.0</td>\n",
       "      <td>810.0</td>\n",
       "      <td>...</td>\n",
       "      <td>0.0</td>\n",
       "      <td>0.0</td>\n",
       "      <td>0.0</td>\n",
       "      <td>0.0</td>\n",
       "      <td>0.0</td>\n",
       "      <td>0.0</td>\n",
       "      <td>0.0</td>\n",
       "      <td>0.0</td>\n",
       "      <td>0.0</td>\n",
       "      <td>0.0</td>\n",
       "    </tr>\n",
       "    <tr>\n",
       "      <th>581001</th>\n",
       "      <td>2421.0</td>\n",
       "      <td>172.0</td>\n",
       "      <td>25.0</td>\n",
       "      <td>124.0</td>\n",
       "      <td>35.0</td>\n",
       "      <td>134.0</td>\n",
       "      <td>227.0</td>\n",
       "      <td>242.0</td>\n",
       "      <td>132.0</td>\n",
       "      <td>811.0</td>\n",
       "      <td>...</td>\n",
       "      <td>0.0</td>\n",
       "      <td>0.0</td>\n",
       "      <td>0.0</td>\n",
       "      <td>0.0</td>\n",
       "      <td>0.0</td>\n",
       "      <td>0.0</td>\n",
       "      <td>0.0</td>\n",
       "      <td>0.0</td>\n",
       "      <td>0.0</td>\n",
       "      <td>0.0</td>\n",
       "    </tr>\n",
       "    <tr>\n",
       "      <th>581002</th>\n",
       "      <td>2419.0</td>\n",
       "      <td>168.0</td>\n",
       "      <td>25.0</td>\n",
       "      <td>108.0</td>\n",
       "      <td>33.0</td>\n",
       "      <td>124.0</td>\n",
       "      <td>230.0</td>\n",
       "      <td>240.0</td>\n",
       "      <td>126.0</td>\n",
       "      <td>812.0</td>\n",
       "      <td>...</td>\n",
       "      <td>0.0</td>\n",
       "      <td>0.0</td>\n",
       "      <td>0.0</td>\n",
       "      <td>0.0</td>\n",
       "      <td>0.0</td>\n",
       "      <td>0.0</td>\n",
       "      <td>0.0</td>\n",
       "      <td>0.0</td>\n",
       "      <td>0.0</td>\n",
       "      <td>0.0</td>\n",
       "    </tr>\n",
       "    <tr>\n",
       "      <th>581003</th>\n",
       "      <td>2415.0</td>\n",
       "      <td>161.0</td>\n",
       "      <td>25.0</td>\n",
       "      <td>95.0</td>\n",
       "      <td>29.0</td>\n",
       "      <td>120.0</td>\n",
       "      <td>236.0</td>\n",
       "      <td>237.0</td>\n",
       "      <td>116.0</td>\n",
       "      <td>815.0</td>\n",
       "      <td>...</td>\n",
       "      <td>0.0</td>\n",
       "      <td>0.0</td>\n",
       "      <td>0.0</td>\n",
       "      <td>0.0</td>\n",
       "      <td>0.0</td>\n",
       "      <td>0.0</td>\n",
       "      <td>0.0</td>\n",
       "      <td>0.0</td>\n",
       "      <td>0.0</td>\n",
       "      <td>0.0</td>\n",
       "    </tr>\n",
       "    <tr>\n",
       "      <th>581004</th>\n",
       "      <td>2410.0</td>\n",
       "      <td>158.0</td>\n",
       "      <td>24.0</td>\n",
       "      <td>90.0</td>\n",
       "      <td>24.0</td>\n",
       "      <td>120.0</td>\n",
       "      <td>238.0</td>\n",
       "      <td>236.0</td>\n",
       "      <td>115.0</td>\n",
       "      <td>819.0</td>\n",
       "      <td>...</td>\n",
       "      <td>0.0</td>\n",
       "      <td>0.0</td>\n",
       "      <td>0.0</td>\n",
       "      <td>0.0</td>\n",
       "      <td>0.0</td>\n",
       "      <td>0.0</td>\n",
       "      <td>0.0</td>\n",
       "      <td>0.0</td>\n",
       "      <td>0.0</td>\n",
       "      <td>0.0</td>\n",
       "    </tr>\n",
       "    <tr>\n",
       "      <th>581005</th>\n",
       "      <td>2405.0</td>\n",
       "      <td>159.0</td>\n",
       "      <td>22.0</td>\n",
       "      <td>90.0</td>\n",
       "      <td>19.0</td>\n",
       "      <td>120.0</td>\n",
       "      <td>237.0</td>\n",
       "      <td>238.0</td>\n",
       "      <td>119.0</td>\n",
       "      <td>824.0</td>\n",
       "      <td>...</td>\n",
       "      <td>0.0</td>\n",
       "      <td>0.0</td>\n",
       "      <td>0.0</td>\n",
       "      <td>0.0</td>\n",
       "      <td>0.0</td>\n",
       "      <td>0.0</td>\n",
       "      <td>0.0</td>\n",
       "      <td>0.0</td>\n",
       "      <td>0.0</td>\n",
       "      <td>0.0</td>\n",
       "    </tr>\n",
       "    <tr>\n",
       "      <th>581006</th>\n",
       "      <td>2401.0</td>\n",
       "      <td>157.0</td>\n",
       "      <td>21.0</td>\n",
       "      <td>90.0</td>\n",
       "      <td>15.0</td>\n",
       "      <td>120.0</td>\n",
       "      <td>238.0</td>\n",
       "      <td>238.0</td>\n",
       "      <td>119.0</td>\n",
       "      <td>830.0</td>\n",
       "      <td>...</td>\n",
       "      <td>0.0</td>\n",
       "      <td>0.0</td>\n",
       "      <td>0.0</td>\n",
       "      <td>0.0</td>\n",
       "      <td>0.0</td>\n",
       "      <td>0.0</td>\n",
       "      <td>0.0</td>\n",
       "      <td>0.0</td>\n",
       "      <td>0.0</td>\n",
       "      <td>0.0</td>\n",
       "    </tr>\n",
       "    <tr>\n",
       "      <th>581007</th>\n",
       "      <td>2396.0</td>\n",
       "      <td>153.0</td>\n",
       "      <td>20.0</td>\n",
       "      <td>85.0</td>\n",
       "      <td>17.0</td>\n",
       "      <td>108.0</td>\n",
       "      <td>240.0</td>\n",
       "      <td>237.0</td>\n",
       "      <td>118.0</td>\n",
       "      <td>837.0</td>\n",
       "      <td>...</td>\n",
       "      <td>0.0</td>\n",
       "      <td>0.0</td>\n",
       "      <td>0.0</td>\n",
       "      <td>0.0</td>\n",
       "      <td>0.0</td>\n",
       "      <td>0.0</td>\n",
       "      <td>0.0</td>\n",
       "      <td>0.0</td>\n",
       "      <td>0.0</td>\n",
       "      <td>0.0</td>\n",
       "    </tr>\n",
       "    <tr>\n",
       "      <th>581008</th>\n",
       "      <td>2391.0</td>\n",
       "      <td>152.0</td>\n",
       "      <td>19.0</td>\n",
       "      <td>67.0</td>\n",
       "      <td>12.0</td>\n",
       "      <td>95.0</td>\n",
       "      <td>240.0</td>\n",
       "      <td>237.0</td>\n",
       "      <td>119.0</td>\n",
       "      <td>845.0</td>\n",
       "      <td>...</td>\n",
       "      <td>0.0</td>\n",
       "      <td>0.0</td>\n",
       "      <td>0.0</td>\n",
       "      <td>0.0</td>\n",
       "      <td>0.0</td>\n",
       "      <td>0.0</td>\n",
       "      <td>0.0</td>\n",
       "      <td>0.0</td>\n",
       "      <td>0.0</td>\n",
       "      <td>0.0</td>\n",
       "    </tr>\n",
       "    <tr>\n",
       "      <th>581009</th>\n",
       "      <td>2386.0</td>\n",
       "      <td>159.0</td>\n",
       "      <td>17.0</td>\n",
       "      <td>60.0</td>\n",
       "      <td>7.0</td>\n",
       "      <td>90.0</td>\n",
       "      <td>236.0</td>\n",
       "      <td>241.0</td>\n",
       "      <td>130.0</td>\n",
       "      <td>854.0</td>\n",
       "      <td>...</td>\n",
       "      <td>0.0</td>\n",
       "      <td>0.0</td>\n",
       "      <td>0.0</td>\n",
       "      <td>0.0</td>\n",
       "      <td>0.0</td>\n",
       "      <td>0.0</td>\n",
       "      <td>0.0</td>\n",
       "      <td>0.0</td>\n",
       "      <td>0.0</td>\n",
       "      <td>0.0</td>\n",
       "    </tr>\n",
       "    <tr>\n",
       "      <th>581010</th>\n",
       "      <td>2384.0</td>\n",
       "      <td>170.0</td>\n",
       "      <td>15.0</td>\n",
       "      <td>60.0</td>\n",
       "      <td>5.0</td>\n",
       "      <td>90.0</td>\n",
       "      <td>230.0</td>\n",
       "      <td>245.0</td>\n",
       "      <td>143.0</td>\n",
       "      <td>864.0</td>\n",
       "      <td>...</td>\n",
       "      <td>0.0</td>\n",
       "      <td>0.0</td>\n",
       "      <td>0.0</td>\n",
       "      <td>0.0</td>\n",
       "      <td>0.0</td>\n",
       "      <td>0.0</td>\n",
       "      <td>0.0</td>\n",
       "      <td>0.0</td>\n",
       "      <td>0.0</td>\n",
       "      <td>0.0</td>\n",
       "    </tr>\n",
       "    <tr>\n",
       "      <th>581011</th>\n",
       "      <td>2383.0</td>\n",
       "      <td>165.0</td>\n",
       "      <td>13.0</td>\n",
       "      <td>60.0</td>\n",
       "      <td>4.0</td>\n",
       "      <td>67.0</td>\n",
       "      <td>231.0</td>\n",
       "      <td>244.0</td>\n",
       "      <td>141.0</td>\n",
       "      <td>875.0</td>\n",
       "      <td>...</td>\n",
       "      <td>0.0</td>\n",
       "      <td>0.0</td>\n",
       "      <td>0.0</td>\n",
       "      <td>0.0</td>\n",
       "      <td>0.0</td>\n",
       "      <td>0.0</td>\n",
       "      <td>0.0</td>\n",
       "      <td>0.0</td>\n",
       "      <td>0.0</td>\n",
       "      <td>0.0</td>\n",
       "    </tr>\n",
       "  </tbody>\n",
       "</table>\n",
       "<p>581012 rows × 54 columns</p>\n",
       "</div>"
      ],
      "text/plain": [
       "            0      1     2      3      4       5      6      7      8   \\\n",
       "0       2596.0   51.0   3.0  258.0    0.0   510.0  221.0  232.0  148.0   \n",
       "1       2590.0   56.0   2.0  212.0   -6.0   390.0  220.0  235.0  151.0   \n",
       "2       2804.0  139.0   9.0  268.0   65.0  3180.0  234.0  238.0  135.0   \n",
       "3       2785.0  155.0  18.0  242.0  118.0  3090.0  238.0  238.0  122.0   \n",
       "4       2595.0   45.0   2.0  153.0   -1.0   391.0  220.0  234.0  150.0   \n",
       "5       2579.0  132.0   6.0  300.0  -15.0    67.0  230.0  237.0  140.0   \n",
       "6       2606.0   45.0   7.0  270.0    5.0   633.0  222.0  225.0  138.0   \n",
       "7       2605.0   49.0   4.0  234.0    7.0   573.0  222.0  230.0  144.0   \n",
       "8       2617.0   45.0   9.0  240.0   56.0   666.0  223.0  221.0  133.0   \n",
       "9       2612.0   59.0  10.0  247.0   11.0   636.0  228.0  219.0  124.0   \n",
       "10      2612.0  201.0   4.0  180.0   51.0   735.0  218.0  243.0  161.0   \n",
       "11      2886.0  151.0  11.0  371.0   26.0  5253.0  234.0  240.0  136.0   \n",
       "12      2742.0  134.0  22.0  150.0   69.0  3215.0  248.0  224.0   92.0   \n",
       "13      2609.0  214.0   7.0  150.0   46.0   771.0  213.0  247.0  170.0   \n",
       "14      2503.0  157.0   4.0   67.0    4.0   674.0  224.0  240.0  151.0   \n",
       "15      2495.0   51.0   7.0   42.0    2.0   752.0  224.0  225.0  137.0   \n",
       "16      2610.0  259.0   1.0  120.0   -1.0   607.0  216.0  239.0  161.0   \n",
       "17      2517.0   72.0   7.0   85.0    6.0   595.0  228.0  227.0  133.0   \n",
       "18      2504.0    0.0   4.0   95.0    5.0   691.0  214.0  232.0  156.0   \n",
       "19      2503.0   38.0   5.0   85.0   10.0   741.0  220.0  228.0  144.0   \n",
       "20      2501.0   71.0   9.0   60.0    8.0   767.0  230.0  223.0  126.0   \n",
       "21      2880.0  209.0  17.0  216.0   30.0  4986.0  206.0  253.0  179.0   \n",
       "22      2768.0  114.0  23.0  192.0   82.0  3339.0  252.0  209.0   71.0   \n",
       "23      2511.0   54.0   8.0  124.0    0.0   638.0  225.0  222.0  130.0   \n",
       "24      2507.0   22.0   9.0  120.0   14.0   732.0  215.0  221.0  143.0   \n",
       "25      2492.0  135.0   6.0    0.0    0.0   860.0  229.0  237.0  142.0   \n",
       "26      2489.0  163.0  10.0   30.0   -4.0   849.0  230.0  243.0  145.0   \n",
       "27      2962.0  148.0  16.0  323.0   23.0  5916.0  240.0  236.0  120.0   \n",
       "28      2811.0  135.0   1.0  212.0   30.0  3670.0  220.0  238.0  154.0   \n",
       "29      2739.0  117.0  24.0  127.0   53.0  3281.0  253.0  210.0   71.0   \n",
       "...        ...    ...   ...    ...    ...     ...    ...    ...    ...   \n",
       "580982  2431.0  182.0   9.0  300.0   23.0   268.0  223.0  246.0  156.0   \n",
       "580983  2436.0  219.0  15.0  300.0   28.0   256.0  203.0  253.0  184.0   \n",
       "580984  2441.0  201.0  15.0  300.0   33.0   247.0  212.0  252.0  171.0   \n",
       "580985  2442.0  191.0  17.0  300.0   34.0   242.0  217.0  251.0  162.0   \n",
       "580986  2444.0  202.0  21.0  300.0   37.0   240.0  205.0  253.0  174.0   \n",
       "580987  2450.0  203.0  27.0  300.0   53.0   240.0  196.0  252.0  176.0   \n",
       "580988  2455.0  189.0  31.0  295.0   58.0   240.0  205.0  245.0  152.0   \n",
       "580989  2455.0  181.0  34.0  277.0   58.0   240.0  210.0  238.0  133.0   \n",
       "580990  2455.0  166.0  35.0  258.0   58.0   240.0  225.0  227.0  103.0   \n",
       "580991  2445.0  157.0  33.0  242.0   49.0   240.0  235.0  224.0   91.0   \n",
       "580992  2441.0  173.0  28.0  228.0   45.0   242.0  225.0  240.0  128.0   \n",
       "580993  2440.0  173.0  26.0  216.0   44.0   234.0  226.0  242.0  132.0   \n",
       "580994  2437.0  170.0  23.0  201.0   45.0   216.0  229.0  242.0  131.0   \n",
       "580995  2437.0  174.0  22.0  190.0   45.0   201.0  227.0  245.0  139.0   \n",
       "580996  2435.0  171.0  22.0  175.0   43.0   190.0  229.0  244.0  135.0   \n",
       "580997  2433.0  168.0  23.0  162.0   41.0   175.0  231.0  241.0  128.0   \n",
       "580998  2429.0  166.0  24.0  153.0   45.0   162.0  232.0  240.0  125.0   \n",
       "580999  2426.0  168.0  24.0  150.0   42.0   153.0  231.0  241.0  127.0   \n",
       "581000  2423.0  169.0  24.0  134.0   39.0   150.0  230.0  241.0  128.0   \n",
       "581001  2421.0  172.0  25.0  124.0   35.0   134.0  227.0  242.0  132.0   \n",
       "581002  2419.0  168.0  25.0  108.0   33.0   124.0  230.0  240.0  126.0   \n",
       "581003  2415.0  161.0  25.0   95.0   29.0   120.0  236.0  237.0  116.0   \n",
       "581004  2410.0  158.0  24.0   90.0   24.0   120.0  238.0  236.0  115.0   \n",
       "581005  2405.0  159.0  22.0   90.0   19.0   120.0  237.0  238.0  119.0   \n",
       "581006  2401.0  157.0  21.0   90.0   15.0   120.0  238.0  238.0  119.0   \n",
       "581007  2396.0  153.0  20.0   85.0   17.0   108.0  240.0  237.0  118.0   \n",
       "581008  2391.0  152.0  19.0   67.0   12.0    95.0  240.0  237.0  119.0   \n",
       "581009  2386.0  159.0  17.0   60.0    7.0    90.0  236.0  241.0  130.0   \n",
       "581010  2384.0  170.0  15.0   60.0    5.0    90.0  230.0  245.0  143.0   \n",
       "581011  2383.0  165.0  13.0   60.0    4.0    67.0  231.0  244.0  141.0   \n",
       "\n",
       "            9  ...    44   45   46   47   48   49   50   51   52   53  \n",
       "0       6279.0 ...   0.0  0.0  0.0  0.0  0.0  0.0  0.0  0.0  0.0  0.0  \n",
       "1       6225.0 ...   0.0  0.0  0.0  0.0  0.0  0.0  0.0  0.0  0.0  0.0  \n",
       "2       6121.0 ...   0.0  0.0  0.0  0.0  0.0  0.0  0.0  0.0  0.0  0.0  \n",
       "3       6211.0 ...   0.0  0.0  0.0  0.0  0.0  0.0  0.0  0.0  0.0  0.0  \n",
       "4       6172.0 ...   0.0  0.0  0.0  0.0  0.0  0.0  0.0  0.0  0.0  0.0  \n",
       "5       6031.0 ...   0.0  0.0  0.0  0.0  0.0  0.0  0.0  0.0  0.0  0.0  \n",
       "6       6256.0 ...   0.0  0.0  0.0  0.0  0.0  0.0  0.0  0.0  0.0  0.0  \n",
       "7       6228.0 ...   0.0  0.0  0.0  0.0  0.0  0.0  0.0  0.0  0.0  0.0  \n",
       "8       6244.0 ...   0.0  0.0  0.0  0.0  0.0  0.0  0.0  0.0  0.0  0.0  \n",
       "9       6230.0 ...   0.0  0.0  0.0  0.0  0.0  0.0  0.0  0.0  0.0  0.0  \n",
       "10      6222.0 ...   0.0  0.0  0.0  0.0  0.0  0.0  0.0  0.0  0.0  0.0  \n",
       "11      4051.0 ...   0.0  0.0  0.0  0.0  0.0  0.0  0.0  0.0  0.0  0.0  \n",
       "12      6091.0 ...   0.0  0.0  0.0  0.0  0.0  0.0  0.0  0.0  0.0  0.0  \n",
       "13      6211.0 ...   0.0  0.0  0.0  0.0  0.0  0.0  0.0  0.0  0.0  0.0  \n",
       "14      5600.0 ...   0.0  0.0  0.0  0.0  0.0  0.0  0.0  0.0  0.0  0.0  \n",
       "15      5576.0 ...   0.0  0.0  0.0  0.0  0.0  0.0  0.0  0.0  0.0  0.0  \n",
       "16      6096.0 ...   0.0  0.0  0.0  0.0  0.0  0.0  0.0  0.0  0.0  0.0  \n",
       "17      5607.0 ...   0.0  0.0  0.0  0.0  0.0  0.0  0.0  0.0  0.0  0.0  \n",
       "18      5572.0 ...   0.0  0.0  0.0  0.0  0.0  0.0  0.0  0.0  0.0  0.0  \n",
       "19      5555.0 ...   0.0  0.0  0.0  0.0  0.0  0.0  0.0  0.0  0.0  0.0  \n",
       "20      5547.0 ...   0.0  0.0  0.0  0.0  0.0  0.0  0.0  0.0  0.0  0.0  \n",
       "21      4323.0 ...   0.0  0.0  0.0  0.0  0.0  0.0  0.0  0.0  0.0  0.0  \n",
       "22      5972.0 ...   0.0  0.0  0.0  0.0  0.0  0.0  0.0  0.0  0.0  0.0  \n",
       "23      5569.0 ...   0.0  0.0  0.0  0.0  0.0  0.0  0.0  0.0  0.0  0.0  \n",
       "24      5534.0 ...   0.0  0.0  0.0  0.0  0.0  0.0  0.0  0.0  0.0  0.0  \n",
       "25      5494.0 ...   0.0  0.0  0.0  0.0  0.0  0.0  0.0  0.0  0.0  0.0  \n",
       "26      5486.0 ...   0.0  0.0  0.0  0.0  0.0  0.0  0.0  0.0  0.0  0.0  \n",
       "27      3395.0 ...   0.0  0.0  0.0  0.0  0.0  0.0  0.0  0.0  0.0  0.0  \n",
       "28      5643.0 ...   0.0  0.0  0.0  0.0  0.0  0.0  0.0  0.0  0.0  0.0  \n",
       "29      6033.0 ...   0.0  0.0  0.0  0.0  0.0  0.0  0.0  0.0  0.0  0.0  \n",
       "...        ... ...   ...  ...  ...  ...  ...  ...  ...  ...  ...  ...  \n",
       "580982   973.0 ...   0.0  0.0  0.0  0.0  0.0  0.0  0.0  0.0  0.0  0.0  \n",
       "580983   957.0 ...   0.0  0.0  0.0  0.0  0.0  0.0  0.0  0.0  0.0  0.0  \n",
       "580984   942.0 ...   0.0  0.0  0.0  0.0  0.0  0.0  0.0  0.0  0.0  0.0  \n",
       "580985   927.0 ...   0.0  0.0  0.0  0.0  0.0  0.0  0.0  0.0  0.0  0.0  \n",
       "580986   912.0 ...   0.0  0.0  0.0  0.0  0.0  0.0  0.0  0.0  0.0  0.0  \n",
       "580987   899.0 ...   0.0  0.0  0.0  0.0  0.0  0.0  0.0  0.0  0.0  0.0  \n",
       "580988   886.0 ...   0.0  0.0  0.0  0.0  0.0  0.0  0.0  0.0  0.0  0.0  \n",
       "580989   875.0 ...   0.0  0.0  0.0  0.0  0.0  0.0  0.0  0.0  0.0  0.0  \n",
       "580990   864.0 ...   0.0  0.0  0.0  0.0  0.0  0.0  0.0  0.0  0.0  0.0  \n",
       "580991   854.0 ...   0.0  0.0  0.0  0.0  0.0  0.0  0.0  0.0  0.0  0.0  \n",
       "580992   845.0 ...   0.0  0.0  0.0  0.0  0.0  0.0  0.0  0.0  0.0  0.0  \n",
       "580993   837.0 ...   0.0  0.0  0.0  0.0  0.0  0.0  0.0  0.0  0.0  0.0  \n",
       "580994   830.0 ...   0.0  0.0  0.0  0.0  0.0  0.0  0.0  0.0  0.0  0.0  \n",
       "580995   824.0 ...   0.0  0.0  0.0  0.0  0.0  0.0  0.0  0.0  0.0  0.0  \n",
       "580996   819.0 ...   0.0  0.0  0.0  0.0  0.0  0.0  0.0  0.0  0.0  0.0  \n",
       "580997   815.0 ...   0.0  0.0  0.0  0.0  0.0  0.0  0.0  0.0  0.0  0.0  \n",
       "580998   812.0 ...   0.0  0.0  0.0  0.0  0.0  0.0  0.0  0.0  0.0  0.0  \n",
       "580999   811.0 ...   0.0  0.0  0.0  0.0  0.0  0.0  0.0  0.0  0.0  0.0  \n",
       "581000   810.0 ...   0.0  0.0  0.0  0.0  0.0  0.0  0.0  0.0  0.0  0.0  \n",
       "581001   811.0 ...   0.0  0.0  0.0  0.0  0.0  0.0  0.0  0.0  0.0  0.0  \n",
       "581002   812.0 ...   0.0  0.0  0.0  0.0  0.0  0.0  0.0  0.0  0.0  0.0  \n",
       "581003   815.0 ...   0.0  0.0  0.0  0.0  0.0  0.0  0.0  0.0  0.0  0.0  \n",
       "581004   819.0 ...   0.0  0.0  0.0  0.0  0.0  0.0  0.0  0.0  0.0  0.0  \n",
       "581005   824.0 ...   0.0  0.0  0.0  0.0  0.0  0.0  0.0  0.0  0.0  0.0  \n",
       "581006   830.0 ...   0.0  0.0  0.0  0.0  0.0  0.0  0.0  0.0  0.0  0.0  \n",
       "581007   837.0 ...   0.0  0.0  0.0  0.0  0.0  0.0  0.0  0.0  0.0  0.0  \n",
       "581008   845.0 ...   0.0  0.0  0.0  0.0  0.0  0.0  0.0  0.0  0.0  0.0  \n",
       "581009   854.0 ...   0.0  0.0  0.0  0.0  0.0  0.0  0.0  0.0  0.0  0.0  \n",
       "581010   864.0 ...   0.0  0.0  0.0  0.0  0.0  0.0  0.0  0.0  0.0  0.0  \n",
       "581011   875.0 ...   0.0  0.0  0.0  0.0  0.0  0.0  0.0  0.0  0.0  0.0  \n",
       "\n",
       "[581012 rows x 54 columns]"
      ]
     },
     "execution_count": 14,
     "metadata": {},
     "output_type": "execute_result"
    }
   ],
   "source": [
    "df = pd.DataFrame(covtype.data); df"
   ]
  },
  {
   "cell_type": "code",
   "execution_count": 21,
   "metadata": {
    "scrolled": true
   },
   "outputs": [
    {
     "data": {
      "text/html": [
       "<div>\n",
       "<style scoped>\n",
       "    .dataframe tbody tr th:only-of-type {\n",
       "        vertical-align: middle;\n",
       "    }\n",
       "\n",
       "    .dataframe tbody tr th {\n",
       "        vertical-align: top;\n",
       "    }\n",
       "\n",
       "    .dataframe thead th {\n",
       "        text-align: right;\n",
       "    }\n",
       "</style>\n",
       "<table border=\"1\" class=\"dataframe\">\n",
       "  <thead>\n",
       "    <tr style=\"text-align: right;\">\n",
       "      <th></th>\n",
       "      <th>0</th>\n",
       "      <th>1</th>\n",
       "      <th>2</th>\n",
       "      <th>3</th>\n",
       "      <th>4</th>\n",
       "      <th>5</th>\n",
       "      <th>6</th>\n",
       "      <th>7</th>\n",
       "      <th>8</th>\n",
       "      <th>9</th>\n",
       "      <th>10</th>\n",
       "      <th>11</th>\n",
       "      <th>12</th>\n",
       "      <th>13</th>\n",
       "      <th>14</th>\n",
       "      <th>15</th>\n",
       "      <th>16</th>\n",
       "      <th>17</th>\n",
       "      <th>18</th>\n",
       "      <th>19</th>\n",
       "    </tr>\n",
       "  </thead>\n",
       "  <tbody>\n",
       "    <tr>\n",
       "      <th>0</th>\n",
       "      <td>2596.0</td>\n",
       "      <td>51.0</td>\n",
       "      <td>3.0</td>\n",
       "      <td>258.0</td>\n",
       "      <td>0.0</td>\n",
       "      <td>510.0</td>\n",
       "      <td>221.0</td>\n",
       "      <td>232.0</td>\n",
       "      <td>148.0</td>\n",
       "      <td>6279.0</td>\n",
       "      <td>1.0</td>\n",
       "      <td>0.0</td>\n",
       "      <td>0.0</td>\n",
       "      <td>0.0</td>\n",
       "      <td>0.0</td>\n",
       "      <td>0.0</td>\n",
       "      <td>0.0</td>\n",
       "      <td>0.0</td>\n",
       "      <td>0.0</td>\n",
       "      <td>0.0</td>\n",
       "    </tr>\n",
       "    <tr>\n",
       "      <th>1</th>\n",
       "      <td>2590.0</td>\n",
       "      <td>56.0</td>\n",
       "      <td>2.0</td>\n",
       "      <td>212.0</td>\n",
       "      <td>-6.0</td>\n",
       "      <td>390.0</td>\n",
       "      <td>220.0</td>\n",
       "      <td>235.0</td>\n",
       "      <td>151.0</td>\n",
       "      <td>6225.0</td>\n",
       "      <td>1.0</td>\n",
       "      <td>0.0</td>\n",
       "      <td>0.0</td>\n",
       "      <td>0.0</td>\n",
       "      <td>0.0</td>\n",
       "      <td>0.0</td>\n",
       "      <td>0.0</td>\n",
       "      <td>0.0</td>\n",
       "      <td>0.0</td>\n",
       "      <td>0.0</td>\n",
       "    </tr>\n",
       "    <tr>\n",
       "      <th>2</th>\n",
       "      <td>2804.0</td>\n",
       "      <td>139.0</td>\n",
       "      <td>9.0</td>\n",
       "      <td>268.0</td>\n",
       "      <td>65.0</td>\n",
       "      <td>3180.0</td>\n",
       "      <td>234.0</td>\n",
       "      <td>238.0</td>\n",
       "      <td>135.0</td>\n",
       "      <td>6121.0</td>\n",
       "      <td>1.0</td>\n",
       "      <td>0.0</td>\n",
       "      <td>0.0</td>\n",
       "      <td>0.0</td>\n",
       "      <td>0.0</td>\n",
       "      <td>0.0</td>\n",
       "      <td>0.0</td>\n",
       "      <td>0.0</td>\n",
       "      <td>0.0</td>\n",
       "      <td>0.0</td>\n",
       "    </tr>\n",
       "    <tr>\n",
       "      <th>3</th>\n",
       "      <td>2785.0</td>\n",
       "      <td>155.0</td>\n",
       "      <td>18.0</td>\n",
       "      <td>242.0</td>\n",
       "      <td>118.0</td>\n",
       "      <td>3090.0</td>\n",
       "      <td>238.0</td>\n",
       "      <td>238.0</td>\n",
       "      <td>122.0</td>\n",
       "      <td>6211.0</td>\n",
       "      <td>1.0</td>\n",
       "      <td>0.0</td>\n",
       "      <td>0.0</td>\n",
       "      <td>0.0</td>\n",
       "      <td>0.0</td>\n",
       "      <td>0.0</td>\n",
       "      <td>0.0</td>\n",
       "      <td>0.0</td>\n",
       "      <td>0.0</td>\n",
       "      <td>0.0</td>\n",
       "    </tr>\n",
       "    <tr>\n",
       "      <th>4</th>\n",
       "      <td>2595.0</td>\n",
       "      <td>45.0</td>\n",
       "      <td>2.0</td>\n",
       "      <td>153.0</td>\n",
       "      <td>-1.0</td>\n",
       "      <td>391.0</td>\n",
       "      <td>220.0</td>\n",
       "      <td>234.0</td>\n",
       "      <td>150.0</td>\n",
       "      <td>6172.0</td>\n",
       "      <td>1.0</td>\n",
       "      <td>0.0</td>\n",
       "      <td>0.0</td>\n",
       "      <td>0.0</td>\n",
       "      <td>0.0</td>\n",
       "      <td>0.0</td>\n",
       "      <td>0.0</td>\n",
       "      <td>0.0</td>\n",
       "      <td>0.0</td>\n",
       "      <td>0.0</td>\n",
       "    </tr>\n",
       "    <tr>\n",
       "      <th>5</th>\n",
       "      <td>2579.0</td>\n",
       "      <td>132.0</td>\n",
       "      <td>6.0</td>\n",
       "      <td>300.0</td>\n",
       "      <td>-15.0</td>\n",
       "      <td>67.0</td>\n",
       "      <td>230.0</td>\n",
       "      <td>237.0</td>\n",
       "      <td>140.0</td>\n",
       "      <td>6031.0</td>\n",
       "      <td>1.0</td>\n",
       "      <td>0.0</td>\n",
       "      <td>0.0</td>\n",
       "      <td>0.0</td>\n",
       "      <td>0.0</td>\n",
       "      <td>0.0</td>\n",
       "      <td>0.0</td>\n",
       "      <td>0.0</td>\n",
       "      <td>0.0</td>\n",
       "      <td>0.0</td>\n",
       "    </tr>\n",
       "    <tr>\n",
       "      <th>6</th>\n",
       "      <td>2606.0</td>\n",
       "      <td>45.0</td>\n",
       "      <td>7.0</td>\n",
       "      <td>270.0</td>\n",
       "      <td>5.0</td>\n",
       "      <td>633.0</td>\n",
       "      <td>222.0</td>\n",
       "      <td>225.0</td>\n",
       "      <td>138.0</td>\n",
       "      <td>6256.0</td>\n",
       "      <td>1.0</td>\n",
       "      <td>0.0</td>\n",
       "      <td>0.0</td>\n",
       "      <td>0.0</td>\n",
       "      <td>0.0</td>\n",
       "      <td>0.0</td>\n",
       "      <td>0.0</td>\n",
       "      <td>0.0</td>\n",
       "      <td>0.0</td>\n",
       "      <td>0.0</td>\n",
       "    </tr>\n",
       "    <tr>\n",
       "      <th>7</th>\n",
       "      <td>2605.0</td>\n",
       "      <td>49.0</td>\n",
       "      <td>4.0</td>\n",
       "      <td>234.0</td>\n",
       "      <td>7.0</td>\n",
       "      <td>573.0</td>\n",
       "      <td>222.0</td>\n",
       "      <td>230.0</td>\n",
       "      <td>144.0</td>\n",
       "      <td>6228.0</td>\n",
       "      <td>1.0</td>\n",
       "      <td>0.0</td>\n",
       "      <td>0.0</td>\n",
       "      <td>0.0</td>\n",
       "      <td>0.0</td>\n",
       "      <td>0.0</td>\n",
       "      <td>0.0</td>\n",
       "      <td>0.0</td>\n",
       "      <td>0.0</td>\n",
       "      <td>0.0</td>\n",
       "    </tr>\n",
       "    <tr>\n",
       "      <th>8</th>\n",
       "      <td>2617.0</td>\n",
       "      <td>45.0</td>\n",
       "      <td>9.0</td>\n",
       "      <td>240.0</td>\n",
       "      <td>56.0</td>\n",
       "      <td>666.0</td>\n",
       "      <td>223.0</td>\n",
       "      <td>221.0</td>\n",
       "      <td>133.0</td>\n",
       "      <td>6244.0</td>\n",
       "      <td>1.0</td>\n",
       "      <td>0.0</td>\n",
       "      <td>0.0</td>\n",
       "      <td>0.0</td>\n",
       "      <td>0.0</td>\n",
       "      <td>0.0</td>\n",
       "      <td>0.0</td>\n",
       "      <td>0.0</td>\n",
       "      <td>0.0</td>\n",
       "      <td>0.0</td>\n",
       "    </tr>\n",
       "    <tr>\n",
       "      <th>9</th>\n",
       "      <td>2612.0</td>\n",
       "      <td>59.0</td>\n",
       "      <td>10.0</td>\n",
       "      <td>247.0</td>\n",
       "      <td>11.0</td>\n",
       "      <td>636.0</td>\n",
       "      <td>228.0</td>\n",
       "      <td>219.0</td>\n",
       "      <td>124.0</td>\n",
       "      <td>6230.0</td>\n",
       "      <td>1.0</td>\n",
       "      <td>0.0</td>\n",
       "      <td>0.0</td>\n",
       "      <td>0.0</td>\n",
       "      <td>0.0</td>\n",
       "      <td>0.0</td>\n",
       "      <td>0.0</td>\n",
       "      <td>0.0</td>\n",
       "      <td>0.0</td>\n",
       "      <td>0.0</td>\n",
       "    </tr>\n",
       "    <tr>\n",
       "      <th>10</th>\n",
       "      <td>2612.0</td>\n",
       "      <td>201.0</td>\n",
       "      <td>4.0</td>\n",
       "      <td>180.0</td>\n",
       "      <td>51.0</td>\n",
       "      <td>735.0</td>\n",
       "      <td>218.0</td>\n",
       "      <td>243.0</td>\n",
       "      <td>161.0</td>\n",
       "      <td>6222.0</td>\n",
       "      <td>1.0</td>\n",
       "      <td>0.0</td>\n",
       "      <td>0.0</td>\n",
       "      <td>0.0</td>\n",
       "      <td>0.0</td>\n",
       "      <td>0.0</td>\n",
       "      <td>0.0</td>\n",
       "      <td>0.0</td>\n",
       "      <td>0.0</td>\n",
       "      <td>0.0</td>\n",
       "    </tr>\n",
       "    <tr>\n",
       "      <th>11</th>\n",
       "      <td>2886.0</td>\n",
       "      <td>151.0</td>\n",
       "      <td>11.0</td>\n",
       "      <td>371.0</td>\n",
       "      <td>26.0</td>\n",
       "      <td>5253.0</td>\n",
       "      <td>234.0</td>\n",
       "      <td>240.0</td>\n",
       "      <td>136.0</td>\n",
       "      <td>4051.0</td>\n",
       "      <td>1.0</td>\n",
       "      <td>0.0</td>\n",
       "      <td>0.0</td>\n",
       "      <td>0.0</td>\n",
       "      <td>0.0</td>\n",
       "      <td>0.0</td>\n",
       "      <td>0.0</td>\n",
       "      <td>0.0</td>\n",
       "      <td>0.0</td>\n",
       "      <td>0.0</td>\n",
       "    </tr>\n",
       "    <tr>\n",
       "      <th>12</th>\n",
       "      <td>2742.0</td>\n",
       "      <td>134.0</td>\n",
       "      <td>22.0</td>\n",
       "      <td>150.0</td>\n",
       "      <td>69.0</td>\n",
       "      <td>3215.0</td>\n",
       "      <td>248.0</td>\n",
       "      <td>224.0</td>\n",
       "      <td>92.0</td>\n",
       "      <td>6091.0</td>\n",
       "      <td>1.0</td>\n",
       "      <td>0.0</td>\n",
       "      <td>0.0</td>\n",
       "      <td>0.0</td>\n",
       "      <td>0.0</td>\n",
       "      <td>0.0</td>\n",
       "      <td>0.0</td>\n",
       "      <td>0.0</td>\n",
       "      <td>0.0</td>\n",
       "      <td>0.0</td>\n",
       "    </tr>\n",
       "    <tr>\n",
       "      <th>13</th>\n",
       "      <td>2609.0</td>\n",
       "      <td>214.0</td>\n",
       "      <td>7.0</td>\n",
       "      <td>150.0</td>\n",
       "      <td>46.0</td>\n",
       "      <td>771.0</td>\n",
       "      <td>213.0</td>\n",
       "      <td>247.0</td>\n",
       "      <td>170.0</td>\n",
       "      <td>6211.0</td>\n",
       "      <td>1.0</td>\n",
       "      <td>0.0</td>\n",
       "      <td>0.0</td>\n",
       "      <td>0.0</td>\n",
       "      <td>0.0</td>\n",
       "      <td>0.0</td>\n",
       "      <td>0.0</td>\n",
       "      <td>0.0</td>\n",
       "      <td>0.0</td>\n",
       "      <td>0.0</td>\n",
       "    </tr>\n",
       "    <tr>\n",
       "      <th>14</th>\n",
       "      <td>2503.0</td>\n",
       "      <td>157.0</td>\n",
       "      <td>4.0</td>\n",
       "      <td>67.0</td>\n",
       "      <td>4.0</td>\n",
       "      <td>674.0</td>\n",
       "      <td>224.0</td>\n",
       "      <td>240.0</td>\n",
       "      <td>151.0</td>\n",
       "      <td>5600.0</td>\n",
       "      <td>1.0</td>\n",
       "      <td>0.0</td>\n",
       "      <td>0.0</td>\n",
       "      <td>0.0</td>\n",
       "      <td>0.0</td>\n",
       "      <td>0.0</td>\n",
       "      <td>0.0</td>\n",
       "      <td>0.0</td>\n",
       "      <td>0.0</td>\n",
       "      <td>0.0</td>\n",
       "    </tr>\n",
       "    <tr>\n",
       "      <th>15</th>\n",
       "      <td>2495.0</td>\n",
       "      <td>51.0</td>\n",
       "      <td>7.0</td>\n",
       "      <td>42.0</td>\n",
       "      <td>2.0</td>\n",
       "      <td>752.0</td>\n",
       "      <td>224.0</td>\n",
       "      <td>225.0</td>\n",
       "      <td>137.0</td>\n",
       "      <td>5576.0</td>\n",
       "      <td>1.0</td>\n",
       "      <td>0.0</td>\n",
       "      <td>0.0</td>\n",
       "      <td>0.0</td>\n",
       "      <td>0.0</td>\n",
       "      <td>0.0</td>\n",
       "      <td>0.0</td>\n",
       "      <td>0.0</td>\n",
       "      <td>0.0</td>\n",
       "      <td>0.0</td>\n",
       "    </tr>\n",
       "    <tr>\n",
       "      <th>16</th>\n",
       "      <td>2610.0</td>\n",
       "      <td>259.0</td>\n",
       "      <td>1.0</td>\n",
       "      <td>120.0</td>\n",
       "      <td>-1.0</td>\n",
       "      <td>607.0</td>\n",
       "      <td>216.0</td>\n",
       "      <td>239.0</td>\n",
       "      <td>161.0</td>\n",
       "      <td>6096.0</td>\n",
       "      <td>1.0</td>\n",
       "      <td>0.0</td>\n",
       "      <td>0.0</td>\n",
       "      <td>0.0</td>\n",
       "      <td>0.0</td>\n",
       "      <td>0.0</td>\n",
       "      <td>0.0</td>\n",
       "      <td>0.0</td>\n",
       "      <td>0.0</td>\n",
       "      <td>0.0</td>\n",
       "    </tr>\n",
       "    <tr>\n",
       "      <th>17</th>\n",
       "      <td>2517.0</td>\n",
       "      <td>72.0</td>\n",
       "      <td>7.0</td>\n",
       "      <td>85.0</td>\n",
       "      <td>6.0</td>\n",
       "      <td>595.0</td>\n",
       "      <td>228.0</td>\n",
       "      <td>227.0</td>\n",
       "      <td>133.0</td>\n",
       "      <td>5607.0</td>\n",
       "      <td>1.0</td>\n",
       "      <td>0.0</td>\n",
       "      <td>0.0</td>\n",
       "      <td>0.0</td>\n",
       "      <td>0.0</td>\n",
       "      <td>0.0</td>\n",
       "      <td>0.0</td>\n",
       "      <td>0.0</td>\n",
       "      <td>0.0</td>\n",
       "      <td>0.0</td>\n",
       "    </tr>\n",
       "    <tr>\n",
       "      <th>18</th>\n",
       "      <td>2504.0</td>\n",
       "      <td>0.0</td>\n",
       "      <td>4.0</td>\n",
       "      <td>95.0</td>\n",
       "      <td>5.0</td>\n",
       "      <td>691.0</td>\n",
       "      <td>214.0</td>\n",
       "      <td>232.0</td>\n",
       "      <td>156.0</td>\n",
       "      <td>5572.0</td>\n",
       "      <td>1.0</td>\n",
       "      <td>0.0</td>\n",
       "      <td>0.0</td>\n",
       "      <td>0.0</td>\n",
       "      <td>0.0</td>\n",
       "      <td>0.0</td>\n",
       "      <td>0.0</td>\n",
       "      <td>0.0</td>\n",
       "      <td>0.0</td>\n",
       "      <td>0.0</td>\n",
       "    </tr>\n",
       "    <tr>\n",
       "      <th>19</th>\n",
       "      <td>2503.0</td>\n",
       "      <td>38.0</td>\n",
       "      <td>5.0</td>\n",
       "      <td>85.0</td>\n",
       "      <td>10.0</td>\n",
       "      <td>741.0</td>\n",
       "      <td>220.0</td>\n",
       "      <td>228.0</td>\n",
       "      <td>144.0</td>\n",
       "      <td>5555.0</td>\n",
       "      <td>1.0</td>\n",
       "      <td>0.0</td>\n",
       "      <td>0.0</td>\n",
       "      <td>0.0</td>\n",
       "      <td>0.0</td>\n",
       "      <td>0.0</td>\n",
       "      <td>0.0</td>\n",
       "      <td>0.0</td>\n",
       "      <td>0.0</td>\n",
       "      <td>0.0</td>\n",
       "    </tr>\n",
       "    <tr>\n",
       "      <th>20</th>\n",
       "      <td>2501.0</td>\n",
       "      <td>71.0</td>\n",
       "      <td>9.0</td>\n",
       "      <td>60.0</td>\n",
       "      <td>8.0</td>\n",
       "      <td>767.0</td>\n",
       "      <td>230.0</td>\n",
       "      <td>223.0</td>\n",
       "      <td>126.0</td>\n",
       "      <td>5547.0</td>\n",
       "      <td>1.0</td>\n",
       "      <td>0.0</td>\n",
       "      <td>0.0</td>\n",
       "      <td>0.0</td>\n",
       "      <td>0.0</td>\n",
       "      <td>0.0</td>\n",
       "      <td>0.0</td>\n",
       "      <td>0.0</td>\n",
       "      <td>0.0</td>\n",
       "      <td>0.0</td>\n",
       "    </tr>\n",
       "    <tr>\n",
       "      <th>21</th>\n",
       "      <td>2880.0</td>\n",
       "      <td>209.0</td>\n",
       "      <td>17.0</td>\n",
       "      <td>216.0</td>\n",
       "      <td>30.0</td>\n",
       "      <td>4986.0</td>\n",
       "      <td>206.0</td>\n",
       "      <td>253.0</td>\n",
       "      <td>179.0</td>\n",
       "      <td>4323.0</td>\n",
       "      <td>1.0</td>\n",
       "      <td>0.0</td>\n",
       "      <td>0.0</td>\n",
       "      <td>0.0</td>\n",
       "      <td>0.0</td>\n",
       "      <td>0.0</td>\n",
       "      <td>0.0</td>\n",
       "      <td>0.0</td>\n",
       "      <td>0.0</td>\n",
       "      <td>0.0</td>\n",
       "    </tr>\n",
       "    <tr>\n",
       "      <th>22</th>\n",
       "      <td>2768.0</td>\n",
       "      <td>114.0</td>\n",
       "      <td>23.0</td>\n",
       "      <td>192.0</td>\n",
       "      <td>82.0</td>\n",
       "      <td>3339.0</td>\n",
       "      <td>252.0</td>\n",
       "      <td>209.0</td>\n",
       "      <td>71.0</td>\n",
       "      <td>5972.0</td>\n",
       "      <td>1.0</td>\n",
       "      <td>0.0</td>\n",
       "      <td>0.0</td>\n",
       "      <td>0.0</td>\n",
       "      <td>0.0</td>\n",
       "      <td>0.0</td>\n",
       "      <td>0.0</td>\n",
       "      <td>0.0</td>\n",
       "      <td>0.0</td>\n",
       "      <td>0.0</td>\n",
       "    </tr>\n",
       "    <tr>\n",
       "      <th>23</th>\n",
       "      <td>2511.0</td>\n",
       "      <td>54.0</td>\n",
       "      <td>8.0</td>\n",
       "      <td>124.0</td>\n",
       "      <td>0.0</td>\n",
       "      <td>638.0</td>\n",
       "      <td>225.0</td>\n",
       "      <td>222.0</td>\n",
       "      <td>130.0</td>\n",
       "      <td>5569.0</td>\n",
       "      <td>1.0</td>\n",
       "      <td>0.0</td>\n",
       "      <td>0.0</td>\n",
       "      <td>0.0</td>\n",
       "      <td>0.0</td>\n",
       "      <td>0.0</td>\n",
       "      <td>0.0</td>\n",
       "      <td>0.0</td>\n",
       "      <td>0.0</td>\n",
       "      <td>0.0</td>\n",
       "    </tr>\n",
       "    <tr>\n",
       "      <th>24</th>\n",
       "      <td>2507.0</td>\n",
       "      <td>22.0</td>\n",
       "      <td>9.0</td>\n",
       "      <td>120.0</td>\n",
       "      <td>14.0</td>\n",
       "      <td>732.0</td>\n",
       "      <td>215.0</td>\n",
       "      <td>221.0</td>\n",
       "      <td>143.0</td>\n",
       "      <td>5534.0</td>\n",
       "      <td>1.0</td>\n",
       "      <td>0.0</td>\n",
       "      <td>0.0</td>\n",
       "      <td>0.0</td>\n",
       "      <td>0.0</td>\n",
       "      <td>0.0</td>\n",
       "      <td>0.0</td>\n",
       "      <td>0.0</td>\n",
       "      <td>0.0</td>\n",
       "      <td>0.0</td>\n",
       "    </tr>\n",
       "    <tr>\n",
       "      <th>25</th>\n",
       "      <td>2492.0</td>\n",
       "      <td>135.0</td>\n",
       "      <td>6.0</td>\n",
       "      <td>0.0</td>\n",
       "      <td>0.0</td>\n",
       "      <td>860.0</td>\n",
       "      <td>229.0</td>\n",
       "      <td>237.0</td>\n",
       "      <td>142.0</td>\n",
       "      <td>5494.0</td>\n",
       "      <td>1.0</td>\n",
       "      <td>0.0</td>\n",
       "      <td>0.0</td>\n",
       "      <td>0.0</td>\n",
       "      <td>0.0</td>\n",
       "      <td>0.0</td>\n",
       "      <td>0.0</td>\n",
       "      <td>0.0</td>\n",
       "      <td>0.0</td>\n",
       "      <td>0.0</td>\n",
       "    </tr>\n",
       "    <tr>\n",
       "      <th>26</th>\n",
       "      <td>2489.0</td>\n",
       "      <td>163.0</td>\n",
       "      <td>10.0</td>\n",
       "      <td>30.0</td>\n",
       "      <td>-4.0</td>\n",
       "      <td>849.0</td>\n",
       "      <td>230.0</td>\n",
       "      <td>243.0</td>\n",
       "      <td>145.0</td>\n",
       "      <td>5486.0</td>\n",
       "      <td>1.0</td>\n",
       "      <td>0.0</td>\n",
       "      <td>0.0</td>\n",
       "      <td>0.0</td>\n",
       "      <td>0.0</td>\n",
       "      <td>0.0</td>\n",
       "      <td>0.0</td>\n",
       "      <td>0.0</td>\n",
       "      <td>0.0</td>\n",
       "      <td>0.0</td>\n",
       "    </tr>\n",
       "    <tr>\n",
       "      <th>27</th>\n",
       "      <td>2962.0</td>\n",
       "      <td>148.0</td>\n",
       "      <td>16.0</td>\n",
       "      <td>323.0</td>\n",
       "      <td>23.0</td>\n",
       "      <td>5916.0</td>\n",
       "      <td>240.0</td>\n",
       "      <td>236.0</td>\n",
       "      <td>120.0</td>\n",
       "      <td>3395.0</td>\n",
       "      <td>1.0</td>\n",
       "      <td>0.0</td>\n",
       "      <td>0.0</td>\n",
       "      <td>0.0</td>\n",
       "      <td>0.0</td>\n",
       "      <td>0.0</td>\n",
       "      <td>0.0</td>\n",
       "      <td>0.0</td>\n",
       "      <td>0.0</td>\n",
       "      <td>0.0</td>\n",
       "    </tr>\n",
       "    <tr>\n",
       "      <th>28</th>\n",
       "      <td>2811.0</td>\n",
       "      <td>135.0</td>\n",
       "      <td>1.0</td>\n",
       "      <td>212.0</td>\n",
       "      <td>30.0</td>\n",
       "      <td>3670.0</td>\n",
       "      <td>220.0</td>\n",
       "      <td>238.0</td>\n",
       "      <td>154.0</td>\n",
       "      <td>5643.0</td>\n",
       "      <td>1.0</td>\n",
       "      <td>0.0</td>\n",
       "      <td>0.0</td>\n",
       "      <td>0.0</td>\n",
       "      <td>0.0</td>\n",
       "      <td>0.0</td>\n",
       "      <td>0.0</td>\n",
       "      <td>0.0</td>\n",
       "      <td>0.0</td>\n",
       "      <td>0.0</td>\n",
       "    </tr>\n",
       "    <tr>\n",
       "      <th>29</th>\n",
       "      <td>2739.0</td>\n",
       "      <td>117.0</td>\n",
       "      <td>24.0</td>\n",
       "      <td>127.0</td>\n",
       "      <td>53.0</td>\n",
       "      <td>3281.0</td>\n",
       "      <td>253.0</td>\n",
       "      <td>210.0</td>\n",
       "      <td>71.0</td>\n",
       "      <td>6033.0</td>\n",
       "      <td>1.0</td>\n",
       "      <td>0.0</td>\n",
       "      <td>0.0</td>\n",
       "      <td>0.0</td>\n",
       "      <td>0.0</td>\n",
       "      <td>0.0</td>\n",
       "      <td>0.0</td>\n",
       "      <td>0.0</td>\n",
       "      <td>0.0</td>\n",
       "      <td>0.0</td>\n",
       "    </tr>\n",
       "    <tr>\n",
       "      <th>...</th>\n",
       "      <td>...</td>\n",
       "      <td>...</td>\n",
       "      <td>...</td>\n",
       "      <td>...</td>\n",
       "      <td>...</td>\n",
       "      <td>...</td>\n",
       "      <td>...</td>\n",
       "      <td>...</td>\n",
       "      <td>...</td>\n",
       "      <td>...</td>\n",
       "      <td>...</td>\n",
       "      <td>...</td>\n",
       "      <td>...</td>\n",
       "      <td>...</td>\n",
       "      <td>...</td>\n",
       "      <td>...</td>\n",
       "      <td>...</td>\n",
       "      <td>...</td>\n",
       "      <td>...</td>\n",
       "      <td>...</td>\n",
       "    </tr>\n",
       "    <tr>\n",
       "      <th>580982</th>\n",
       "      <td>2431.0</td>\n",
       "      <td>182.0</td>\n",
       "      <td>9.0</td>\n",
       "      <td>300.0</td>\n",
       "      <td>23.0</td>\n",
       "      <td>268.0</td>\n",
       "      <td>223.0</td>\n",
       "      <td>246.0</td>\n",
       "      <td>156.0</td>\n",
       "      <td>973.0</td>\n",
       "      <td>0.0</td>\n",
       "      <td>0.0</td>\n",
       "      <td>1.0</td>\n",
       "      <td>0.0</td>\n",
       "      <td>0.0</td>\n",
       "      <td>1.0</td>\n",
       "      <td>0.0</td>\n",
       "      <td>0.0</td>\n",
       "      <td>0.0</td>\n",
       "      <td>0.0</td>\n",
       "    </tr>\n",
       "    <tr>\n",
       "      <th>580983</th>\n",
       "      <td>2436.0</td>\n",
       "      <td>219.0</td>\n",
       "      <td>15.0</td>\n",
       "      <td>300.0</td>\n",
       "      <td>28.0</td>\n",
       "      <td>256.0</td>\n",
       "      <td>203.0</td>\n",
       "      <td>253.0</td>\n",
       "      <td>184.0</td>\n",
       "      <td>957.0</td>\n",
       "      <td>0.0</td>\n",
       "      <td>0.0</td>\n",
       "      <td>1.0</td>\n",
       "      <td>0.0</td>\n",
       "      <td>0.0</td>\n",
       "      <td>1.0</td>\n",
       "      <td>0.0</td>\n",
       "      <td>0.0</td>\n",
       "      <td>0.0</td>\n",
       "      <td>0.0</td>\n",
       "    </tr>\n",
       "    <tr>\n",
       "      <th>580984</th>\n",
       "      <td>2441.0</td>\n",
       "      <td>201.0</td>\n",
       "      <td>15.0</td>\n",
       "      <td>300.0</td>\n",
       "      <td>33.0</td>\n",
       "      <td>247.0</td>\n",
       "      <td>212.0</td>\n",
       "      <td>252.0</td>\n",
       "      <td>171.0</td>\n",
       "      <td>942.0</td>\n",
       "      <td>0.0</td>\n",
       "      <td>0.0</td>\n",
       "      <td>1.0</td>\n",
       "      <td>0.0</td>\n",
       "      <td>0.0</td>\n",
       "      <td>1.0</td>\n",
       "      <td>0.0</td>\n",
       "      <td>0.0</td>\n",
       "      <td>0.0</td>\n",
       "      <td>0.0</td>\n",
       "    </tr>\n",
       "    <tr>\n",
       "      <th>580985</th>\n",
       "      <td>2442.0</td>\n",
       "      <td>191.0</td>\n",
       "      <td>17.0</td>\n",
       "      <td>300.0</td>\n",
       "      <td>34.0</td>\n",
       "      <td>242.0</td>\n",
       "      <td>217.0</td>\n",
       "      <td>251.0</td>\n",
       "      <td>162.0</td>\n",
       "      <td>927.0</td>\n",
       "      <td>0.0</td>\n",
       "      <td>0.0</td>\n",
       "      <td>1.0</td>\n",
       "      <td>0.0</td>\n",
       "      <td>0.0</td>\n",
       "      <td>1.0</td>\n",
       "      <td>0.0</td>\n",
       "      <td>0.0</td>\n",
       "      <td>0.0</td>\n",
       "      <td>0.0</td>\n",
       "    </tr>\n",
       "    <tr>\n",
       "      <th>580986</th>\n",
       "      <td>2444.0</td>\n",
       "      <td>202.0</td>\n",
       "      <td>21.0</td>\n",
       "      <td>300.0</td>\n",
       "      <td>37.0</td>\n",
       "      <td>240.0</td>\n",
       "      <td>205.0</td>\n",
       "      <td>253.0</td>\n",
       "      <td>174.0</td>\n",
       "      <td>912.0</td>\n",
       "      <td>0.0</td>\n",
       "      <td>0.0</td>\n",
       "      <td>1.0</td>\n",
       "      <td>0.0</td>\n",
       "      <td>0.0</td>\n",
       "      <td>1.0</td>\n",
       "      <td>0.0</td>\n",
       "      <td>0.0</td>\n",
       "      <td>0.0</td>\n",
       "      <td>0.0</td>\n",
       "    </tr>\n",
       "    <tr>\n",
       "      <th>580987</th>\n",
       "      <td>2450.0</td>\n",
       "      <td>203.0</td>\n",
       "      <td>27.0</td>\n",
       "      <td>300.0</td>\n",
       "      <td>53.0</td>\n",
       "      <td>240.0</td>\n",
       "      <td>196.0</td>\n",
       "      <td>252.0</td>\n",
       "      <td>176.0</td>\n",
       "      <td>899.0</td>\n",
       "      <td>0.0</td>\n",
       "      <td>0.0</td>\n",
       "      <td>1.0</td>\n",
       "      <td>0.0</td>\n",
       "      <td>0.0</td>\n",
       "      <td>1.0</td>\n",
       "      <td>0.0</td>\n",
       "      <td>0.0</td>\n",
       "      <td>0.0</td>\n",
       "      <td>0.0</td>\n",
       "    </tr>\n",
       "    <tr>\n",
       "      <th>580988</th>\n",
       "      <td>2455.0</td>\n",
       "      <td>189.0</td>\n",
       "      <td>31.0</td>\n",
       "      <td>295.0</td>\n",
       "      <td>58.0</td>\n",
       "      <td>240.0</td>\n",
       "      <td>205.0</td>\n",
       "      <td>245.0</td>\n",
       "      <td>152.0</td>\n",
       "      <td>886.0</td>\n",
       "      <td>0.0</td>\n",
       "      <td>0.0</td>\n",
       "      <td>1.0</td>\n",
       "      <td>0.0</td>\n",
       "      <td>0.0</td>\n",
       "      <td>1.0</td>\n",
       "      <td>0.0</td>\n",
       "      <td>0.0</td>\n",
       "      <td>0.0</td>\n",
       "      <td>0.0</td>\n",
       "    </tr>\n",
       "    <tr>\n",
       "      <th>580989</th>\n",
       "      <td>2455.0</td>\n",
       "      <td>181.0</td>\n",
       "      <td>34.0</td>\n",
       "      <td>277.0</td>\n",
       "      <td>58.0</td>\n",
       "      <td>240.0</td>\n",
       "      <td>210.0</td>\n",
       "      <td>238.0</td>\n",
       "      <td>133.0</td>\n",
       "      <td>875.0</td>\n",
       "      <td>0.0</td>\n",
       "      <td>0.0</td>\n",
       "      <td>1.0</td>\n",
       "      <td>0.0</td>\n",
       "      <td>0.0</td>\n",
       "      <td>1.0</td>\n",
       "      <td>0.0</td>\n",
       "      <td>0.0</td>\n",
       "      <td>0.0</td>\n",
       "      <td>0.0</td>\n",
       "    </tr>\n",
       "    <tr>\n",
       "      <th>580990</th>\n",
       "      <td>2455.0</td>\n",
       "      <td>166.0</td>\n",
       "      <td>35.0</td>\n",
       "      <td>258.0</td>\n",
       "      <td>58.0</td>\n",
       "      <td>240.0</td>\n",
       "      <td>225.0</td>\n",
       "      <td>227.0</td>\n",
       "      <td>103.0</td>\n",
       "      <td>864.0</td>\n",
       "      <td>0.0</td>\n",
       "      <td>0.0</td>\n",
       "      <td>1.0</td>\n",
       "      <td>0.0</td>\n",
       "      <td>0.0</td>\n",
       "      <td>1.0</td>\n",
       "      <td>0.0</td>\n",
       "      <td>0.0</td>\n",
       "      <td>0.0</td>\n",
       "      <td>0.0</td>\n",
       "    </tr>\n",
       "    <tr>\n",
       "      <th>580991</th>\n",
       "      <td>2445.0</td>\n",
       "      <td>157.0</td>\n",
       "      <td>33.0</td>\n",
       "      <td>242.0</td>\n",
       "      <td>49.0</td>\n",
       "      <td>240.0</td>\n",
       "      <td>235.0</td>\n",
       "      <td>224.0</td>\n",
       "      <td>91.0</td>\n",
       "      <td>854.0</td>\n",
       "      <td>0.0</td>\n",
       "      <td>0.0</td>\n",
       "      <td>1.0</td>\n",
       "      <td>0.0</td>\n",
       "      <td>0.0</td>\n",
       "      <td>1.0</td>\n",
       "      <td>0.0</td>\n",
       "      <td>0.0</td>\n",
       "      <td>0.0</td>\n",
       "      <td>0.0</td>\n",
       "    </tr>\n",
       "    <tr>\n",
       "      <th>580992</th>\n",
       "      <td>2441.0</td>\n",
       "      <td>173.0</td>\n",
       "      <td>28.0</td>\n",
       "      <td>228.0</td>\n",
       "      <td>45.0</td>\n",
       "      <td>242.0</td>\n",
       "      <td>225.0</td>\n",
       "      <td>240.0</td>\n",
       "      <td>128.0</td>\n",
       "      <td>845.0</td>\n",
       "      <td>0.0</td>\n",
       "      <td>0.0</td>\n",
       "      <td>1.0</td>\n",
       "      <td>0.0</td>\n",
       "      <td>0.0</td>\n",
       "      <td>1.0</td>\n",
       "      <td>0.0</td>\n",
       "      <td>0.0</td>\n",
       "      <td>0.0</td>\n",
       "      <td>0.0</td>\n",
       "    </tr>\n",
       "    <tr>\n",
       "      <th>580993</th>\n",
       "      <td>2440.0</td>\n",
       "      <td>173.0</td>\n",
       "      <td>26.0</td>\n",
       "      <td>216.0</td>\n",
       "      <td>44.0</td>\n",
       "      <td>234.0</td>\n",
       "      <td>226.0</td>\n",
       "      <td>242.0</td>\n",
       "      <td>132.0</td>\n",
       "      <td>837.0</td>\n",
       "      <td>0.0</td>\n",
       "      <td>0.0</td>\n",
       "      <td>1.0</td>\n",
       "      <td>0.0</td>\n",
       "      <td>0.0</td>\n",
       "      <td>1.0</td>\n",
       "      <td>0.0</td>\n",
       "      <td>0.0</td>\n",
       "      <td>0.0</td>\n",
       "      <td>0.0</td>\n",
       "    </tr>\n",
       "    <tr>\n",
       "      <th>580994</th>\n",
       "      <td>2437.0</td>\n",
       "      <td>170.0</td>\n",
       "      <td>23.0</td>\n",
       "      <td>201.0</td>\n",
       "      <td>45.0</td>\n",
       "      <td>216.0</td>\n",
       "      <td>229.0</td>\n",
       "      <td>242.0</td>\n",
       "      <td>131.0</td>\n",
       "      <td>830.0</td>\n",
       "      <td>0.0</td>\n",
       "      <td>0.0</td>\n",
       "      <td>1.0</td>\n",
       "      <td>0.0</td>\n",
       "      <td>0.0</td>\n",
       "      <td>1.0</td>\n",
       "      <td>0.0</td>\n",
       "      <td>0.0</td>\n",
       "      <td>0.0</td>\n",
       "      <td>0.0</td>\n",
       "    </tr>\n",
       "    <tr>\n",
       "      <th>580995</th>\n",
       "      <td>2437.0</td>\n",
       "      <td>174.0</td>\n",
       "      <td>22.0</td>\n",
       "      <td>190.0</td>\n",
       "      <td>45.0</td>\n",
       "      <td>201.0</td>\n",
       "      <td>227.0</td>\n",
       "      <td>245.0</td>\n",
       "      <td>139.0</td>\n",
       "      <td>824.0</td>\n",
       "      <td>0.0</td>\n",
       "      <td>0.0</td>\n",
       "      <td>1.0</td>\n",
       "      <td>0.0</td>\n",
       "      <td>0.0</td>\n",
       "      <td>1.0</td>\n",
       "      <td>0.0</td>\n",
       "      <td>0.0</td>\n",
       "      <td>0.0</td>\n",
       "      <td>0.0</td>\n",
       "    </tr>\n",
       "    <tr>\n",
       "      <th>580996</th>\n",
       "      <td>2435.0</td>\n",
       "      <td>171.0</td>\n",
       "      <td>22.0</td>\n",
       "      <td>175.0</td>\n",
       "      <td>43.0</td>\n",
       "      <td>190.0</td>\n",
       "      <td>229.0</td>\n",
       "      <td>244.0</td>\n",
       "      <td>135.0</td>\n",
       "      <td>819.0</td>\n",
       "      <td>0.0</td>\n",
       "      <td>0.0</td>\n",
       "      <td>1.0</td>\n",
       "      <td>0.0</td>\n",
       "      <td>0.0</td>\n",
       "      <td>1.0</td>\n",
       "      <td>0.0</td>\n",
       "      <td>0.0</td>\n",
       "      <td>0.0</td>\n",
       "      <td>0.0</td>\n",
       "    </tr>\n",
       "    <tr>\n",
       "      <th>580997</th>\n",
       "      <td>2433.0</td>\n",
       "      <td>168.0</td>\n",
       "      <td>23.0</td>\n",
       "      <td>162.0</td>\n",
       "      <td>41.0</td>\n",
       "      <td>175.0</td>\n",
       "      <td>231.0</td>\n",
       "      <td>241.0</td>\n",
       "      <td>128.0</td>\n",
       "      <td>815.0</td>\n",
       "      <td>0.0</td>\n",
       "      <td>0.0</td>\n",
       "      <td>1.0</td>\n",
       "      <td>0.0</td>\n",
       "      <td>0.0</td>\n",
       "      <td>1.0</td>\n",
       "      <td>0.0</td>\n",
       "      <td>0.0</td>\n",
       "      <td>0.0</td>\n",
       "      <td>0.0</td>\n",
       "    </tr>\n",
       "    <tr>\n",
       "      <th>580998</th>\n",
       "      <td>2429.0</td>\n",
       "      <td>166.0</td>\n",
       "      <td>24.0</td>\n",
       "      <td>153.0</td>\n",
       "      <td>45.0</td>\n",
       "      <td>162.0</td>\n",
       "      <td>232.0</td>\n",
       "      <td>240.0</td>\n",
       "      <td>125.0</td>\n",
       "      <td>812.0</td>\n",
       "      <td>0.0</td>\n",
       "      <td>0.0</td>\n",
       "      <td>1.0</td>\n",
       "      <td>0.0</td>\n",
       "      <td>0.0</td>\n",
       "      <td>1.0</td>\n",
       "      <td>0.0</td>\n",
       "      <td>0.0</td>\n",
       "      <td>0.0</td>\n",
       "      <td>0.0</td>\n",
       "    </tr>\n",
       "    <tr>\n",
       "      <th>580999</th>\n",
       "      <td>2426.0</td>\n",
       "      <td>168.0</td>\n",
       "      <td>24.0</td>\n",
       "      <td>150.0</td>\n",
       "      <td>42.0</td>\n",
       "      <td>153.0</td>\n",
       "      <td>231.0</td>\n",
       "      <td>241.0</td>\n",
       "      <td>127.0</td>\n",
       "      <td>811.0</td>\n",
       "      <td>0.0</td>\n",
       "      <td>0.0</td>\n",
       "      <td>1.0</td>\n",
       "      <td>0.0</td>\n",
       "      <td>0.0</td>\n",
       "      <td>1.0</td>\n",
       "      <td>0.0</td>\n",
       "      <td>0.0</td>\n",
       "      <td>0.0</td>\n",
       "      <td>0.0</td>\n",
       "    </tr>\n",
       "    <tr>\n",
       "      <th>581000</th>\n",
       "      <td>2423.0</td>\n",
       "      <td>169.0</td>\n",
       "      <td>24.0</td>\n",
       "      <td>134.0</td>\n",
       "      <td>39.0</td>\n",
       "      <td>150.0</td>\n",
       "      <td>230.0</td>\n",
       "      <td>241.0</td>\n",
       "      <td>128.0</td>\n",
       "      <td>810.0</td>\n",
       "      <td>0.0</td>\n",
       "      <td>0.0</td>\n",
       "      <td>1.0</td>\n",
       "      <td>0.0</td>\n",
       "      <td>0.0</td>\n",
       "      <td>1.0</td>\n",
       "      <td>0.0</td>\n",
       "      <td>0.0</td>\n",
       "      <td>0.0</td>\n",
       "      <td>0.0</td>\n",
       "    </tr>\n",
       "    <tr>\n",
       "      <th>581001</th>\n",
       "      <td>2421.0</td>\n",
       "      <td>172.0</td>\n",
       "      <td>25.0</td>\n",
       "      <td>124.0</td>\n",
       "      <td>35.0</td>\n",
       "      <td>134.0</td>\n",
       "      <td>227.0</td>\n",
       "      <td>242.0</td>\n",
       "      <td>132.0</td>\n",
       "      <td>811.0</td>\n",
       "      <td>0.0</td>\n",
       "      <td>0.0</td>\n",
       "      <td>1.0</td>\n",
       "      <td>0.0</td>\n",
       "      <td>0.0</td>\n",
       "      <td>1.0</td>\n",
       "      <td>0.0</td>\n",
       "      <td>0.0</td>\n",
       "      <td>0.0</td>\n",
       "      <td>0.0</td>\n",
       "    </tr>\n",
       "    <tr>\n",
       "      <th>581002</th>\n",
       "      <td>2419.0</td>\n",
       "      <td>168.0</td>\n",
       "      <td>25.0</td>\n",
       "      <td>108.0</td>\n",
       "      <td>33.0</td>\n",
       "      <td>124.0</td>\n",
       "      <td>230.0</td>\n",
       "      <td>240.0</td>\n",
       "      <td>126.0</td>\n",
       "      <td>812.0</td>\n",
       "      <td>0.0</td>\n",
       "      <td>0.0</td>\n",
       "      <td>1.0</td>\n",
       "      <td>0.0</td>\n",
       "      <td>0.0</td>\n",
       "      <td>1.0</td>\n",
       "      <td>0.0</td>\n",
       "      <td>0.0</td>\n",
       "      <td>0.0</td>\n",
       "      <td>0.0</td>\n",
       "    </tr>\n",
       "    <tr>\n",
       "      <th>581003</th>\n",
       "      <td>2415.0</td>\n",
       "      <td>161.0</td>\n",
       "      <td>25.0</td>\n",
       "      <td>95.0</td>\n",
       "      <td>29.0</td>\n",
       "      <td>120.0</td>\n",
       "      <td>236.0</td>\n",
       "      <td>237.0</td>\n",
       "      <td>116.0</td>\n",
       "      <td>815.0</td>\n",
       "      <td>0.0</td>\n",
       "      <td>0.0</td>\n",
       "      <td>1.0</td>\n",
       "      <td>0.0</td>\n",
       "      <td>0.0</td>\n",
       "      <td>1.0</td>\n",
       "      <td>0.0</td>\n",
       "      <td>0.0</td>\n",
       "      <td>0.0</td>\n",
       "      <td>0.0</td>\n",
       "    </tr>\n",
       "    <tr>\n",
       "      <th>581004</th>\n",
       "      <td>2410.0</td>\n",
       "      <td>158.0</td>\n",
       "      <td>24.0</td>\n",
       "      <td>90.0</td>\n",
       "      <td>24.0</td>\n",
       "      <td>120.0</td>\n",
       "      <td>238.0</td>\n",
       "      <td>236.0</td>\n",
       "      <td>115.0</td>\n",
       "      <td>819.0</td>\n",
       "      <td>0.0</td>\n",
       "      <td>0.0</td>\n",
       "      <td>1.0</td>\n",
       "      <td>0.0</td>\n",
       "      <td>0.0</td>\n",
       "      <td>1.0</td>\n",
       "      <td>0.0</td>\n",
       "      <td>0.0</td>\n",
       "      <td>0.0</td>\n",
       "      <td>0.0</td>\n",
       "    </tr>\n",
       "    <tr>\n",
       "      <th>581005</th>\n",
       "      <td>2405.0</td>\n",
       "      <td>159.0</td>\n",
       "      <td>22.0</td>\n",
       "      <td>90.0</td>\n",
       "      <td>19.0</td>\n",
       "      <td>120.0</td>\n",
       "      <td>237.0</td>\n",
       "      <td>238.0</td>\n",
       "      <td>119.0</td>\n",
       "      <td>824.0</td>\n",
       "      <td>0.0</td>\n",
       "      <td>0.0</td>\n",
       "      <td>1.0</td>\n",
       "      <td>0.0</td>\n",
       "      <td>0.0</td>\n",
       "      <td>1.0</td>\n",
       "      <td>0.0</td>\n",
       "      <td>0.0</td>\n",
       "      <td>0.0</td>\n",
       "      <td>0.0</td>\n",
       "    </tr>\n",
       "    <tr>\n",
       "      <th>581006</th>\n",
       "      <td>2401.0</td>\n",
       "      <td>157.0</td>\n",
       "      <td>21.0</td>\n",
       "      <td>90.0</td>\n",
       "      <td>15.0</td>\n",
       "      <td>120.0</td>\n",
       "      <td>238.0</td>\n",
       "      <td>238.0</td>\n",
       "      <td>119.0</td>\n",
       "      <td>830.0</td>\n",
       "      <td>0.0</td>\n",
       "      <td>0.0</td>\n",
       "      <td>1.0</td>\n",
       "      <td>0.0</td>\n",
       "      <td>0.0</td>\n",
       "      <td>1.0</td>\n",
       "      <td>0.0</td>\n",
       "      <td>0.0</td>\n",
       "      <td>0.0</td>\n",
       "      <td>0.0</td>\n",
       "    </tr>\n",
       "    <tr>\n",
       "      <th>581007</th>\n",
       "      <td>2396.0</td>\n",
       "      <td>153.0</td>\n",
       "      <td>20.0</td>\n",
       "      <td>85.0</td>\n",
       "      <td>17.0</td>\n",
       "      <td>108.0</td>\n",
       "      <td>240.0</td>\n",
       "      <td>237.0</td>\n",
       "      <td>118.0</td>\n",
       "      <td>837.0</td>\n",
       "      <td>0.0</td>\n",
       "      <td>0.0</td>\n",
       "      <td>1.0</td>\n",
       "      <td>0.0</td>\n",
       "      <td>0.0</td>\n",
       "      <td>1.0</td>\n",
       "      <td>0.0</td>\n",
       "      <td>0.0</td>\n",
       "      <td>0.0</td>\n",
       "      <td>0.0</td>\n",
       "    </tr>\n",
       "    <tr>\n",
       "      <th>581008</th>\n",
       "      <td>2391.0</td>\n",
       "      <td>152.0</td>\n",
       "      <td>19.0</td>\n",
       "      <td>67.0</td>\n",
       "      <td>12.0</td>\n",
       "      <td>95.0</td>\n",
       "      <td>240.0</td>\n",
       "      <td>237.0</td>\n",
       "      <td>119.0</td>\n",
       "      <td>845.0</td>\n",
       "      <td>0.0</td>\n",
       "      <td>0.0</td>\n",
       "      <td>1.0</td>\n",
       "      <td>0.0</td>\n",
       "      <td>0.0</td>\n",
       "      <td>1.0</td>\n",
       "      <td>0.0</td>\n",
       "      <td>0.0</td>\n",
       "      <td>0.0</td>\n",
       "      <td>0.0</td>\n",
       "    </tr>\n",
       "    <tr>\n",
       "      <th>581009</th>\n",
       "      <td>2386.0</td>\n",
       "      <td>159.0</td>\n",
       "      <td>17.0</td>\n",
       "      <td>60.0</td>\n",
       "      <td>7.0</td>\n",
       "      <td>90.0</td>\n",
       "      <td>236.0</td>\n",
       "      <td>241.0</td>\n",
       "      <td>130.0</td>\n",
       "      <td>854.0</td>\n",
       "      <td>0.0</td>\n",
       "      <td>0.0</td>\n",
       "      <td>1.0</td>\n",
       "      <td>0.0</td>\n",
       "      <td>0.0</td>\n",
       "      <td>1.0</td>\n",
       "      <td>0.0</td>\n",
       "      <td>0.0</td>\n",
       "      <td>0.0</td>\n",
       "      <td>0.0</td>\n",
       "    </tr>\n",
       "    <tr>\n",
       "      <th>581010</th>\n",
       "      <td>2384.0</td>\n",
       "      <td>170.0</td>\n",
       "      <td>15.0</td>\n",
       "      <td>60.0</td>\n",
       "      <td>5.0</td>\n",
       "      <td>90.0</td>\n",
       "      <td>230.0</td>\n",
       "      <td>245.0</td>\n",
       "      <td>143.0</td>\n",
       "      <td>864.0</td>\n",
       "      <td>0.0</td>\n",
       "      <td>0.0</td>\n",
       "      <td>1.0</td>\n",
       "      <td>0.0</td>\n",
       "      <td>0.0</td>\n",
       "      <td>1.0</td>\n",
       "      <td>0.0</td>\n",
       "      <td>0.0</td>\n",
       "      <td>0.0</td>\n",
       "      <td>0.0</td>\n",
       "    </tr>\n",
       "    <tr>\n",
       "      <th>581011</th>\n",
       "      <td>2383.0</td>\n",
       "      <td>165.0</td>\n",
       "      <td>13.0</td>\n",
       "      <td>60.0</td>\n",
       "      <td>4.0</td>\n",
       "      <td>67.0</td>\n",
       "      <td>231.0</td>\n",
       "      <td>244.0</td>\n",
       "      <td>141.0</td>\n",
       "      <td>875.0</td>\n",
       "      <td>0.0</td>\n",
       "      <td>0.0</td>\n",
       "      <td>1.0</td>\n",
       "      <td>0.0</td>\n",
       "      <td>0.0</td>\n",
       "      <td>1.0</td>\n",
       "      <td>0.0</td>\n",
       "      <td>0.0</td>\n",
       "      <td>0.0</td>\n",
       "      <td>0.0</td>\n",
       "    </tr>\n",
       "  </tbody>\n",
       "</table>\n",
       "<p>581012 rows × 20 columns</p>\n",
       "</div>"
      ],
      "text/plain": [
       "            0      1     2      3      4       5      6      7      8   \\\n",
       "0       2596.0   51.0   3.0  258.0    0.0   510.0  221.0  232.0  148.0   \n",
       "1       2590.0   56.0   2.0  212.0   -6.0   390.0  220.0  235.0  151.0   \n",
       "2       2804.0  139.0   9.0  268.0   65.0  3180.0  234.0  238.0  135.0   \n",
       "3       2785.0  155.0  18.0  242.0  118.0  3090.0  238.0  238.0  122.0   \n",
       "4       2595.0   45.0   2.0  153.0   -1.0   391.0  220.0  234.0  150.0   \n",
       "5       2579.0  132.0   6.0  300.0  -15.0    67.0  230.0  237.0  140.0   \n",
       "6       2606.0   45.0   7.0  270.0    5.0   633.0  222.0  225.0  138.0   \n",
       "7       2605.0   49.0   4.0  234.0    7.0   573.0  222.0  230.0  144.0   \n",
       "8       2617.0   45.0   9.0  240.0   56.0   666.0  223.0  221.0  133.0   \n",
       "9       2612.0   59.0  10.0  247.0   11.0   636.0  228.0  219.0  124.0   \n",
       "10      2612.0  201.0   4.0  180.0   51.0   735.0  218.0  243.0  161.0   \n",
       "11      2886.0  151.0  11.0  371.0   26.0  5253.0  234.0  240.0  136.0   \n",
       "12      2742.0  134.0  22.0  150.0   69.0  3215.0  248.0  224.0   92.0   \n",
       "13      2609.0  214.0   7.0  150.0   46.0   771.0  213.0  247.0  170.0   \n",
       "14      2503.0  157.0   4.0   67.0    4.0   674.0  224.0  240.0  151.0   \n",
       "15      2495.0   51.0   7.0   42.0    2.0   752.0  224.0  225.0  137.0   \n",
       "16      2610.0  259.0   1.0  120.0   -1.0   607.0  216.0  239.0  161.0   \n",
       "17      2517.0   72.0   7.0   85.0    6.0   595.0  228.0  227.0  133.0   \n",
       "18      2504.0    0.0   4.0   95.0    5.0   691.0  214.0  232.0  156.0   \n",
       "19      2503.0   38.0   5.0   85.0   10.0   741.0  220.0  228.0  144.0   \n",
       "20      2501.0   71.0   9.0   60.0    8.0   767.0  230.0  223.0  126.0   \n",
       "21      2880.0  209.0  17.0  216.0   30.0  4986.0  206.0  253.0  179.0   \n",
       "22      2768.0  114.0  23.0  192.0   82.0  3339.0  252.0  209.0   71.0   \n",
       "23      2511.0   54.0   8.0  124.0    0.0   638.0  225.0  222.0  130.0   \n",
       "24      2507.0   22.0   9.0  120.0   14.0   732.0  215.0  221.0  143.0   \n",
       "25      2492.0  135.0   6.0    0.0    0.0   860.0  229.0  237.0  142.0   \n",
       "26      2489.0  163.0  10.0   30.0   -4.0   849.0  230.0  243.0  145.0   \n",
       "27      2962.0  148.0  16.0  323.0   23.0  5916.0  240.0  236.0  120.0   \n",
       "28      2811.0  135.0   1.0  212.0   30.0  3670.0  220.0  238.0  154.0   \n",
       "29      2739.0  117.0  24.0  127.0   53.0  3281.0  253.0  210.0   71.0   \n",
       "...        ...    ...   ...    ...    ...     ...    ...    ...    ...   \n",
       "580982  2431.0  182.0   9.0  300.0   23.0   268.0  223.0  246.0  156.0   \n",
       "580983  2436.0  219.0  15.0  300.0   28.0   256.0  203.0  253.0  184.0   \n",
       "580984  2441.0  201.0  15.0  300.0   33.0   247.0  212.0  252.0  171.0   \n",
       "580985  2442.0  191.0  17.0  300.0   34.0   242.0  217.0  251.0  162.0   \n",
       "580986  2444.0  202.0  21.0  300.0   37.0   240.0  205.0  253.0  174.0   \n",
       "580987  2450.0  203.0  27.0  300.0   53.0   240.0  196.0  252.0  176.0   \n",
       "580988  2455.0  189.0  31.0  295.0   58.0   240.0  205.0  245.0  152.0   \n",
       "580989  2455.0  181.0  34.0  277.0   58.0   240.0  210.0  238.0  133.0   \n",
       "580990  2455.0  166.0  35.0  258.0   58.0   240.0  225.0  227.0  103.0   \n",
       "580991  2445.0  157.0  33.0  242.0   49.0   240.0  235.0  224.0   91.0   \n",
       "580992  2441.0  173.0  28.0  228.0   45.0   242.0  225.0  240.0  128.0   \n",
       "580993  2440.0  173.0  26.0  216.0   44.0   234.0  226.0  242.0  132.0   \n",
       "580994  2437.0  170.0  23.0  201.0   45.0   216.0  229.0  242.0  131.0   \n",
       "580995  2437.0  174.0  22.0  190.0   45.0   201.0  227.0  245.0  139.0   \n",
       "580996  2435.0  171.0  22.0  175.0   43.0   190.0  229.0  244.0  135.0   \n",
       "580997  2433.0  168.0  23.0  162.0   41.0   175.0  231.0  241.0  128.0   \n",
       "580998  2429.0  166.0  24.0  153.0   45.0   162.0  232.0  240.0  125.0   \n",
       "580999  2426.0  168.0  24.0  150.0   42.0   153.0  231.0  241.0  127.0   \n",
       "581000  2423.0  169.0  24.0  134.0   39.0   150.0  230.0  241.0  128.0   \n",
       "581001  2421.0  172.0  25.0  124.0   35.0   134.0  227.0  242.0  132.0   \n",
       "581002  2419.0  168.0  25.0  108.0   33.0   124.0  230.0  240.0  126.0   \n",
       "581003  2415.0  161.0  25.0   95.0   29.0   120.0  236.0  237.0  116.0   \n",
       "581004  2410.0  158.0  24.0   90.0   24.0   120.0  238.0  236.0  115.0   \n",
       "581005  2405.0  159.0  22.0   90.0   19.0   120.0  237.0  238.0  119.0   \n",
       "581006  2401.0  157.0  21.0   90.0   15.0   120.0  238.0  238.0  119.0   \n",
       "581007  2396.0  153.0  20.0   85.0   17.0   108.0  240.0  237.0  118.0   \n",
       "581008  2391.0  152.0  19.0   67.0   12.0    95.0  240.0  237.0  119.0   \n",
       "581009  2386.0  159.0  17.0   60.0    7.0    90.0  236.0  241.0  130.0   \n",
       "581010  2384.0  170.0  15.0   60.0    5.0    90.0  230.0  245.0  143.0   \n",
       "581011  2383.0  165.0  13.0   60.0    4.0    67.0  231.0  244.0  141.0   \n",
       "\n",
       "            9    10   11   12   13   14   15   16   17   18   19  \n",
       "0       6279.0  1.0  0.0  0.0  0.0  0.0  0.0  0.0  0.0  0.0  0.0  \n",
       "1       6225.0  1.0  0.0  0.0  0.0  0.0  0.0  0.0  0.0  0.0  0.0  \n",
       "2       6121.0  1.0  0.0  0.0  0.0  0.0  0.0  0.0  0.0  0.0  0.0  \n",
       "3       6211.0  1.0  0.0  0.0  0.0  0.0  0.0  0.0  0.0  0.0  0.0  \n",
       "4       6172.0  1.0  0.0  0.0  0.0  0.0  0.0  0.0  0.0  0.0  0.0  \n",
       "5       6031.0  1.0  0.0  0.0  0.0  0.0  0.0  0.0  0.0  0.0  0.0  \n",
       "6       6256.0  1.0  0.0  0.0  0.0  0.0  0.0  0.0  0.0  0.0  0.0  \n",
       "7       6228.0  1.0  0.0  0.0  0.0  0.0  0.0  0.0  0.0  0.0  0.0  \n",
       "8       6244.0  1.0  0.0  0.0  0.0  0.0  0.0  0.0  0.0  0.0  0.0  \n",
       "9       6230.0  1.0  0.0  0.0  0.0  0.0  0.0  0.0  0.0  0.0  0.0  \n",
       "10      6222.0  1.0  0.0  0.0  0.0  0.0  0.0  0.0  0.0  0.0  0.0  \n",
       "11      4051.0  1.0  0.0  0.0  0.0  0.0  0.0  0.0  0.0  0.0  0.0  \n",
       "12      6091.0  1.0  0.0  0.0  0.0  0.0  0.0  0.0  0.0  0.0  0.0  \n",
       "13      6211.0  1.0  0.0  0.0  0.0  0.0  0.0  0.0  0.0  0.0  0.0  \n",
       "14      5600.0  1.0  0.0  0.0  0.0  0.0  0.0  0.0  0.0  0.0  0.0  \n",
       "15      5576.0  1.0  0.0  0.0  0.0  0.0  0.0  0.0  0.0  0.0  0.0  \n",
       "16      6096.0  1.0  0.0  0.0  0.0  0.0  0.0  0.0  0.0  0.0  0.0  \n",
       "17      5607.0  1.0  0.0  0.0  0.0  0.0  0.0  0.0  0.0  0.0  0.0  \n",
       "18      5572.0  1.0  0.0  0.0  0.0  0.0  0.0  0.0  0.0  0.0  0.0  \n",
       "19      5555.0  1.0  0.0  0.0  0.0  0.0  0.0  0.0  0.0  0.0  0.0  \n",
       "20      5547.0  1.0  0.0  0.0  0.0  0.0  0.0  0.0  0.0  0.0  0.0  \n",
       "21      4323.0  1.0  0.0  0.0  0.0  0.0  0.0  0.0  0.0  0.0  0.0  \n",
       "22      5972.0  1.0  0.0  0.0  0.0  0.0  0.0  0.0  0.0  0.0  0.0  \n",
       "23      5569.0  1.0  0.0  0.0  0.0  0.0  0.0  0.0  0.0  0.0  0.0  \n",
       "24      5534.0  1.0  0.0  0.0  0.0  0.0  0.0  0.0  0.0  0.0  0.0  \n",
       "25      5494.0  1.0  0.0  0.0  0.0  0.0  0.0  0.0  0.0  0.0  0.0  \n",
       "26      5486.0  1.0  0.0  0.0  0.0  0.0  0.0  0.0  0.0  0.0  0.0  \n",
       "27      3395.0  1.0  0.0  0.0  0.0  0.0  0.0  0.0  0.0  0.0  0.0  \n",
       "28      5643.0  1.0  0.0  0.0  0.0  0.0  0.0  0.0  0.0  0.0  0.0  \n",
       "29      6033.0  1.0  0.0  0.0  0.0  0.0  0.0  0.0  0.0  0.0  0.0  \n",
       "...        ...  ...  ...  ...  ...  ...  ...  ...  ...  ...  ...  \n",
       "580982   973.0  0.0  0.0  1.0  0.0  0.0  1.0  0.0  0.0  0.0  0.0  \n",
       "580983   957.0  0.0  0.0  1.0  0.0  0.0  1.0  0.0  0.0  0.0  0.0  \n",
       "580984   942.0  0.0  0.0  1.0  0.0  0.0  1.0  0.0  0.0  0.0  0.0  \n",
       "580985   927.0  0.0  0.0  1.0  0.0  0.0  1.0  0.0  0.0  0.0  0.0  \n",
       "580986   912.0  0.0  0.0  1.0  0.0  0.0  1.0  0.0  0.0  0.0  0.0  \n",
       "580987   899.0  0.0  0.0  1.0  0.0  0.0  1.0  0.0  0.0  0.0  0.0  \n",
       "580988   886.0  0.0  0.0  1.0  0.0  0.0  1.0  0.0  0.0  0.0  0.0  \n",
       "580989   875.0  0.0  0.0  1.0  0.0  0.0  1.0  0.0  0.0  0.0  0.0  \n",
       "580990   864.0  0.0  0.0  1.0  0.0  0.0  1.0  0.0  0.0  0.0  0.0  \n",
       "580991   854.0  0.0  0.0  1.0  0.0  0.0  1.0  0.0  0.0  0.0  0.0  \n",
       "580992   845.0  0.0  0.0  1.0  0.0  0.0  1.0  0.0  0.0  0.0  0.0  \n",
       "580993   837.0  0.0  0.0  1.0  0.0  0.0  1.0  0.0  0.0  0.0  0.0  \n",
       "580994   830.0  0.0  0.0  1.0  0.0  0.0  1.0  0.0  0.0  0.0  0.0  \n",
       "580995   824.0  0.0  0.0  1.0  0.0  0.0  1.0  0.0  0.0  0.0  0.0  \n",
       "580996   819.0  0.0  0.0  1.0  0.0  0.0  1.0  0.0  0.0  0.0  0.0  \n",
       "580997   815.0  0.0  0.0  1.0  0.0  0.0  1.0  0.0  0.0  0.0  0.0  \n",
       "580998   812.0  0.0  0.0  1.0  0.0  0.0  1.0  0.0  0.0  0.0  0.0  \n",
       "580999   811.0  0.0  0.0  1.0  0.0  0.0  1.0  0.0  0.0  0.0  0.0  \n",
       "581000   810.0  0.0  0.0  1.0  0.0  0.0  1.0  0.0  0.0  0.0  0.0  \n",
       "581001   811.0  0.0  0.0  1.0  0.0  0.0  1.0  0.0  0.0  0.0  0.0  \n",
       "581002   812.0  0.0  0.0  1.0  0.0  0.0  1.0  0.0  0.0  0.0  0.0  \n",
       "581003   815.0  0.0  0.0  1.0  0.0  0.0  1.0  0.0  0.0  0.0  0.0  \n",
       "581004   819.0  0.0  0.0  1.0  0.0  0.0  1.0  0.0  0.0  0.0  0.0  \n",
       "581005   824.0  0.0  0.0  1.0  0.0  0.0  1.0  0.0  0.0  0.0  0.0  \n",
       "581006   830.0  0.0  0.0  1.0  0.0  0.0  1.0  0.0  0.0  0.0  0.0  \n",
       "581007   837.0  0.0  0.0  1.0  0.0  0.0  1.0  0.0  0.0  0.0  0.0  \n",
       "581008   845.0  0.0  0.0  1.0  0.0  0.0  1.0  0.0  0.0  0.0  0.0  \n",
       "581009   854.0  0.0  0.0  1.0  0.0  0.0  1.0  0.0  0.0  0.0  0.0  \n",
       "581010   864.0  0.0  0.0  1.0  0.0  0.0  1.0  0.0  0.0  0.0  0.0  \n",
       "581011   875.0  0.0  0.0  1.0  0.0  0.0  1.0  0.0  0.0  0.0  0.0  \n",
       "\n",
       "[581012 rows x 20 columns]"
      ]
     },
     "execution_count": 21,
     "metadata": {},
     "output_type": "execute_result"
    }
   ],
   "source": [
    "df.loc[:, :19]"
   ]
  },
  {
   "cell_type": "code",
   "execution_count": 6,
   "metadata": {},
   "outputs": [],
   "source": [
    "scaler = StandardScaler()\n",
    "covtype.data[:, :10] = scaler.fit_transform(covtype.data[:, :10])"
   ]
  },
  {
   "cell_type": "code",
   "execution_count": 7,
   "metadata": {},
   "outputs": [],
   "source": [
    "X_train, X_test, y_train, y_test = train_test_split(\n",
    "    covtype.data, covtype.target, test_size=0.1, random_state=42)"
   ]
  },
  {
   "cell_type": "code",
   "execution_count": 8,
   "metadata": {},
   "outputs": [
    {
     "data": {
      "text/plain": [
       "(522910, 54)"
      ]
     },
     "execution_count": 8,
     "metadata": {},
     "output_type": "execute_result"
    }
   ],
   "source": [
    "X_train.shape"
   ]
  },
  {
   "cell_type": "code",
   "execution_count": 9,
   "metadata": {},
   "outputs": [
    {
     "data": {
      "text/plain": [
       "(58102, 54)"
      ]
     },
     "execution_count": 9,
     "metadata": {},
     "output_type": "execute_result"
    }
   ],
   "source": [
    "X_test.shape"
   ]
  },
  {
   "cell_type": "markdown",
   "metadata": {
    "heading_collapsed": true
   },
   "source": [
    "# Sklearn built-in classifiers"
   ]
  },
  {
   "cell_type": "code",
   "execution_count": null,
   "metadata": {
    "hidden": true
   },
   "outputs": [],
   "source": [
    "from sklearn.linear_model import LogisticRegression"
   ]
  },
  {
   "cell_type": "code",
   "execution_count": 46,
   "metadata": {
    "hidden": true
   },
   "outputs": [
    {
     "name": "stderr",
     "output_type": "stream",
     "text": [
      "/usr/local/lib/python3.6/dist-packages/sklearn/linear_model/logistic.py:757: ConvergenceWarning: lbfgs failed to converge. Increase the number of iterations.\n",
      "  \"of iterations.\", ConvergenceWarning)\n"
     ]
    },
    {
     "data": {
      "text/plain": [
       "LogisticRegression(C=1.0, class_weight=None, dual=False, fit_intercept=True,\n",
       "          intercept_scaling=1, max_iter=100, multi_class='multinomial',\n",
       "          n_jobs=None, penalty='l2', random_state=None, solver='lbfgs',\n",
       "          tol=0.0001, verbose=0, warm_start=False)"
      ]
     },
     "execution_count": 46,
     "metadata": {},
     "output_type": "execute_result"
    }
   ],
   "source": [
    "clf = LogisticRegression(solver='lbfgs', multi_class='multinomial')\n",
    "clf.fit(X_train, y_train)"
   ]
  },
  {
   "cell_type": "code",
   "execution_count": 48,
   "metadata": {
    "hidden": true
   },
   "outputs": [
    {
     "data": {
      "text/plain": [
       "0.7243502706010595"
      ]
     },
     "execution_count": 48,
     "metadata": {},
     "output_type": "execute_result"
    }
   ],
   "source": [
    "clf.score(X_train, y_train)"
   ]
  },
  {
   "cell_type": "code",
   "execution_count": 47,
   "metadata": {
    "hidden": true
   },
   "outputs": [
    {
     "data": {
      "text/plain": [
       "0.725930260576228"
      ]
     },
     "execution_count": 47,
     "metadata": {},
     "output_type": "execute_result"
    }
   ],
   "source": [
    "clf.score(X_test, y_test)"
   ]
  },
  {
   "cell_type": "code",
   "execution_count": 49,
   "metadata": {
    "hidden": true
   },
   "outputs": [
    {
     "name": "stderr",
     "output_type": "stream",
     "text": [
      "/usr/local/lib/python3.6/dist-packages/sklearn/linear_model/sag.py:334: ConvergenceWarning: The max_iter was reached which means the coef_ did not converge\n",
      "  \"the coef_ did not converge\", ConvergenceWarning)\n"
     ]
    },
    {
     "data": {
      "text/plain": [
       "LogisticRegression(C=1.0, class_weight=None, dual=False, fit_intercept=True,\n",
       "          intercept_scaling=1, max_iter=100, multi_class='multinomial',\n",
       "          n_jobs=None, penalty='l2', random_state=None, solver='saga',\n",
       "          tol=0.0001, verbose=0, warm_start=False)"
      ]
     },
     "execution_count": 49,
     "metadata": {},
     "output_type": "execute_result"
    }
   ],
   "source": [
    "clf_saga = LogisticRegression(solver='saga', multi_class='multinomial')\n",
    "clf_saga.fit(X_train, y_train)"
   ]
  },
  {
   "cell_type": "code",
   "execution_count": 50,
   "metadata": {
    "hidden": true
   },
   "outputs": [
    {
     "data": {
      "text/plain": [
       "0.7247117094719933"
      ]
     },
     "execution_count": 50,
     "metadata": {},
     "output_type": "execute_result"
    }
   ],
   "source": [
    "clf_saga.score(X_train, y_train)"
   ]
  },
  {
   "cell_type": "code",
   "execution_count": 51,
   "metadata": {
    "hidden": true
   },
   "outputs": [
    {
     "data": {
      "text/plain": [
       "0.7263777494750611"
      ]
     },
     "execution_count": 51,
     "metadata": {},
     "output_type": "execute_result"
    }
   ],
   "source": [
    "clf_saga.score(X_test, y_test)"
   ]
  },
  {
   "cell_type": "code",
   "execution_count": 53,
   "metadata": {
    "hidden": true
   },
   "outputs": [
    {
     "name": "stderr",
     "output_type": "stream",
     "text": [
      "/usr/local/lib/python3.6/dist-packages/sklearn/linear_model/sag.py:334: ConvergenceWarning: The max_iter was reached which means the coef_ did not converge\n",
      "  \"the coef_ did not converge\", ConvergenceWarning)\n"
     ]
    },
    {
     "data": {
      "text/plain": [
       "LogisticRegression(C=1.0, class_weight=None, dual=False, fit_intercept=True,\n",
       "          intercept_scaling=1, max_iter=100, multi_class='multinomial',\n",
       "          n_jobs=None, penalty='l1', random_state=None, solver='saga',\n",
       "          tol=0.0001, verbose=0, warm_start=False)"
      ]
     },
     "execution_count": 53,
     "metadata": {},
     "output_type": "execute_result"
    }
   ],
   "source": [
    "clf_l1 = LogisticRegression(solver='saga', multi_class='multinomial', penalty='l1')\n",
    "clf_l1.fit(X_train, y_train)"
   ]
  },
  {
   "cell_type": "code",
   "execution_count": 54,
   "metadata": {
    "hidden": true
   },
   "outputs": [
    {
     "data": {
      "text/plain": [
       "0.7247480445965845"
      ]
     },
     "execution_count": 54,
     "metadata": {},
     "output_type": "execute_result"
    }
   ],
   "source": [
    "clf_l1.score(X_train, y_train)"
   ]
  },
  {
   "cell_type": "code",
   "execution_count": 55,
   "metadata": {
    "hidden": true
   },
   "outputs": [
    {
     "data": {
      "text/plain": [
       "0.7265498605899969"
      ]
     },
     "execution_count": 55,
     "metadata": {},
     "output_type": "execute_result"
    }
   ],
   "source": [
    "clf_l1.score(X_test, y_test)"
   ]
  },
  {
   "cell_type": "code",
   "execution_count": 61,
   "metadata": {
    "hidden": true
   },
   "outputs": [
    {
     "data": {
      "text/plain": [
       "118"
      ]
     },
     "execution_count": 61,
     "metadata": {},
     "output_type": "execute_result"
    }
   ],
   "source": [
    "np.sum(clf_l1.coef_==0)"
   ]
  },
  {
   "cell_type": "code",
   "execution_count": 59,
   "metadata": {
    "hidden": true
   },
   "outputs": [
    {
     "data": {
      "text/plain": [
       "(7, 54)"
      ]
     },
     "execution_count": 59,
     "metadata": {},
     "output_type": "execute_result"
    }
   ],
   "source": [
    "clf_l1.coef_.shape"
   ]
  },
  {
   "cell_type": "markdown",
   "metadata": {},
   "source": [
    "# APG"
   ]
  },
  {
   "cell_type": "code",
   "execution_count": 10,
   "metadata": {},
   "outputs": [],
   "source": [
    "import torch"
   ]
  },
  {
   "cell_type": "code",
   "execution_count": 12,
   "metadata": {},
   "outputs": [],
   "source": [
    "%run lasso_cls.py"
   ]
  },
  {
   "cell_type": "code",
   "execution_count": 13,
   "metadata": {
    "scrolled": true
   },
   "outputs": [
    {
     "data": {
      "text/plain": [
       "<module 'proximal' from '/media/yu-guan/DATA/works/ens/MVA/Courses/DataScience/project/src/proximal.py'>"
      ]
     },
     "execution_count": 13,
     "metadata": {},
     "output_type": "execute_result"
    }
   ],
   "source": [
    "import importlib\n",
    "importlib.reload(fista)\n",
    "importlib.reload(proximal)"
   ]
  },
  {
   "cell_type": "markdown",
   "metadata": {},
   "source": [
    "## FB"
   ]
  },
  {
   "cell_type": "code",
   "execution_count": 44,
   "metadata": {},
   "outputs": [
    {
     "name": "stdout",
     "output_type": "stream",
     "text": [
      "True\n"
     ]
    }
   ],
   "source": [
    "model = Linear(54, 7).cuda()\n",
    "print(next(model.parameters()).is_cuda)\n",
    "\n",
    "clf_fb = ClassifierLasso(\n",
    "    model,\n",
    "    torch.tensor(X_train).float().cuda(),\n",
    "    torch.tensor(y_train).long().cuda() - 1,\n",
    "    test_data=torch.tensor(X_test).float().cuda(),\n",
    "    test_target=torch.tensor(y_test).long() - 1,\n",
    "    regularize_idxs=[0])"
   ]
  },
  {
   "cell_type": "code",
   "execution_count": 45,
   "metadata": {
    "scrolled": true
   },
   "outputs": [
    {
     "name": "stdout",
     "output_type": "stream",
     "text": [
      "Iteration 100\n",
      "CE Loss: 0.7258892059326172\n",
      "L1 Loss: 0.03638738250732422\n",
      "Test Accuracy: 70.29%\n",
      "Iteration 200\n",
      "CE Loss: 0.6962817907333374\n",
      "L1 Loss: 0.039884239196777346\n",
      "Test Accuracy: 71.13%\n",
      "Iteration 300\n",
      "CE Loss: 0.6841493248939514\n",
      "L1 Loss: 0.042088165283203124\n",
      "Test Accuracy: 71.43%\n",
      "Iteration 400\n",
      "CE Loss: 0.6775553226470947\n",
      "L1 Loss: 0.04344388961791992\n",
      "Test Accuracy: 71.68%\n",
      "Iteration 500\n",
      "CE Loss: 0.6733667254447937\n",
      "L1 Loss: 0.04412469100952149\n",
      "Test Accuracy: 71.80%\n"
     ]
    }
   ],
   "source": [
    "clf_fb.train(\n",
    "    500, 1, 1e-3, test=True, print_interval=100, store_params=True)"
   ]
  },
  {
   "cell_type": "markdown",
   "metadata": {},
   "source": [
    "## FISTA"
   ]
  },
  {
   "cell_type": "code",
   "execution_count": 17,
   "metadata": {},
   "outputs": [],
   "source": [
    "alpha_c = fista.AlphaClassic()\n",
    "alpha2 = fista.Alpha(2)\n",
    "alpha3 = fista.Alpha(3)\n",
    "alpha4 = fista.Alpha(4)"
   ]
  },
  {
   "cell_type": "code",
   "execution_count": 49,
   "metadata": {},
   "outputs": [],
   "source": [
    "model = Linear(54, 7).cuda()\n",
    "\n",
    "clf_fista = ClassifierLasso(\n",
    "    model,\n",
    "    torch.tensor(X_train).float().cuda(),\n",
    "    torch.tensor(y_train).long().cuda() - 1,\n",
    "    test_data=torch.tensor(X_test).float().cuda(),\n",
    "    test_target=torch.tensor(y_test).long() - 1,\n",
    "    regularize_idxs=[0])"
   ]
  },
  {
   "cell_type": "code",
   "execution_count": 51,
   "metadata": {
    "scrolled": true
   },
   "outputs": [
    {
     "name": "stdout",
     "output_type": "stream",
     "text": [
      "Iteration 100\n",
      "CE Loss: 0.659061074256897\n",
      "L1 Loss: 0.049457000732421874\n",
      "Test Accuracy: 72.12%\n",
      "Iteration 200\n",
      "CE Loss: 0.6597307920455933\n",
      "L1 Loss: 0.04648158645629883\n",
      "Test Accuracy: 72.11%\n",
      "Iteration 300\n",
      "CE Loss: 0.6590830683708191\n",
      "L1 Loss: 0.046556785583496095\n",
      "Test Accuracy: 72.12%\n",
      "Iteration 400\n",
      "CE Loss: 0.6589499115943909\n",
      "L1 Loss: 0.04665085601806641\n",
      "Test Accuracy: 72.10%\n",
      "Iteration 500\n",
      "CE Loss: 0.6592110395431519\n",
      "L1 Loss: 0.04634917831420898\n",
      "Test Accuracy: 72.08%\n"
     ]
    }
   ],
   "source": [
    "clf_fista.train(\n",
    "    500,\n",
    "    1,\n",
    "    1e-3,\n",
    "    test=True,\n",
    "    alpha=alpha_c,\n",
    "    print_interval=100,\n",
    "    store_params=True)"
   ]
  },
  {
   "cell_type": "code",
   "execution_count": 57,
   "metadata": {},
   "outputs": [],
   "source": [
    "model = Linear(54, 7).cuda()\n",
    "\n",
    "clf_fista_a2 = ClassifierLasso(\n",
    "    model,\n",
    "    torch.tensor(X_train).float().cuda(),\n",
    "    torch.tensor(y_train).long().cuda() - 1,\n",
    "    test_data=torch.tensor(X_test).float().cuda(),\n",
    "    test_target=torch.tensor(y_test).long() - 1,\n",
    "    regularize_idxs=[0])"
   ]
  },
  {
   "cell_type": "code",
   "execution_count": 58,
   "metadata": {},
   "outputs": [
    {
     "name": "stdout",
     "output_type": "stream",
     "text": [
      "Iteration 100\n",
      "CE Loss: 0.6592250466346741\n",
      "L1 Loss: 0.049413742065429686\n",
      "Test Accuracy: 72.13%\n",
      "Iteration 200\n",
      "CE Loss: 0.6596686244010925\n",
      "L1 Loss: 0.04655752182006836\n",
      "Test Accuracy: 72.11%\n",
      "Iteration 300\n",
      "CE Loss: 0.6590787172317505\n",
      "L1 Loss: 0.04656647491455078\n",
      "Test Accuracy: 72.14%\n",
      "Iteration 400\n",
      "CE Loss: 0.6589314937591553\n",
      "L1 Loss: 0.046670467376708984\n",
      "Test Accuracy: 72.10%\n",
      "Iteration 500\n",
      "CE Loss: 0.6592081189155579\n",
      "L1 Loss: 0.04635120010375977\n",
      "Test Accuracy: 72.08%\n"
     ]
    }
   ],
   "source": [
    "clf_fista_a2.train(\n",
    "    500,\n",
    "    1,\n",
    "    1e-3,\n",
    "    test=True,\n",
    "    alpha=alpha2,\n",
    "    print_interval=100,\n",
    "    store_params=True)"
   ]
  },
  {
   "cell_type": "code",
   "execution_count": 59,
   "metadata": {},
   "outputs": [],
   "source": [
    "model = Linear(54, 7).cuda()\n",
    "\n",
    "clf_fista_a3 = ClassifierLasso(\n",
    "    model,\n",
    "    torch.tensor(X_train).float().cuda(),\n",
    "    torch.tensor(y_train).long().cuda() - 1,\n",
    "    test_data=torch.tensor(X_test).float().cuda(),\n",
    "    test_target=torch.tensor(y_test).long() - 1,\n",
    "    regularize_idxs=[0])"
   ]
  },
  {
   "cell_type": "code",
   "execution_count": 60,
   "metadata": {},
   "outputs": [
    {
     "name": "stdout",
     "output_type": "stream",
     "text": [
      "Iteration 100\n",
      "CE Loss: 0.6605432629585266\n",
      "L1 Loss: 0.04871052169799805\n",
      "Test Accuracy: 72.14%\n",
      "Iteration 200\n",
      "CE Loss: 0.6599071621894836\n",
      "L1 Loss: 0.04647930908203125\n",
      "Test Accuracy: 72.14%\n",
      "Iteration 300\n",
      "CE Loss: 0.6595999598503113\n",
      "L1 Loss: 0.04610139465332031\n",
      "Test Accuracy: 72.11%\n",
      "Iteration 400\n",
      "CE Loss: 0.6589202880859375\n",
      "L1 Loss: 0.04665553665161133\n",
      "Test Accuracy: 72.09%\n",
      "Iteration 500\n",
      "CE Loss: 0.6590744256973267\n",
      "L1 Loss: 0.04647643280029297\n",
      "Test Accuracy: 72.10%\n"
     ]
    }
   ],
   "source": [
    "clf_fista_a3.train(\n",
    "    500,\n",
    "    1,\n",
    "    1e-3,\n",
    "    test=True,\n",
    "    alpha=alpha3,\n",
    "    print_interval=100,\n",
    "    store_params=True)"
   ]
  },
  {
   "cell_type": "code",
   "execution_count": 61,
   "metadata": {},
   "outputs": [],
   "source": [
    "model = Linear(54, 7).cuda()\n",
    "\n",
    "clf_fista_a4 = ClassifierLasso(\n",
    "    model,\n",
    "    torch.tensor(X_train).float().cuda(),\n",
    "    torch.tensor(y_train).long().cuda() - 1,\n",
    "    test_data=torch.tensor(X_test).float().cuda(),\n",
    "    test_target=torch.tensor(y_test).long() - 1,\n",
    "    regularize_idxs=[0])"
   ]
  },
  {
   "cell_type": "code",
   "execution_count": 62,
   "metadata": {},
   "outputs": [
    {
     "name": "stdout",
     "output_type": "stream",
     "text": [
      "Iteration 100\n",
      "CE Loss: 0.662138819694519\n",
      "L1 Loss: 0.0482146110534668\n",
      "Test Accuracy: 72.09%\n",
      "Iteration 200\n",
      "CE Loss: 0.6600428223609924\n",
      "L1 Loss: 0.0465106430053711\n",
      "Test Accuracy: 72.12%\n",
      "Iteration 300\n",
      "CE Loss: 0.6597380042076111\n",
      "L1 Loss: 0.0460892562866211\n",
      "Test Accuracy: 72.11%\n",
      "Iteration 400\n",
      "CE Loss: 0.6591037511825562\n",
      "L1 Loss: 0.0464647331237793\n",
      "Test Accuracy: 72.10%\n",
      "Iteration 500\n",
      "CE Loss: 0.658918559551239\n",
      "L1 Loss: 0.046644577026367186\n",
      "Test Accuracy: 72.12%\n"
     ]
    }
   ],
   "source": [
    "clf_fista_a4.train(\n",
    "    500,\n",
    "    1,\n",
    "    1e-3,\n",
    "    test=True,\n",
    "    alpha=alpha4,\n",
    "    print_interval=100,\n",
    "    store_params=True)"
   ]
  },
  {
   "cell_type": "markdown",
   "metadata": {},
   "source": [
    "## Plots"
   ]
  },
  {
   "cell_type": "code",
   "execution_count": 68,
   "metadata": {},
   "outputs": [],
   "source": [
    "import seaborn as sns\n",
    "\n",
    "sns.set()\n",
    "sns.set(font_scale=1.6)"
   ]
  },
  {
   "cell_type": "code",
   "execution_count": 63,
   "metadata": {},
   "outputs": [],
   "source": [
    "clfs = [clf_fb, clf_fista, clf_fista_a2, clf_fista_a3, clf_fista_a4]\n",
    "names = [\n",
    "    'Forward-backward', 'classical FISTA', 'FISTA a=2', 'FISTA a=3',\n",
    "    'FISTA a=4'\n",
    "]"
   ]
  },
  {
   "cell_type": "markdown",
   "metadata": {},
   "source": [
    "### Objective"
   ]
  },
  {
   "cell_type": "code",
   "execution_count": 20,
   "metadata": {},
   "outputs": [],
   "source": [
    "def plot_losses(clfs, names, n_iters):\n",
    "    losses = []\n",
    "    for clf in clfs:\n",
    "        losses.append(np.array(clf.ce_losses) + np.array(clf.l1_losses))\n",
    "    min_loss = np.min(np.r_[losses])\n",
    "    print('minimum loss', min_loss)\n",
    "    for loss, name in zip(losses, names):\n",
    "        plt.plot((loss - min_loss)[:n_iters], label=name)"
   ]
  },
  {
   "cell_type": "code",
   "execution_count": 77,
   "metadata": {},
   "outputs": [
    {
     "data": {
      "text/plain": [
       "<matplotlib.legend.Legend at 0x7fa413250d68>"
      ]
     },
     "execution_count": 77,
     "metadata": {},
     "output_type": "execute_result"
    },
    {
     "data": {
      "image/png": "[encoded data removed]",
      "text/plain": [
       "<Figure size 576x432 with 1 Axes>"
      ]
     },
     "metadata": {},
     "output_type": "display_data"
    }
   ],
   "source": [
    "plt.figure(figsize=(8, 6))\n",
    "plot_losses(clfs, names, 450)\n",
    "plt.xlabel('#iterations')\n",
    "plt.ylabel(r'$F(\\theta_k)-F(\\theta^*)$')\n",
    "plt.yscale('log')\n",
    "plt.legend(prop={'size': 12})"
   ]
  },
  {
   "cell_type": "markdown",
   "metadata": {},
   "source": [
    "### $\\|x_n-x_{n-1}\\|_2^2$"
   ]
  },
  {
   "cell_type": "code",
   "execution_count": 33,
   "metadata": {},
   "outputs": [],
   "source": [
    "def local_variations(params_his):\n",
    "    params_his_arr = []\n",
    "    for params in params_his:\n",
    "        params_arr = []\n",
    "        for param in params:\n",
    "            w = param.cpu().detach().numpy().reshape(-1)\n",
    "            params_arr.append(w)\n",
    "        params_his_arr.append(np.concatenate(params_arr))\n",
    "    params_his_arr = np.array(params_his_arr)\n",
    "    deltas = params_his_arr[1:] - params_his_arr[:-1]\n",
    "    deltas = np.sum(deltas**2, axis=1)\n",
    "    return deltas"
   ]
  },
  {
   "cell_type": "code",
   "execution_count": 76,
   "metadata": {},
   "outputs": [
    {
     "data": {
      "text/plain": [
       "<matplotlib.legend.Legend at 0x7fa4132be898>"
      ]
     },
     "execution_count": 76,
     "metadata": {},
     "output_type": "execute_result"
    },
    {
     "data": {
      "image/png": "[encoded data removed]",
      "text/plain": [
       "<Figure size 576x432 with 1 Axes>"
      ]
     },
     "metadata": {},
     "output_type": "display_data"
    }
   ],
   "source": [
    "plt.figure(figsize=(8, 6))\n",
    "for clf, name in zip(clfs, names):\n",
    "    plt.plot(local_variations(clf.params_his), label=name)\n",
    "plt.xlabel('#iterations')\n",
    "plt.ylabel(r'$\\parallel \\theta_k-\\theta_{k-1}\\parallel_2^2$')\n",
    "plt.yscale('log')\n",
    "plt.legend(prop={'size': 12})"
   ]
  },
  {
   "cell_type": "markdown",
   "metadata": {},
   "source": [
    "### Test accuracy"
   ]
  },
  {
   "cell_type": "code",
   "execution_count": 73,
   "metadata": {},
   "outputs": [
    {
     "data": {
      "text/plain": [
       "<matplotlib.legend.Legend at 0x7fa41334c898>"
      ]
     },
     "execution_count": 73,
     "metadata": {},
     "output_type": "execute_result"
    },
    {
     "data": {
      "image/png": "[encoded data removed]",
      "text/plain": [
       "<Figure size 576x432 with 1 Axes>"
      ]
     },
     "metadata": {},
     "output_type": "display_data"
    }
   ],
   "source": [
    "plt.figure(figsize=(8, 6))\n",
    "for clf, name in zip(clfs, names):\n",
    "    plt.plot(clf.test_accuracies, label=name)\n",
    "plt.xlabel('#iterations')\n",
    "plt.ylabel('Test accuracy')\n",
    "plt.legend(prop={'size': 12})"
   ]
  },
  {
   "cell_type": "code",
   "execution_count": 87,
   "metadata": {},
   "outputs": [
    {
     "data": {
      "image/png": "[encoded data removed]",
      "text/plain": [
       "<Figure size 576x432 with 1 Axes>"
      ]
     },
     "metadata": {},
     "output_type": "display_data"
    }
   ],
   "source": [
    "plt.figure(figsize=(8, 6))\n",
    "for clf, name in zip(clfs, names):\n",
    "    plot_sparsity_f1_scores(clf, name, div=581012)\n",
    "plt.xlabel('#iterations')\n",
    "plt.ylabel('F1 score for sparsity recovery')\n",
    "plt.legend(prop={'size': 12})\n",
    "plt.tight_layout()"
   ]
  },
  {
   "cell_type": "code",
   "execution_count": 85,
   "metadata": {},
   "outputs": [
    {
     "data": {
      "text/plain": [
       "tensor(265, device='cuda:0')"
      ]
     },
     "execution_count": 85,
     "metadata": {},
     "output_type": "execute_result"
    }
   ],
   "source": [
    "params = clf_fb.params_his[-1]\n",
    "torch.sum(params[0] == 0)"
   ]
  },
  {
   "cell_type": "code",
   "execution_count": 86,
   "metadata": {},
   "outputs": [
    {
     "data": {
      "text/plain": [
       "tensor(294, device='cuda:0')"
      ]
     },
     "execution_count": 86,
     "metadata": {},
     "output_type": "execute_result"
    }
   ],
   "source": [
    "params = clf_fista_a4.params_his[-1]\n",
    "torch.sum(params[0] == 0)"
   ]
  },
  {
   "cell_type": "markdown",
   "metadata": {
    "heading_collapsed": true
   },
   "source": [
    "## Test"
   ]
  },
  {
   "cell_type": "code",
   "execution_count": 36,
   "metadata": {
    "hidden": true
   },
   "outputs": [],
   "source": [
    "from sklearn.metrics import accuracy_score"
   ]
  },
  {
   "cell_type": "code",
   "execution_count": 37,
   "metadata": {
    "hidden": true
   },
   "outputs": [
    {
     "data": {
      "text/plain": [
       "tensor(294, device='cuda:0')"
      ]
     },
     "execution_count": 37,
     "metadata": {},
     "output_type": "execute_result"
    }
   ],
   "source": [
    "params = model.parameters()\n",
    "a = list(params)\n",
    "torch.sum(a[0] == 0)"
   ]
  },
  {
   "cell_type": "code",
   "execution_count": 38,
   "metadata": {
    "hidden": true
   },
   "outputs": [],
   "source": [
    "predicted = torch.argmax(\n",
    "    model(torch.tensor(X_train).float().cuda()), dim=1).cpu().numpy()"
   ]
  },
  {
   "cell_type": "code",
   "execution_count": 39,
   "metadata": {
    "hidden": true
   },
   "outputs": [
    {
     "data": {
      "text/plain": [
       "array([0, 0, 1, 1, 6, 6, 1, 1, 0, 1, 0, 1, 1, 1, 1, 0, 0, 0, 1, 0, 1, 1,\n",
       "       1, 0, 1, 1, 1, 1, 1, 1, 2, 0, 1, 1, 0, 1, 1, 0, 0, 1, 0, 1, 1, 6,\n",
       "       0, 1, 1, 0, 0, 0, 1, 1, 0, 1, 1, 0, 1, 1, 1, 5, 1, 1, 0, 1, 2, 1,\n",
       "       1, 1, 0, 5, 1, 0, 2, 1, 1, 1, 6, 1, 1, 0, 1, 1, 1, 0, 1, 1, 6, 0,\n",
       "       0, 0, 0, 1, 2, 0, 0, 0, 1, 0, 0, 1])"
      ]
     },
     "execution_count": 39,
     "metadata": {},
     "output_type": "execute_result"
    }
   ],
   "source": [
    "predicted[:100]"
   ]
  },
  {
   "cell_type": "code",
   "execution_count": 40,
   "metadata": {
    "hidden": true
   },
   "outputs": [
    {
     "data": {
      "text/plain": [
       "0.7185787229159893"
      ]
     },
     "execution_count": 40,
     "metadata": {},
     "output_type": "execute_result"
    }
   ],
   "source": [
    "accuracy_score(y_train-1, predicted)"
   ]
  },
  {
   "cell_type": "code",
   "execution_count": 41,
   "metadata": {
    "hidden": true
   },
   "outputs": [
    {
     "data": {
      "text/plain": [
       "array([0, 1, 1, ..., 0, 1, 0], dtype=int32)"
      ]
     },
     "execution_count": 41,
     "metadata": {},
     "output_type": "execute_result"
    }
   ],
   "source": [
    "y_train-1"
   ]
  },
  {
   "cell_type": "markdown",
   "metadata": {},
   "source": [
    "# Stochastic Proximal Gradient"
   ]
  },
  {
   "cell_type": "code",
   "execution_count": 379,
   "metadata": {
    "scrolled": true
   },
   "outputs": [
    {
     "data": {
      "text/plain": [
       "<module 'proximal' from '/media/yu-guan/DATA/works/ens/MVA/Courses/DataScience/project/src/proximal.py'>"
      ]
     },
     "execution_count": 379,
     "metadata": {},
     "output_type": "execute_result"
    }
   ],
   "source": [
    "import importlib\n",
    "importlib.reload(fista)\n",
    "importlib.reload(proximal)"
   ]
  },
  {
   "cell_type": "code",
   "execution_count": 402,
   "metadata": {},
   "outputs": [],
   "source": [
    "%run lasso_cls.py"
   ]
  },
  {
   "cell_type": "markdown",
   "metadata": {
    "heading_collapsed": true
   },
   "source": [
    "## Fixed batch size"
   ]
  },
  {
   "cell_type": "markdown",
   "metadata": {
    "hidden": true
   },
   "source": [
    "### Decreasing learning rate"
   ]
  },
  {
   "cell_type": "code",
   "execution_count": 381,
   "metadata": {
    "hidden": true
   },
   "outputs": [],
   "source": [
    "model = Linear(54, 7).cuda()\n",
    "\n",
    "clf_stoch = ClassifierLasso(\n",
    "    model,\n",
    "    torch.tensor(X_train).float().cuda(),\n",
    "    torch.tensor(y_train).long().cuda() - 1,\n",
    "    test_data=torch.tensor(X_test).float().cuda(),\n",
    "    test_target=torch.tensor(y_test).long() - 1,\n",
    "    regularize_idxs=[0])"
   ]
  },
  {
   "cell_type": "code",
   "execution_count": 382,
   "metadata": {
    "hidden": true,
    "scrolled": true
   },
   "outputs": [
    {
     "name": "stdout",
     "output_type": "stream",
     "text": [
      "Iteration 200\n",
      "CE Loss: 0.7000328302383423\n",
      "L1 Loss: 0.042583171844482424\n",
      "Test Accuracy: 70.95%\n",
      "Iteration 400\n",
      "CE Loss: 0.653309166431427\n",
      "L1 Loss: 0.04366099548339844\n",
      "Test Accuracy: 71.33%\n",
      "Iteration 600\n",
      "CE Loss: 0.6785364747047424\n",
      "L1 Loss: 0.04448578262329102\n",
      "Test Accuracy: 71.68%\n",
      "Iteration 800\n",
      "CE Loss: 0.679518461227417\n",
      "L1 Loss: 0.04479171371459961\n",
      "Test Accuracy: 71.86%\n",
      "Iteration 1000\n",
      "CE Loss: 0.6905323266983032\n",
      "L1 Loss: 0.04501109695434571\n",
      "Test Accuracy: 72.03%\n",
      "Iteration 1200\n",
      "CE Loss: 0.6516991257667542\n",
      "L1 Loss: 0.04546907043457031\n",
      "Test Accuracy: 71.73%\n",
      "Iteration 1400\n",
      "CE Loss: 0.6443371772766113\n",
      "L1 Loss: 0.045633323669433595\n",
      "Test Accuracy: 71.89%\n",
      "Iteration 1600\n",
      "CE Loss: 0.6396390795707703\n",
      "L1 Loss: 0.045737312316894534\n",
      "Test Accuracy: 71.76%\n",
      "Iteration 1800\n",
      "CE Loss: 0.670668363571167\n",
      "L1 Loss: 0.04602349090576172\n",
      "Test Accuracy: 72.01%\n",
      "Iteration 2000\n",
      "CE Loss: 0.7211859226226807\n",
      "L1 Loss: 0.045948028564453125\n",
      "Test Accuracy: 72.25%\n",
      "Iteration 2200\n",
      "CE Loss: 0.6379677653312683\n",
      "L1 Loss: 0.04602549743652344\n",
      "Test Accuracy: 72.02%\n",
      "Iteration 2400\n",
      "CE Loss: 0.7504439949989319\n",
      "L1 Loss: 0.04610242462158203\n",
      "Test Accuracy: 72.22%\n",
      "Iteration 2600\n",
      "CE Loss: 0.6734605431556702\n",
      "L1 Loss: 0.046223445892333986\n",
      "Test Accuracy: 72.06%\n",
      "Iteration 2800\n",
      "CE Loss: 0.6464598178863525\n",
      "L1 Loss: 0.04611635971069336\n",
      "Test Accuracy: 72.00%\n",
      "Iteration 3000\n",
      "CE Loss: 0.7219189405441284\n",
      "L1 Loss: 0.046171951293945315\n",
      "Test Accuracy: 72.18%\n",
      "Iteration 3200\n",
      "CE Loss: 0.6381509304046631\n",
      "L1 Loss: 0.04612255859375\n",
      "Test Accuracy: 72.13%\n",
      "Iteration 3400\n",
      "CE Loss: 0.6520852446556091\n",
      "L1 Loss: 0.04617587661743164\n",
      "Test Accuracy: 72.00%\n",
      "Iteration 3600\n",
      "CE Loss: 0.6529163718223572\n",
      "L1 Loss: 0.04618310165405273\n",
      "Test Accuracy: 72.24%\n",
      "Iteration 3800\n",
      "CE Loss: 0.65857994556427\n",
      "L1 Loss: 0.04620346069335938\n",
      "Test Accuracy: 72.03%\n",
      "Iteration 4000\n",
      "CE Loss: 0.654938280582428\n",
      "L1 Loss: 0.04637170791625977\n",
      "Test Accuracy: 71.96%\n",
      "Iteration 4200\n",
      "CE Loss: 0.6880051493644714\n",
      "L1 Loss: 0.04622484588623047\n",
      "Test Accuracy: 72.05%\n",
      "Iteration 4400\n",
      "CE Loss: 0.7420693635940552\n",
      "L1 Loss: 0.046534156799316405\n",
      "Test Accuracy: 72.16%\n",
      "Iteration 4600\n",
      "CE Loss: 0.6417078375816345\n",
      "L1 Loss: 0.04631558227539063\n",
      "Test Accuracy: 72.11%\n"
     ]
    }
   ],
   "source": [
    "clf_stoch.train(\n",
    "    4622,\n",
    "    lambda k: 10 / (k + 1)**0.5,\n",
    "    1e-3,\n",
    "    batch_size=500,\n",
    "    test=True,\n",
    "    print_interval=200,\n",
    "    store_params=True,\n",
    "    save_full_loss=True)"
   ]
  },
  {
   "cell_type": "code",
   "execution_count": 385,
   "metadata": {
    "hidden": true
   },
   "outputs": [
    {
     "data": {
      "text/plain": [
       "tensor(212, device='cuda:0')"
      ]
     },
     "execution_count": 385,
     "metadata": {},
     "output_type": "execute_result"
    }
   ],
   "source": [
    "params = clf_stoch.params_his[-1]\n",
    "torch.sum(params[0] == 0)"
   ]
  },
  {
   "cell_type": "code",
   "execution_count": 388,
   "metadata": {
    "hidden": true
   },
   "outputs": [
    {
     "data": {
      "image/png": "[encoded data removed]",
      "text/plain": [
       "<Figure size 432x288 with 1 Axes>"
      ]
     },
     "metadata": {
      "needs_background": "light"
     },
     "output_type": "display_data"
    }
   ],
   "source": [
    "plot_relative_err(clf_stoch, 'decay lr + cst batch size', n_simulations=2000, div=1000)\n",
    "plt.yscale('log')"
   ]
  },
  {
   "cell_type": "code",
   "execution_count": 397,
   "metadata": {
    "hidden": true
   },
   "outputs": [
    {
     "data": {
      "image/png": "[encoded data removed]",
      "text/plain": [
       "<Figure size 432x288 with 1 Axes>"
      ]
     },
     "metadata": {
      "needs_background": "light"
     },
     "output_type": "display_data"
    }
   ],
   "source": [
    "plot_sparsity_f1_scores(clf_stoch, 'decay lr + cst batch size', div=1000)"
   ]
  },
  {
   "cell_type": "code",
   "execution_count": 389,
   "metadata": {
    "hidden": true
   },
   "outputs": [
    {
     "data": {
      "image/png": "[encoded data removed]",
      "text/plain": [
       "<Figure size 432x288 with 1 Axes>"
      ]
     },
     "metadata": {
      "needs_background": "light"
     },
     "output_type": "display_data"
    }
   ],
   "source": [
    "plot_full_losses(clf_stoch, 'decay lr + cst batch size', n_simulations=2000, div=1000)\n",
    "plt.yscale('log')"
   ]
  },
  {
   "cell_type": "code",
   "execution_count": 393,
   "metadata": {
    "hidden": true
   },
   "outputs": [
    {
     "data": {
      "image/png": "[encoded data removed]",
      "text/plain": [
       "<Figure size 432x288 with 1 Axes>"
      ]
     },
     "metadata": {
      "needs_background": "light"
     },
     "output_type": "display_data"
    }
   ],
   "source": [
    "plot_test_accuracies(clf_stoch, 'decay lr + cst batch size', n_simulations=2000, div=1000)"
   ]
  },
  {
   "cell_type": "markdown",
   "metadata": {
    "hidden": true
   },
   "source": [
    "### Constant learning rate"
   ]
  },
  {
   "cell_type": "code",
   "execution_count": 395,
   "metadata": {
    "hidden": true
   },
   "outputs": [],
   "source": [
    "model = Linear(54, 7).cuda()\n",
    "\n",
    "clf_stoch_cstlr = ClassifierLasso(\n",
    "    model,\n",
    "    torch.tensor(X_train).float().cuda(),\n",
    "    torch.tensor(y_train).long().cuda() - 1,\n",
    "    test_data=torch.tensor(X_test).float().cuda(),\n",
    "    test_target=torch.tensor(y_test).long() - 1,\n",
    "    regularize_idxs=[0])"
   ]
  },
  {
   "cell_type": "code",
   "execution_count": 396,
   "metadata": {
    "hidden": true,
    "scrolled": true
   },
   "outputs": [
    {
     "name": "stdout",
     "output_type": "stream",
     "text": [
      "Iteration 200\n",
      "CE Loss: 0.7347984910011292\n",
      "L1 Loss: 0.04325235366821289\n",
      "Test Accuracy: 71.42%\n",
      "Iteration 400\n",
      "CE Loss: 0.6640816330909729\n",
      "L1 Loss: 0.04558443832397461\n",
      "Test Accuracy: 71.02%\n",
      "Iteration 600\n",
      "CE Loss: 0.652329683303833\n",
      "L1 Loss: 0.04631781005859375\n",
      "Test Accuracy: 71.48%\n",
      "Iteration 800\n",
      "CE Loss: 0.7075623869895935\n",
      "L1 Loss: 0.047008094787597654\n",
      "Test Accuracy: 71.31%\n",
      "Iteration 1000\n",
      "CE Loss: 0.6788754463195801\n",
      "L1 Loss: 0.04697370147705078\n",
      "Test Accuracy: 71.52%\n",
      "Iteration 1200\n",
      "CE Loss: 0.6247581243515015\n",
      "L1 Loss: 0.04675658416748047\n",
      "Test Accuracy: 72.06%\n",
      "Iteration 1400\n",
      "CE Loss: 0.6340600252151489\n",
      "L1 Loss: 0.04695229721069336\n",
      "Test Accuracy: 71.38%\n",
      "Iteration 1600\n",
      "CE Loss: 0.6849687099456787\n",
      "L1 Loss: 0.04734399032592774\n",
      "Test Accuracy: 71.53%\n",
      "Iteration 1800\n",
      "CE Loss: 0.7038637399673462\n",
      "L1 Loss: 0.04724639129638672\n",
      "Test Accuracy: 72.14%\n",
      "Iteration 2000\n",
      "CE Loss: 0.6718851923942566\n",
      "L1 Loss: 0.04721126937866211\n",
      "Test Accuracy: 71.77%\n",
      "Iteration 2200\n",
      "CE Loss: 0.6419132947921753\n",
      "L1 Loss: 0.047601768493652344\n",
      "Test Accuracy: 71.98%\n",
      "Iteration 2400\n",
      "CE Loss: 0.6171277761459351\n",
      "L1 Loss: 0.047477024078369144\n",
      "Test Accuracy: 72.00%\n",
      "Iteration 2600\n",
      "CE Loss: 0.7092198133468628\n",
      "L1 Loss: 0.046982177734375\n",
      "Test Accuracy: 71.67%\n",
      "Iteration 2800\n",
      "CE Loss: 0.6692091822624207\n",
      "L1 Loss: 0.047126399993896485\n",
      "Test Accuracy: 72.08%\n",
      "Iteration 3000\n",
      "CE Loss: 0.656109094619751\n",
      "L1 Loss: 0.04636350250244141\n",
      "Test Accuracy: 72.04%\n",
      "Iteration 3200\n",
      "CE Loss: 0.6186155080795288\n",
      "L1 Loss: 0.04685654449462891\n",
      "Test Accuracy: 72.17%\n",
      "Iteration 3400\n",
      "CE Loss: 0.6229338645935059\n",
      "L1 Loss: 0.04725940704345703\n",
      "Test Accuracy: 71.53%\n",
      "Iteration 3600\n",
      "CE Loss: 0.6644465327262878\n",
      "L1 Loss: 0.04654187393188477\n",
      "Test Accuracy: 71.27%\n",
      "Iteration 3800\n",
      "CE Loss: 0.7001094818115234\n",
      "L1 Loss: 0.04751497650146484\n",
      "Test Accuracy: 72.17%\n",
      "Iteration 4000\n",
      "CE Loss: 0.6459635496139526\n",
      "L1 Loss: 0.04763401794433594\n",
      "Test Accuracy: 71.90%\n",
      "Iteration 4200\n",
      "CE Loss: 0.6801990270614624\n",
      "L1 Loss: 0.047177581787109374\n",
      "Test Accuracy: 71.08%\n",
      "Iteration 4400\n",
      "CE Loss: 0.6452383399009705\n",
      "L1 Loss: 0.047110321044921875\n",
      "Test Accuracy: 71.77%\n",
      "Iteration 4600\n",
      "CE Loss: 0.67091304063797\n",
      "L1 Loss: 0.04670165252685547\n",
      "Test Accuracy: 71.54%\n"
     ]
    }
   ],
   "source": [
    "clf_stoch_cstlr.train(\n",
    "    4622,\n",
    "    1.4,\n",
    "    1e-3,\n",
    "    batch_size=500,\n",
    "    test=True,\n",
    "    print_interval=200,\n",
    "    store_params=True,\n",
    "    save_full_loss=True)"
   ]
  },
  {
   "cell_type": "code",
   "execution_count": 409,
   "metadata": {
    "hidden": true
   },
   "outputs": [
    {
     "data": {
      "text/plain": [
       "tensor(214, device='cuda:0')"
      ]
     },
     "execution_count": 409,
     "metadata": {},
     "output_type": "execute_result"
    }
   ],
   "source": [
    "params = clf_stoch_cstlr.params_his[-1]\n",
    "torch.sum(params[0] == 0)"
   ]
  },
  {
   "cell_type": "code",
   "execution_count": 398,
   "metadata": {
    "hidden": true
   },
   "outputs": [
    {
     "data": {
      "image/png": "[encoded data removed]",
      "text/plain": [
       "<Figure size 432x288 with 1 Axes>"
      ]
     },
     "metadata": {
      "needs_background": "light"
     },
     "output_type": "display_data"
    }
   ],
   "source": [
    "plot_relative_err(clf_stoch_cstlr, 'cst lr + cst batch size', n_simulations=2000, div=1000)\n",
    "plt.yscale('log')"
   ]
  },
  {
   "cell_type": "code",
   "execution_count": 399,
   "metadata": {
    "hidden": true
   },
   "outputs": [
    {
     "data": {
      "image/png": "[encoded data removed]",
      "text/plain": [
       "<Figure size 432x288 with 1 Axes>"
      ]
     },
     "metadata": {
      "needs_background": "light"
     },
     "output_type": "display_data"
    }
   ],
   "source": [
    "plot_sparsity_f1_scores(clf_stoch_cstlr, 'cst lr + cst batch size', div=1000)"
   ]
  },
  {
   "cell_type": "code",
   "execution_count": 400,
   "metadata": {
    "hidden": true
   },
   "outputs": [
    {
     "data": {
      "image/png": "[encoded data removed]",
      "text/plain": [
       "<Figure size 432x288 with 1 Axes>"
      ]
     },
     "metadata": {
      "needs_background": "light"
     },
     "output_type": "display_data"
    }
   ],
   "source": [
    "plot_full_losses(clf_stoch_cstlr, 'cst lr + cst batch size', n_simulations=2000, div=1000)\n",
    "plt.yscale('log')"
   ]
  },
  {
   "cell_type": "code",
   "execution_count": 401,
   "metadata": {
    "hidden": true
   },
   "outputs": [
    {
     "data": {
      "image/png": "[encoded data removed]",
      "text/plain": [
       "<Figure size 432x288 with 1 Axes>"
      ]
     },
     "metadata": {
      "needs_background": "light"
     },
     "output_type": "display_data"
    }
   ],
   "source": [
    "plot_test_accuracies(clf_stoch_cstlr, 'cst lr + cst batch size', n_simulations=2000, div=1000)"
   ]
  },
  {
   "cell_type": "markdown",
   "metadata": {
    "heading_collapsed": true
   },
   "source": [
    "## Increasing batch size"
   ]
  },
  {
   "cell_type": "markdown",
   "metadata": {
    "hidden": true
   },
   "source": [
    "### Constant learning rate"
   ]
  },
  {
   "cell_type": "code",
   "execution_count": 404,
   "metadata": {
    "hidden": true
   },
   "outputs": [],
   "source": [
    "model = Linear(54, 7).cuda()\n",
    "\n",
    "clf_incrb = ClassifierLasso(\n",
    "    model,\n",
    "    torch.tensor(X_train).float().cuda(),\n",
    "    torch.tensor(y_train).long().cuda() - 1,\n",
    "    test_data=torch.tensor(X_test).float().cuda(),\n",
    "    test_target=torch.tensor(y_test).long() - 1,\n",
    "    regularize_idxs=[0])"
   ]
  },
  {
   "cell_type": "code",
   "execution_count": 405,
   "metadata": {
    "hidden": true,
    "scrolled": true
   },
   "outputs": [
    {
     "name": "stdout",
     "output_type": "stream",
     "text": [
      "Iteration 100\n",
      "CE Loss: 0.7064455151557922\n",
      "L1 Loss: 0.03900131225585938\n",
      "Test Accuracy: 70.49%\n",
      "Iteration 200\n",
      "CE Loss: 0.6605717539787292\n",
      "L1 Loss: 0.04257876968383789\n",
      "Test Accuracy: 71.24%\n",
      "Iteration 300\n",
      "CE Loss: 0.678200364112854\n",
      "L1 Loss: 0.044085262298583984\n",
      "Test Accuracy: 71.46%\n",
      "Iteration 400\n",
      "CE Loss: 0.6808790564537048\n",
      "L1 Loss: 0.044622329711914065\n",
      "Test Accuracy: 71.84%\n",
      "Iteration 500\n",
      "CE Loss: 0.6424477696418762\n",
      "L1 Loss: 0.04501096725463867\n",
      "Test Accuracy: 71.85%\n",
      "Iteration 600\n",
      "CE Loss: 0.6556443572044373\n",
      "L1 Loss: 0.045669410705566404\n",
      "Test Accuracy: 71.86%\n",
      "Iteration 700\n",
      "CE Loss: 0.6589584946632385\n",
      "L1 Loss: 0.04581270599365234\n",
      "Test Accuracy: 72.20%\n",
      "Iteration 800\n",
      "CE Loss: 0.6582245230674744\n",
      "L1 Loss: 0.046008018493652346\n",
      "Test Accuracy: 72.00%\n",
      "Iteration 900\n",
      "CE Loss: 0.6524789333343506\n",
      "L1 Loss: 0.045994308471679686\n",
      "Test Accuracy: 72.14%\n",
      "Iteration 1000\n",
      "CE Loss: 0.6668127775192261\n",
      "L1 Loss: 0.04609165573120117\n",
      "Test Accuracy: 72.08%\n"
     ]
    }
   ],
   "source": [
    "clf_incrb.train(\n",
    "    1000,\n",
    "    1.4,\n",
    "    1e-3,\n",
    "    batch_size=lambda k: int(500 + k**1.2),\n",
    "    test=True,\n",
    "    print_interval=100,\n",
    "    store_params=True,\n",
    "    save_full_loss=True)"
   ]
  },
  {
   "cell_type": "code",
   "execution_count": 406,
   "metadata": {
    "hidden": true
   },
   "outputs": [
    {
     "data": {
      "text/plain": [
       "tensor(247, device='cuda:0')"
      ]
     },
     "execution_count": 406,
     "metadata": {},
     "output_type": "execute_result"
    }
   ],
   "source": [
    "params = clf_incrb.params_his[-1]\n",
    "torch.sum(params[0] == 0)"
   ]
  },
  {
   "cell_type": "code",
   "execution_count": 407,
   "metadata": {
    "hidden": true
   },
   "outputs": [
    {
     "data": {
      "text/plain": [
       "2311059"
      ]
     },
     "execution_count": 407,
     "metadata": {},
     "output_type": "execute_result"
    }
   ],
   "source": [
    "clf_incrb.n_used_samples[-1]"
   ]
  },
  {
   "cell_type": "code",
   "execution_count": 408,
   "metadata": {
    "hidden": true
   },
   "outputs": [
    {
     "data": {
      "text/plain": [
       "4622.118"
      ]
     },
     "execution_count": 408,
     "metadata": {},
     "output_type": "execute_result"
    }
   ],
   "source": [
    "2311059/500"
   ]
  },
  {
   "cell_type": "code",
   "execution_count": 410,
   "metadata": {
    "hidden": true
   },
   "outputs": [
    {
     "data": {
      "image/png": "[encoded data removed]",
      "text/plain": [
       "<Figure size 432x288 with 1 Axes>"
      ]
     },
     "metadata": {
      "needs_background": "light"
     },
     "output_type": "display_data"
    }
   ],
   "source": [
    "plot_relative_err(clf_incrb, 'cst lr + incr batch size', n_simulations=2000, div=1000)\n",
    "plt.yscale('log')"
   ]
  },
  {
   "cell_type": "code",
   "execution_count": 412,
   "metadata": {
    "hidden": true
   },
   "outputs": [
    {
     "data": {
      "image/png": "[encoded data removed]",
      "text/plain": [
       "<Figure size 432x288 with 1 Axes>"
      ]
     },
     "metadata": {
      "needs_background": "light"
     },
     "output_type": "display_data"
    }
   ],
   "source": [
    "plot_sparsity_f1_scores(clf_incrb, 'cst lr + incr batch size', div=1000)"
   ]
  },
  {
   "cell_type": "code",
   "execution_count": 413,
   "metadata": {
    "hidden": true
   },
   "outputs": [
    {
     "data": {
      "image/png": "[encoded data removed]",
      "text/plain": [
       "<Figure size 432x288 with 1 Axes>"
      ]
     },
     "metadata": {
      "needs_background": "light"
     },
     "output_type": "display_data"
    }
   ],
   "source": [
    "plot_full_losses(clf_incrb, 'cst lr + incr batch size', n_simulations=2000, div=1000)\n",
    "plt.yscale('log')"
   ]
  },
  {
   "cell_type": "code",
   "execution_count": 414,
   "metadata": {
    "hidden": true
   },
   "outputs": [
    {
     "data": {
      "image/png": "[encoded data removed]",
      "text/plain": [
       "<Figure size 432x288 with 1 Axes>"
      ]
     },
     "metadata": {
      "needs_background": "light"
     },
     "output_type": "display_data"
    }
   ],
   "source": [
    "plot_test_accuracies(clf_incrb, 'cst lr + incr batch size', n_simulations=2000, div=1000)"
   ]
  },
  {
   "cell_type": "markdown",
   "metadata": {
    "hidden": true
   },
   "source": [
    "### Decay learning rate"
   ]
  },
  {
   "cell_type": "code",
   "execution_count": 415,
   "metadata": {
    "hidden": true
   },
   "outputs": [],
   "source": [
    "model = Linear(54, 7).cuda()\n",
    "\n",
    "clf_incrb_declr = ClassifierLasso(\n",
    "    model,\n",
    "    torch.tensor(X_train).float().cuda(),\n",
    "    torch.tensor(y_train).long().cuda() - 1,\n",
    "    test_data=torch.tensor(X_test).float().cuda(),\n",
    "    test_target=torch.tensor(y_test).long() - 1,\n",
    "    regularize_idxs=[0])"
   ]
  },
  {
   "cell_type": "code",
   "execution_count": 416,
   "metadata": {
    "hidden": true,
    "scrolled": true
   },
   "outputs": [
    {
     "name": "stdout",
     "output_type": "stream",
     "text": [
      "Iteration 100\n",
      "CE Loss: 0.7073736190795898\n",
      "L1 Loss: 0.04102316284179688\n",
      "Test Accuracy: 70.92%\n",
      "Iteration 200\n",
      "CE Loss: 0.6768819689750671\n",
      "L1 Loss: 0.043088081359863285\n",
      "Test Accuracy: 71.31%\n",
      "Iteration 300\n",
      "CE Loss: 0.6782028079032898\n",
      "L1 Loss: 0.043743377685546876\n",
      "Test Accuracy: 71.69%\n",
      "Iteration 400\n",
      "CE Loss: 0.6975076794624329\n",
      "L1 Loss: 0.04428735733032227\n",
      "Test Accuracy: 71.52%\n",
      "Iteration 500\n",
      "CE Loss: 0.6759735941886902\n",
      "L1 Loss: 0.044470130920410154\n",
      "Test Accuracy: 71.57%\n",
      "Iteration 600\n",
      "CE Loss: 0.6620384454727173\n",
      "L1 Loss: 0.04455526733398438\n",
      "Test Accuracy: 71.76%\n",
      "Iteration 700\n",
      "CE Loss: 0.6603615880012512\n",
      "L1 Loss: 0.04471775436401367\n",
      "Test Accuracy: 71.91%\n",
      "Iteration 800\n",
      "CE Loss: 0.6826892495155334\n",
      "L1 Loss: 0.044797664642333986\n",
      "Test Accuracy: 71.85%\n",
      "Iteration 900\n",
      "CE Loss: 0.6782093644142151\n",
      "L1 Loss: 0.0448069076538086\n",
      "Test Accuracy: 71.94%\n",
      "Iteration 1000\n",
      "CE Loss: 0.658912718296051\n",
      "L1 Loss: 0.045069675445556644\n",
      "Test Accuracy: 71.85%\n"
     ]
    }
   ],
   "source": [
    "clf_incrb_declr.train(\n",
    "    1000,\n",
    "    lambda k: 10/(k+1)**0.5,\n",
    "    1e-3,\n",
    "    batch_size=lambda k: int(500 + k**1.2),\n",
    "    test=True,\n",
    "    print_interval=100,\n",
    "    store_params=True,\n",
    "    save_full_loss=True)"
   ]
  },
  {
   "cell_type": "code",
   "execution_count": 341,
   "metadata": {
    "hidden": true
   },
   "outputs": [
    {
     "data": {
      "text/plain": [
       "tensor(235, device='cuda:0')"
      ]
     },
     "execution_count": 341,
     "metadata": {},
     "output_type": "execute_result"
    }
   ],
   "source": [
    "params = clf_incrb_declr.params_his[-1]\n",
    "torch.sum(params[0] == 0)"
   ]
  },
  {
   "cell_type": "code",
   "execution_count": 417,
   "metadata": {
    "hidden": true
   },
   "outputs": [
    {
     "data": {
      "image/png": "[encoded data removed]",
      "text/plain": [
       "<Figure size 432x288 with 1 Axes>"
      ]
     },
     "metadata": {
      "needs_background": "light"
     },
     "output_type": "display_data"
    }
   ],
   "source": [
    "plot_relative_err(clf_incrb_declr, 'decay lr + incr batch size', n_simulations=2000, div=1000)\n",
    "plt.yscale('log')"
   ]
  },
  {
   "cell_type": "code",
   "execution_count": 418,
   "metadata": {
    "hidden": true
   },
   "outputs": [
    {
     "data": {
      "image/png": "[encoded data removed]",
      "text/plain": [
       "<Figure size 432x288 with 1 Axes>"
      ]
     },
     "metadata": {
      "needs_background": "light"
     },
     "output_type": "display_data"
    }
   ],
   "source": [
    "plot_sparsity_f1_scores(clf_incrb_declr, 'decay lr + incr batch size', div=1000)"
   ]
  },
  {
   "cell_type": "code",
   "execution_count": 419,
   "metadata": {
    "hidden": true
   },
   "outputs": [
    {
     "data": {
      "image/png": "[encoded data removed]",
      "text/plain": [
       "<Figure size 432x288 with 1 Axes>"
      ]
     },
     "metadata": {
      "needs_background": "light"
     },
     "output_type": "display_data"
    }
   ],
   "source": [
    "plot_full_losses(clf_incrb_declr, 'decay lr + incr batch size', n_simulations=2000, div=1000)\n",
    "plt.yscale('log')"
   ]
  },
  {
   "cell_type": "code",
   "execution_count": 420,
   "metadata": {
    "hidden": true
   },
   "outputs": [
    {
     "data": {
      "image/png": "[encoded data removed]",
      "text/plain": [
       "<Figure size 432x288 with 1 Axes>"
      ]
     },
     "metadata": {
      "needs_background": "light"
     },
     "output_type": "display_data"
    }
   ],
   "source": [
    "plot_test_accuracies(clf_incrb_declr, 'decay lr + incr batch size', n_simulations=2000, div=1000)"
   ]
  },
  {
   "cell_type": "markdown",
   "metadata": {},
   "source": [
    "## Comparison"
   ]
  },
  {
   "cell_type": "code",
   "execution_count": 450,
   "metadata": {},
   "outputs": [],
   "source": [
    "import seaborn as sns\n",
    "\n",
    "sns.set()"
   ]
  },
  {
   "cell_type": "code",
   "execution_count": 421,
   "metadata": {},
   "outputs": [],
   "source": [
    "plt.rcParams.update({'font.size': 14})"
   ]
  },
  {
   "cell_type": "code",
   "execution_count": 459,
   "metadata": {},
   "outputs": [
    {
     "data": {
      "image/png": "[encoded data removed]",
      "text/plain": [
       "<Figure size 432x288 with 1 Axes>"
      ]
     },
     "metadata": {},
     "output_type": "display_data"
    }
   ],
   "source": [
    "plot_relative_err(clf_stoch, 'decay lr + cst batch size', n_simulations=2000, div=1000)\n",
    "plot_relative_err(clf_stoch_cstlr, 'cst lr + cst batch size', n_simulations=2000, div=1000)\n",
    "plot_relative_err(clf_incrb, 'cst lr + incr batch size', n_simulations=2000, div=1000)\n",
    "plot_relative_err(clf_incrb_declr, 'decay lr + incr batch size', n_simulations=2000, div=1000)\n",
    "\n",
    "# plt.title('Relative error of the iterates')\n",
    "plt.xlabel('#samples/1000')\n",
    "plt.ylabel(r'$\\|\\theta_n-\\theta_{\\infty}\\|/\\|\\theta_{\\infty}\\|$')\n",
    "plt.yscale('log')\n",
    "plt.legend(prop={'size': 10})\n",
    "plt.tight_layout()"
   ]
  },
  {
   "cell_type": "code",
   "execution_count": 460,
   "metadata": {},
   "outputs": [
    {
     "data": {
      "image/png": "[encoded data removed]",
      "text/plain": [
       "<Figure size 432x288 with 1 Axes>"
      ]
     },
     "metadata": {},
     "output_type": "display_data"
    }
   ],
   "source": [
    "plot_full_losses(clf_stoch, 'decay lr + cst batch size', n_simulations=2000, div=1000)\n",
    "plot_full_losses(clf_stoch_cstlr, 'cst lr + cst batch size', n_simulations=2000, div=1000, alpha=0.7)\n",
    "plot_full_losses(clf_incrb, 'cst lr + incr batch size', n_simulations=2000, div=1000, alpha=0.7)\n",
    "plot_full_losses(clf_incrb_declr, 'decay lr + incr batch size', n_simulations=2000, div=1000)\n",
    "\n",
    "# plt.title('Relative error of the iterates')\n",
    "plt.xlabel('#samples/1000')\n",
    "plt.ylabel(r'$F(\\theta_n)-F(\\theta^*)$')\n",
    "plt.yscale('log')\n",
    "plt.legend(prop={'size': 10})\n",
    "plt.tight_layout()"
   ]
  },
  {
   "cell_type": "code",
   "execution_count": 461,
   "metadata": {},
   "outputs": [
    {
     "data": {
      "image/png": "[encoded data removed]",
      "text/plain": [
       "<Figure size 432x288 with 1 Axes>"
      ]
     },
     "metadata": {},
     "output_type": "display_data"
    }
   ],
   "source": [
    "plot_sparsity_f1_scores(clf_stoch, 'decay lr + cst batch size', div=1000, alpha=0.9)\n",
    "plot_sparsity_f1_scores(clf_stoch_cstlr, 'cst lr + cst batch size', div=1000, alpha=0.6)\n",
    "plot_sparsity_f1_scores(clf_incrb, 'cst lr + incr batch size', div=1000, alpha=0.5)\n",
    "plot_sparsity_f1_scores(clf_incrb_declr, 'decay lr + incr batch size', div=1000, alpha=0.9)\n",
    "\n",
    "# plt.title('Relative error of the iterates')\n",
    "plt.xlabel('#samples/1000')\n",
    "plt.ylabel('F1 score for sparsity recovery')\n",
    "plt.legend(prop={'size': 10})\n",
    "plt.tight_layout()"
   ]
  },
  {
   "cell_type": "code",
   "execution_count": 462,
   "metadata": {},
   "outputs": [
    {
     "data": {
      "image/png": "[encoded data removed]",
      "text/plain": [
       "<Figure size 432x288 with 1 Axes>"
      ]
     },
     "metadata": {},
     "output_type": "display_data"
    }
   ],
   "source": [
    "plot_test_accuracies(clf_stoch, 'decay lr + cst batch size', n_simulations=2000, div=1000)\n",
    "plot_test_accuracies(clf_stoch_cstlr, 'cst lr + cst batch size', n_simulations=2000, div=1000, alpha=0.7)\n",
    "plot_test_accuracies(clf_incrb, 'cst lr + incr batch size', n_simulations=2000, div=1000)\n",
    "plot_test_accuracies(clf_incrb_declr, 'decay lr + incr batch size', n_simulations=2000, div=1000)\n",
    "\n",
    "# plt.title('Relative error of the iterates')\n",
    "plt.xlabel('#samples/1000')\n",
    "plt.ylabel('Test accuracy')\n",
    "plt.legend(prop={'size': 10})\n",
    "plt.tight_layout()"
   ]
  },
  {
   "cell_type": "code",
   "execution_count": 463,
   "metadata": {},
   "outputs": [
    {
     "data": {
      "image/png": "[encoded data removed]",
      "text/plain": [
       "<Figure size 432x288 with 1 Axes>"
      ]
     },
     "metadata": {},
     "output_type": "display_data"
    }
   ],
   "source": [
    "supports = []\n",
    "supports.append(\n",
    "    clf_stoch.params_his[-1][0].cpu().detach().numpy().reshape(-1))\n",
    "supports.append(\n",
    "    clf_stoch_cstlr.params_his[-1][0].cpu().detach().numpy().reshape(-1))\n",
    "supports.append(\n",
    "    clf_incrb.params_his[-1][0].cpu().detach().numpy().reshape(-1))\n",
    "supports.append(\n",
    "    clf_incrb_declr.params_his[-1][0].cpu().detach().numpy().reshape(-1))\n",
    "plt.eventplot(np.array(supports), colors=[[0,0,0]], linelengths=0.9, linewidths=0.5)\n",
    "ax = plt.gca()\n",
    "ax.xaxis.set_visible(False)\n",
    "ax.yaxis.set_visible(False)\n",
    "plt.margins(None, 0)\n",
    "plt.tight_layout()"
   ]
  },
  {
   "cell_type": "code",
   "execution_count": null,
   "metadata": {},
   "outputs": [],
   "source": []
  }
 ],
 "metadata": {
  "kernelspec": {
   "display_name": "Python 3",
   "language": "python",
   "name": "python3"
  },
  "language_info": {
   "codemirror_mode": {
    "name": "ipython",
    "version": 3
   },
   "file_extension": ".py",
   "mimetype": "text/x-python",
   "name": "python",
   "nbconvert_exporter": "python",
   "pygments_lexer": "ipython3",
   "version": "3.6.7"
  }
 },
 "nbformat": 4,
 "nbformat_minor": 2
}
